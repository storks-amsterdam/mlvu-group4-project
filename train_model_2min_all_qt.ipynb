{
  "cells": [
    {
      "cell_type": "code",
      "execution_count": 3,
      "metadata": {
        "executionInfo": {
          "elapsed": 918,
          "status": "ok",
          "timestamp": 1711830886734,
          "user": {
            "displayName": "",
            "userId": ""
          },
          "user_tz": -60
        },
        "id": "GFe81qWC0VdC"
      },
      "outputs": [],
      "source": [
        "import pandas as pd\n",
        "from sqlalchemy import create_engine, text\n",
        "import os\n"
      ]
    },
    {
      "cell_type": "code",
      "execution_count": 4,
      "metadata": {
        "executionInfo": {
          "elapsed": 1118,
          "status": "ok",
          "timestamp": 1711830887850,
          "user": {
            "displayName": "",
            "userId": ""
          },
          "user_tz": -60
        },
        "id": "AmP8g3A40XIb"
      },
      "outputs": [],
      "source": [
        "user = os.environ.get(\"DB_USER\")\n",
        "pw = os.environ.get(\"DB_PASSWORD\")\n",
        "db = os.environ.get(\"DB_USER\")\n",
        "host = os.environ.get(\"DB_HOST\")\n",
        "port = os.environ.get(\"DB_PORT\")\n",
        "\n",
        "\n",
        "uri = f\"postgresql+psycopg2://{user}:{pw}@{host}:{port}/{db}\"\n",
        "engine = create_engine(uri)\n"
      ]
    },
    {
      "cell_type": "code",
      "execution_count": 5,
      "metadata": {
        "executionInfo": {
          "elapsed": 1794,
          "status": "ok",
          "timestamp": 1711830889639,
          "user": {
            "displayName": "",
            "userId": ""
          },
          "user_tz": -60
        },
        "id": "sNs5Vy0u0XOc"
      },
      "outputs": [],
      "source": [
        "query = text(\"SELECT * FROM records_2min_clean;\")\n",
        "conn = engine.connect()\n",
        "df = pd.read_sql(query, conn)\n",
        "conn.close()"
      ]
    },
    {
      "cell_type": "code",
      "execution_count": 6,
      "metadata": {
        "colab": {
          "base_uri": "https://localhost:8080/"
        },
        "executionInfo": {
          "elapsed": 55,
          "status": "ok",
          "timestamp": 1711830889640,
          "user": {
            "displayName": "",
            "userId": ""
          },
          "user_tz": -60
        },
        "id": "WQGs51p4p1yG",
        "outputId": "8281d7b8-b737-4594-c849-80068f7c6afb"
      },
      "outputs": [
        {
          "data": {
            "text/plain": [
              "Index(['time', 'device_id', 'mass_concentration_pm1p0',\n",
              "       'mass_concentration_pm2p5', 'mass_concentration_pm4p0',\n",
              "       'mass_concentration_pm10p0', 'ambient_humidity', 'ambient_temperature',\n",
              "       'voc_index', 'nox_index', 'hour', 'minute_of_hour', 'day_of_week',\n",
              "       'day_name'],\n",
              "      dtype='object')"
            ]
          },
          "execution_count": 6,
          "metadata": {},
          "output_type": "execute_result"
        }
      ],
      "source": [
        "df.columns"
      ]
    },
    {
      "cell_type": "code",
      "execution_count": 7,
      "metadata": {
        "colab": {
          "base_uri": "https://localhost:8080/"
        },
        "executionInfo": {
          "elapsed": 50,
          "status": "ok",
          "timestamp": 1711830889641,
          "user": {
            "displayName": "",
            "userId": ""
          },
          "user_tz": -60
        },
        "id": "QJzvij2u0uTw",
        "outputId": "80e7505a-44bd-4844-ac04-6a371c910865"
      },
      "outputs": [
        {
          "name": "stdout",
          "output_type": "stream",
          "text": [
            "102760\n"
          ]
        }
      ],
      "source": [
        "cols = ['mass_concentration_pm1p0', 'mass_concentration_pm2p5', 'mass_concentration_pm4p0', 'mass_concentration_pm10p0']\n",
        "print(len(df))\n",
        "\n",
        "for col in cols:\n",
        "  df.loc[df[col] > 100, col] = 100\n"
      ]
    },
    {
      "cell_type": "code",
      "execution_count": 8,
      "metadata": {
        "executionInfo": {
          "elapsed": 44,
          "status": "ok",
          "timestamp": 1711830889642,
          "user": {
            "displayName": "",
            "userId": ""
          },
          "user_tz": -60
        },
        "id": "j8jLQxzNqS93"
      },
      "outputs": [],
      "source": [
        "df.loc[df['nox_index'] > 10, 'nox_index'] = 10"
      ]
    },
    {
      "cell_type": "code",
      "execution_count": 9,
      "metadata": {
        "colab": {
          "base_uri": "https://localhost:8080/",
          "height": 300
        },
        "executionInfo": {
          "elapsed": 776,
          "status": "ok",
          "timestamp": 1711830890389,
          "user": {
            "displayName": "",
            "userId": ""
          },
          "user_tz": -60
        },
        "id": "TC-KWBe9qt9q",
        "outputId": "dbc22279-c6cd-4f51-f9ee-f86418ad28c5"
      },
      "outputs": [
        {
          "data": {
            "text/html": [
              "\n",
              "  <div id=\"df-14018e33-ac32-48b0-aa85-d76611570dbf\" class=\"colab-df-container\">\n",
              "    <div>\n",
              "<style scoped>\n",
              "    .dataframe tbody tr th:only-of-type {\n",
              "        vertical-align: middle;\n",
              "    }\n",
              "\n",
              "    .dataframe tbody tr th {\n",
              "        vertical-align: top;\n",
              "    }\n",
              "\n",
              "    .dataframe thead th {\n",
              "        text-align: right;\n",
              "    }\n",
              "</style>\n",
              "<table border=\"1\" class=\"dataframe\">\n",
              "  <thead>\n",
              "    <tr style=\"text-align: right;\">\n",
              "      <th></th>\n",
              "      <th>device_id</th>\n",
              "      <th>mass_concentration_pm1p0</th>\n",
              "      <th>mass_concentration_pm2p5</th>\n",
              "      <th>mass_concentration_pm4p0</th>\n",
              "      <th>mass_concentration_pm10p0</th>\n",
              "      <th>ambient_humidity</th>\n",
              "      <th>ambient_temperature</th>\n",
              "      <th>voc_index</th>\n",
              "      <th>nox_index</th>\n",
              "      <th>hour</th>\n",
              "      <th>minute_of_hour</th>\n",
              "      <th>day_of_week</th>\n",
              "    </tr>\n",
              "  </thead>\n",
              "  <tbody>\n",
              "    <tr>\n",
              "      <th>count</th>\n",
              "      <td>102760.000000</td>\n",
              "      <td>102760.000000</td>\n",
              "      <td>102760.000000</td>\n",
              "      <td>102760.000000</td>\n",
              "      <td>102760.000000</td>\n",
              "      <td>101627.000000</td>\n",
              "      <td>101627.000000</td>\n",
              "      <td>101627.000000</td>\n",
              "      <td>101627.000000</td>\n",
              "      <td>102760.000000</td>\n",
              "      <td>102760.000000</td>\n",
              "      <td>102760.000000</td>\n",
              "    </tr>\n",
              "    <tr>\n",
              "      <th>mean</th>\n",
              "      <td>34.701781</td>\n",
              "      <td>13.359427</td>\n",
              "      <td>14.588962</td>\n",
              "      <td>15.082623</td>\n",
              "      <td>15.324259</td>\n",
              "      <td>74.343252</td>\n",
              "      <td>10.392810</td>\n",
              "      <td>113.824097</td>\n",
              "      <td>1.438332</td>\n",
              "      <td>11.521983</td>\n",
              "      <td>28.974173</td>\n",
              "      <td>3.962554</td>\n",
              "    </tr>\n",
              "    <tr>\n",
              "      <th>std</th>\n",
              "      <td>3.034278</td>\n",
              "      <td>13.675763</td>\n",
              "      <td>14.153799</td>\n",
              "      <td>14.127824</td>\n",
              "      <td>14.131397</td>\n",
              "      <td>15.365621</td>\n",
              "      <td>3.585349</td>\n",
              "      <td>59.059609</td>\n",
              "      <td>0.973241</td>\n",
              "      <td>6.921132</td>\n",
              "      <td>17.302504</td>\n",
              "      <td>2.047081</td>\n",
              "    </tr>\n",
              "    <tr>\n",
              "      <th>min</th>\n",
              "      <td>31.000000</td>\n",
              "      <td>0.000000</td>\n",
              "      <td>0.000000</td>\n",
              "      <td>0.000000</td>\n",
              "      <td>0.000000</td>\n",
              "      <td>23.120000</td>\n",
              "      <td>1.170000</td>\n",
              "      <td>1.000000</td>\n",
              "      <td>0.000000</td>\n",
              "      <td>0.000000</td>\n",
              "      <td>0.000000</td>\n",
              "      <td>1.000000</td>\n",
              "    </tr>\n",
              "    <tr>\n",
              "      <th>25%</th>\n",
              "      <td>32.000000</td>\n",
              "      <td>4.200000</td>\n",
              "      <td>5.225000</td>\n",
              "      <td>5.725000</td>\n",
              "      <td>5.933333</td>\n",
              "      <td>63.569167</td>\n",
              "      <td>8.107111</td>\n",
              "      <td>77.000000</td>\n",
              "      <td>1.000000</td>\n",
              "      <td>6.000000</td>\n",
              "      <td>14.000000</td>\n",
              "      <td>2.000000</td>\n",
              "    </tr>\n",
              "    <tr>\n",
              "      <th>50%</th>\n",
              "      <td>34.000000</td>\n",
              "      <td>8.166667</td>\n",
              "      <td>9.300000</td>\n",
              "      <td>10.000000</td>\n",
              "      <td>10.300000</td>\n",
              "      <td>75.310000</td>\n",
              "      <td>10.090000</td>\n",
              "      <td>100.000000</td>\n",
              "      <td>1.000000</td>\n",
              "      <td>12.000000</td>\n",
              "      <td>28.000000</td>\n",
              "      <td>4.000000</td>\n",
              "    </tr>\n",
              "    <tr>\n",
              "      <th>75%</th>\n",
              "      <td>37.000000</td>\n",
              "      <td>16.800000</td>\n",
              "      <td>17.900000</td>\n",
              "      <td>18.327083</td>\n",
              "      <td>18.700000</td>\n",
              "      <td>85.900000</td>\n",
              "      <td>12.388000</td>\n",
              "      <td>134.000000</td>\n",
              "      <td>2.000000</td>\n",
              "      <td>18.000000</td>\n",
              "      <td>44.000000</td>\n",
              "      <td>6.000000</td>\n",
              "    </tr>\n",
              "    <tr>\n",
              "      <th>max</th>\n",
              "      <td>40.000000</td>\n",
              "      <td>100.000000</td>\n",
              "      <td>100.000000</td>\n",
              "      <td>100.000000</td>\n",
              "      <td>100.000000</td>\n",
              "      <td>100.000000</td>\n",
              "      <td>36.490000</td>\n",
              "      <td>499.000000</td>\n",
              "      <td>10.000000</td>\n",
              "      <td>23.000000</td>\n",
              "      <td>58.000000</td>\n",
              "      <td>7.000000</td>\n",
              "    </tr>\n",
              "  </tbody>\n",
              "</table>\n",
              "</div>\n",
              "    <div class=\"colab-df-buttons\">\n",
              "\n",
              "  <div class=\"colab-df-container\">\n",
              "    <button class=\"colab-df-convert\" onclick=\"convertToInteractive('df-14018e33-ac32-48b0-aa85-d76611570dbf')\"\n",
              "            title=\"Convert this dataframe to an interactive table.\"\n",
              "            style=\"display:none;\">\n",
              "\n",
              "  <svg xmlns=\"http://www.w3.org/2000/svg\" height=\"24px\" viewBox=\"0 -960 960 960\">\n",
              "    <path d=\"M120-120v-720h720v720H120Zm60-500h600v-160H180v160Zm220 220h160v-160H400v160Zm0 220h160v-160H400v160ZM180-400h160v-160H180v160Zm440 0h160v-160H620v160ZM180-180h160v-160H180v160Zm440 0h160v-160H620v160Z\"/>\n",
              "  </svg>\n",
              "    </button>\n",
              "\n",
              "  <style>\n",
              "    .colab-df-container {\n",
              "      display:flex;\n",
              "      gap: 12px;\n",
              "    }\n",
              "\n",
              "    .colab-df-convert {\n",
              "      background-color: #E8F0FE;\n",
              "      border: none;\n",
              "      border-radius: 50%;\n",
              "      cursor: pointer;\n",
              "      display: none;\n",
              "      fill: #1967D2;\n",
              "      height: 32px;\n",
              "      padding: 0 0 0 0;\n",
              "      width: 32px;\n",
              "    }\n",
              "\n",
              "    .colab-df-convert:hover {\n",
              "      background-color: #E2EBFA;\n",
              "      box-shadow: 0px 1px 2px rgba(60, 64, 67, 0.3), 0px 1px 3px 1px rgba(60, 64, 67, 0.15);\n",
              "      fill: #174EA6;\n",
              "    }\n",
              "\n",
              "    .colab-df-buttons div {\n",
              "      margin-bottom: 4px;\n",
              "    }\n",
              "\n",
              "    [theme=dark] .colab-df-convert {\n",
              "      background-color: #3B4455;\n",
              "      fill: #D2E3FC;\n",
              "    }\n",
              "\n",
              "    [theme=dark] .colab-df-convert:hover {\n",
              "      background-color: #434B5C;\n",
              "      box-shadow: 0px 1px 3px 1px rgba(0, 0, 0, 0.15);\n",
              "      filter: drop-shadow(0px 1px 2px rgba(0, 0, 0, 0.3));\n",
              "      fill: #FFFFFF;\n",
              "    }\n",
              "  </style>\n",
              "\n",
              "    <script>\n",
              "      const buttonEl =\n",
              "        document.querySelector('#df-14018e33-ac32-48b0-aa85-d76611570dbf button.colab-df-convert');\n",
              "      buttonEl.style.display =\n",
              "        google.colab.kernel.accessAllowed ? 'block' : 'none';\n",
              "\n",
              "      async function convertToInteractive(key) {\n",
              "        const element = document.querySelector('#df-14018e33-ac32-48b0-aa85-d76611570dbf');\n",
              "        const dataTable =\n",
              "          await google.colab.kernel.invokeFunction('convertToInteractive',\n",
              "                                                    [key], {});\n",
              "        if (!dataTable) return;\n",
              "\n",
              "        const docLinkHtml = 'Like what you see? Visit the ' +\n",
              "          '<a target=\"_blank\" href=https://colab.research.google.com/notebooks/data_table.ipynb>data table notebook</a>'\n",
              "          + ' to learn more about interactive tables.';\n",
              "        element.innerHTML = '';\n",
              "        dataTable['output_type'] = 'display_data';\n",
              "        await google.colab.output.renderOutput(dataTable, element);\n",
              "        const docLink = document.createElement('div');\n",
              "        docLink.innerHTML = docLinkHtml;\n",
              "        element.appendChild(docLink);\n",
              "      }\n",
              "    </script>\n",
              "  </div>\n",
              "\n",
              "\n",
              "<div id=\"df-6a9dbea5-3bf6-4b33-b5db-a41aed4f620d\">\n",
              "  <button class=\"colab-df-quickchart\" onclick=\"quickchart('df-6a9dbea5-3bf6-4b33-b5db-a41aed4f620d')\"\n",
              "            title=\"Suggest charts\"\n",
              "            style=\"display:none;\">\n",
              "\n",
              "<svg xmlns=\"http://www.w3.org/2000/svg\" height=\"24px\"viewBox=\"0 0 24 24\"\n",
              "     width=\"24px\">\n",
              "    <g>\n",
              "        <path d=\"M19 3H5c-1.1 0-2 .9-2 2v14c0 1.1.9 2 2 2h14c1.1 0 2-.9 2-2V5c0-1.1-.9-2-2-2zM9 17H7v-7h2v7zm4 0h-2V7h2v10zm4 0h-2v-4h2v4z\"/>\n",
              "    </g>\n",
              "</svg>\n",
              "  </button>\n",
              "\n",
              "<style>\n",
              "  .colab-df-quickchart {\n",
              "      --bg-color: #E8F0FE;\n",
              "      --fill-color: #1967D2;\n",
              "      --hover-bg-color: #E2EBFA;\n",
              "      --hover-fill-color: #174EA6;\n",
              "      --disabled-fill-color: #AAA;\n",
              "      --disabled-bg-color: #DDD;\n",
              "  }\n",
              "\n",
              "  [theme=dark] .colab-df-quickchart {\n",
              "      --bg-color: #3B4455;\n",
              "      --fill-color: #D2E3FC;\n",
              "      --hover-bg-color: #434B5C;\n",
              "      --hover-fill-color: #FFFFFF;\n",
              "      --disabled-bg-color: #3B4455;\n",
              "      --disabled-fill-color: #666;\n",
              "  }\n",
              "\n",
              "  .colab-df-quickchart {\n",
              "    background-color: var(--bg-color);\n",
              "    border: none;\n",
              "    border-radius: 50%;\n",
              "    cursor: pointer;\n",
              "    display: none;\n",
              "    fill: var(--fill-color);\n",
              "    height: 32px;\n",
              "    padding: 0;\n",
              "    width: 32px;\n",
              "  }\n",
              "\n",
              "  .colab-df-quickchart:hover {\n",
              "    background-color: var(--hover-bg-color);\n",
              "    box-shadow: 0 1px 2px rgba(60, 64, 67, 0.3), 0 1px 3px 1px rgba(60, 64, 67, 0.15);\n",
              "    fill: var(--button-hover-fill-color);\n",
              "  }\n",
              "\n",
              "  .colab-df-quickchart-complete:disabled,\n",
              "  .colab-df-quickchart-complete:disabled:hover {\n",
              "    background-color: var(--disabled-bg-color);\n",
              "    fill: var(--disabled-fill-color);\n",
              "    box-shadow: none;\n",
              "  }\n",
              "\n",
              "  .colab-df-spinner {\n",
              "    border: 2px solid var(--fill-color);\n",
              "    border-color: transparent;\n",
              "    border-bottom-color: var(--fill-color);\n",
              "    animation:\n",
              "      spin 1s steps(1) infinite;\n",
              "  }\n",
              "\n",
              "  @keyframes spin {\n",
              "    0% {\n",
              "      border-color: transparent;\n",
              "      border-bottom-color: var(--fill-color);\n",
              "      border-left-color: var(--fill-color);\n",
              "    }\n",
              "    20% {\n",
              "      border-color: transparent;\n",
              "      border-left-color: var(--fill-color);\n",
              "      border-top-color: var(--fill-color);\n",
              "    }\n",
              "    30% {\n",
              "      border-color: transparent;\n",
              "      border-left-color: var(--fill-color);\n",
              "      border-top-color: var(--fill-color);\n",
              "      border-right-color: var(--fill-color);\n",
              "    }\n",
              "    40% {\n",
              "      border-color: transparent;\n",
              "      border-right-color: var(--fill-color);\n",
              "      border-top-color: var(--fill-color);\n",
              "    }\n",
              "    60% {\n",
              "      border-color: transparent;\n",
              "      border-right-color: var(--fill-color);\n",
              "    }\n",
              "    80% {\n",
              "      border-color: transparent;\n",
              "      border-right-color: var(--fill-color);\n",
              "      border-bottom-color: var(--fill-color);\n",
              "    }\n",
              "    90% {\n",
              "      border-color: transparent;\n",
              "      border-bottom-color: var(--fill-color);\n",
              "    }\n",
              "  }\n",
              "</style>\n",
              "\n",
              "  <script>\n",
              "    async function quickchart(key) {\n",
              "      const quickchartButtonEl =\n",
              "        document.querySelector('#' + key + ' button');\n",
              "      quickchartButtonEl.disabled = true;  // To prevent multiple clicks.\n",
              "      quickchartButtonEl.classList.add('colab-df-spinner');\n",
              "      try {\n",
              "        const charts = await google.colab.kernel.invokeFunction(\n",
              "            'suggestCharts', [key], {});\n",
              "      } catch (error) {\n",
              "        console.error('Error during call to suggestCharts:', error);\n",
              "      }\n",
              "      quickchartButtonEl.classList.remove('colab-df-spinner');\n",
              "      quickchartButtonEl.classList.add('colab-df-quickchart-complete');\n",
              "    }\n",
              "    (() => {\n",
              "      let quickchartButtonEl =\n",
              "        document.querySelector('#df-6a9dbea5-3bf6-4b33-b5db-a41aed4f620d button');\n",
              "      quickchartButtonEl.style.display =\n",
              "        google.colab.kernel.accessAllowed ? 'block' : 'none';\n",
              "    })();\n",
              "  </script>\n",
              "</div>\n",
              "    </div>\n",
              "  </div>\n"
            ],
            "text/plain": [
              "           device_id  mass_concentration_pm1p0  mass_concentration_pm2p5  \\\n",
              "count  102760.000000             102760.000000             102760.000000   \n",
              "mean       34.701781                 13.359427                 14.588962   \n",
              "std         3.034278                 13.675763                 14.153799   \n",
              "min        31.000000                  0.000000                  0.000000   \n",
              "25%        32.000000                  4.200000                  5.225000   \n",
              "50%        34.000000                  8.166667                  9.300000   \n",
              "75%        37.000000                 16.800000                 17.900000   \n",
              "max        40.000000                100.000000                100.000000   \n",
              "\n",
              "       mass_concentration_pm4p0  mass_concentration_pm10p0  ambient_humidity  \\\n",
              "count             102760.000000              102760.000000     101627.000000   \n",
              "mean                  15.082623                  15.324259         74.343252   \n",
              "std                   14.127824                  14.131397         15.365621   \n",
              "min                    0.000000                   0.000000         23.120000   \n",
              "25%                    5.725000                   5.933333         63.569167   \n",
              "50%                   10.000000                  10.300000         75.310000   \n",
              "75%                   18.327083                  18.700000         85.900000   \n",
              "max                  100.000000                 100.000000        100.000000   \n",
              "\n",
              "       ambient_temperature      voc_index      nox_index           hour  \\\n",
              "count        101627.000000  101627.000000  101627.000000  102760.000000   \n",
              "mean             10.392810     113.824097       1.438332      11.521983   \n",
              "std               3.585349      59.059609       0.973241       6.921132   \n",
              "min               1.170000       1.000000       0.000000       0.000000   \n",
              "25%               8.107111      77.000000       1.000000       6.000000   \n",
              "50%              10.090000     100.000000       1.000000      12.000000   \n",
              "75%              12.388000     134.000000       2.000000      18.000000   \n",
              "max              36.490000     499.000000      10.000000      23.000000   \n",
              "\n",
              "       minute_of_hour    day_of_week  \n",
              "count   102760.000000  102760.000000  \n",
              "mean        28.974173       3.962554  \n",
              "std         17.302504       2.047081  \n",
              "min          0.000000       1.000000  \n",
              "25%         14.000000       2.000000  \n",
              "50%         28.000000       4.000000  \n",
              "75%         44.000000       6.000000  \n",
              "max         58.000000       7.000000  "
            ]
          },
          "execution_count": 9,
          "metadata": {},
          "output_type": "execute_result"
        }
      ],
      "source": [
        "df.describe()"
      ]
    },
    {
      "cell_type": "markdown",
      "metadata": {
        "id": "xvYR9Rf3SLSF"
      },
      "source": [
        "Column transformer and the pipeline"
      ]
    },
    {
      "cell_type": "code",
      "execution_count": 10,
      "metadata": {
        "executionInfo": {
          "elapsed": 32,
          "status": "ok",
          "timestamp": 1711830890390,
          "user": {
            "displayName": "",
            "userId": ""
          },
          "user_tz": -60
        },
        "id": "njjVfvPpL5Vk"
      },
      "outputs": [],
      "source": [
        "from pickle import TRUE\n",
        "from sklearn.base import BaseEstimator, TransformerMixin\n",
        "from sklearn.preprocessing import RobustScaler, MinMaxScaler, StandardScaler, OneHotEncoder, QuantileTransformer\n",
        "from sklearn.compose import ColumnTransformer\n",
        "from sklearn.pipeline import Pipeline\n",
        "import numpy as np\n",
        "import pandas as pd\n",
        "import datetime as dt\n",
        "\n",
        "#### Building a pipeline\n",
        "class LSTMInputSequenceCreator(BaseEstimator, TransformerMixin):\n",
        "    def __init__(self, sequence_length, location_col='pass_location_nickname', max_interval=dt.timedelta(minutes=30),stride=1):\n",
        "        \"\"\"\n",
        "            Args:\n",
        "                sequence_length (int): The length of every LSTM sequence\n",
        "                max_interval (datetime.Timedelta): The maximum allowed difference between the delta between two consecutive timestamps and the mode delta to impute\n",
        "                stride (int): The number of steps to move the sequence window by\n",
        "        \"\"\"\n",
        "        self.sequence_length = sequence_length\n",
        "        self.stride = stride\n",
        "        self.interval_length = None\n",
        "        self.allowed_interval_error = max_interval\n",
        "        self.location_col = location_col\n",
        "        self.columns = None\n",
        "\n",
        "    def fit(self, X, y=None):\n",
        "        self.columns = X.columns\n",
        "        try:\n",
        "            X = [x for x in self._split_dataframe_by_location(X)]\n",
        "            print('N locations: ', len(X))\n",
        "            self.set_interval_length(X)\n",
        "        except KeyError:\n",
        "            self.set_interval_length(X)\n",
        "        return self\n",
        "\n",
        "    def transform(self, X):\n",
        "        print('Transforming')\n",
        "        X = self.split_dataframe(X)\n",
        "        print(\"Dataframe splitted\")\n",
        "        sequences = []\n",
        "        targets = []\n",
        "\n",
        "        processed = 0\n",
        "        for i in range(len(X)):\n",
        "            X[i] = self.interpolate_missing_timestamps(X[i])\n",
        "            processed += len(X[i])\n",
        "            if len(X[i]) < self.sequence_length:\n",
        "                continue\n",
        "            sequence, target = self._create_3d_array(X[i])\n",
        "            sequences.append(sequence)\n",
        "            targets.append(target)\n",
        "            print(f'{processed} number of datapoints processed')\n",
        "        sequences = np.concatenate(sequences)\n",
        "        targets = np.concatenate(targets)\n",
        "        return sequences, targets\n",
        "\n",
        "    def type_check(self, dataframe):\n",
        "        # Check if the index is a DateTimeIndex\n",
        "        if isinstance(dataframe.index, pd.DatetimeIndex):\n",
        "            # Check if all columns are int, float, or transformable to int or float\n",
        "            if all(dataframe[col].dtype in [np.int64, np.float64] or pd.to_numeric(dataframe[col], errors='raise') for col in dataframe.columns):\n",
        "                return dataframe.apply(pd.to_numeric, errors='raise')\n",
        "            else:\n",
        "                raise ValueError(\"The index is a DateTimeIndex, but some columns are not int, float, or transformable to int or float.\")\n",
        "        else:\n",
        "            raise ValueError(\"The index is not a DateTimeIndex.\")\n",
        "\n",
        "\n",
        "\n",
        "    def interpolate_missing_timestamps(self, df):\n",
        "        \"\"\"\n",
        "            Takes a list of dataframes and checks for missing timestamps\n",
        "            If there are missing timestamps, the missing timestamps are imputed by linear interpolation\n",
        "        \"\"\"\n",
        "        df = self.type_check(df)\n",
        "        new_index = pd.date_range(start=df.index.min(), end=df.index.max(), freq=self.interval_length)\n",
        "        df_reindexed = df.reindex(df.index.union(new_index)).sort_index()\n",
        "\n",
        "        new_df = df_reindexed.interpolate(method='time')\n",
        "        new_df = new_df.reindex(new_index)\n",
        "\n",
        "        return new_df\n",
        "\n",
        "    def _create_3d_array(self, dataframe, drop_time=True):\n",
        "        \"\"\"\n",
        "            Creates LSTM input sequences from a dataframe\n",
        "\n",
        "            Args:\n",
        "                dataframe (pd.DataFrame): The sequence dataframe\n",
        "                drop_time (Boolean): Determines if the Day and Week columns should be dropped from the targets\n",
        "\n",
        "            Returns:\n",
        "                tuple(np.Array, np.Array): A tuple containing the sequences and the targets which are the consecutive values of the sequences\n",
        "        \"\"\"\n",
        "        sequences = None\n",
        "        targets = None\n",
        "\n",
        "        # Convert dataframe to numpy array\n",
        "        if isinstance(dataframe, pd.DataFrame):\n",
        "            data = dataframe.values\n",
        "            columns = dataframe.columns\n",
        "            if drop_time:\n",
        "              keep_columns = [i for i, col in enumerate(columns) if 'day' not in col and 'hour' not in col]\n",
        "\n",
        "        elif isinstance(dataframe, np.ndarray):\n",
        "            data = dataframe\n",
        "            if drop_time:\n",
        "              raise ValueError('The time columns can only be dropped if the input data is a dataframe')\n",
        "\n",
        "        else:\n",
        "            raise ValueError(\"The dataframe must be a pandas dataframe or a numpy array\")\n",
        "        # Create sequences\n",
        "        for i in range(0, len(data) - self.sequence_length, self.stride):\n",
        "            sequence = data[i:i+self.sequence_length]\n",
        "            n, f = sequence.shape\n",
        "            sequence = sequence.reshape((1, n, f))\n",
        "            target = data[i+self.sequence_length]\n",
        "\n",
        "            if drop_time:\n",
        "              target = target[keep_columns]\n",
        "\n",
        "            out = len(target)\n",
        "            target = target.reshape((1, out))\n",
        "            if sequences is None:\n",
        "                sequences = sequence\n",
        "                targets = target\n",
        "            else:\n",
        "                sequences = np.concatenate([sequences, sequence])\n",
        "                targets = np.concatenate([targets, target])\n",
        "\n",
        "        # Convert sequences and targets to numpy arrays\n",
        "        return sequences, targets\n",
        "\n",
        "    def set_interval_length(self, data):\n",
        "        \"\"\"\n",
        "            Sets the mode interval length of the dataframe\n",
        "\n",
        "            Args:\n",
        "                dataframe (pd.DataFrame): The sequence dataframe\n",
        "                on_index (bool): If True, the interval length will be set based on the index of the dataframe which should be a timeseries\n",
        "                timestamp_column (str): The name of the column to use as the timestamp (only applicable if 'on_index' is False)\n",
        "        \"\"\"\n",
        "        if type(data) == list:\n",
        "            for df in data:\n",
        "\n",
        "                if type(df) != pd.DataFrame:\n",
        "                    raise ValueError(\"All elements of the list must be pandas dataframes\")\n",
        "                if not isinstance(df.index, pd.DatetimeIndex):\n",
        "                    raise ValueError(\"The index of the dataframes must be a datetime index\")\n",
        "\n",
        "            self.interval_length = pd.concat([df.index.round('5s').to_series().diff() for df in data]).mode().squeeze()\n",
        "\n",
        "\n",
        "\n",
        "\n",
        "        elif type(data) == pd.DataFrame:\n",
        "            if not isinstance(data.index, pd.DatetimeIndex):\n",
        "                raise ValueError(\"The index of the dataframe must be a datetime index\")\n",
        "            self.interval_length = data.index.round('5s').to_series().diff().mode().squeeze()\n",
        "\n",
        "\n",
        "    def _split_dataframe_by_location(self, df):\n",
        "        \"\"\"\n",
        "            Splits a dataframe into sub-dataframes based on the location_nickname column\n",
        "        \"\"\"\n",
        "        for name in df[self.location_col].unique():\n",
        "            yield name, df[df[self.location_col] == name].drop(columns=self.location_col)\n",
        "\n",
        "\n",
        "    def split_dataframe(self, dataframe):\n",
        "\n",
        "        new_dataframes = []\n",
        "        previous_timestamp = None\n",
        "        current_group = []\n",
        "        total = 0\n",
        "        if self.location_col in dataframe.columns:\n",
        "\n",
        "            for name, df in self._split_dataframe_by_location(dataframe):\n",
        "                print(f'Total splitted: {total}')\n",
        "                total += len(df)\n",
        "                for timestamp in df.index:\n",
        "                    if previous_timestamp is None:\n",
        "                        current_group.append(timestamp)\n",
        "                        previous_timestamp = timestamp\n",
        "\n",
        "                    else:\n",
        "\n",
        "                        timedelta = timestamp - previous_timestamp\n",
        "\n",
        "                        if timedelta > self.allowed_interval_error:\n",
        "                            new_dataframes.append(df.loc[current_group])\n",
        "                            current_group = []\n",
        "                            current_group.append(timestamp)\n",
        "                            previous_timestamp = timestamp\n",
        "\n",
        "                        else:\n",
        "                            current_group.append(timestamp)\n",
        "                            previous_timestamp = timestamp\n",
        "\n",
        "                new_dataframes.append(df.loc[current_group])\n",
        "                current_group = []\n",
        "                previous_timestamp = None\n",
        "        else:\n",
        "            raise(ValueError(f\"The dataframe must have a {self.location_col} column, the other option is not yet implemented\"))\n",
        "        return new_dataframes"
      ]
    },
    {
      "cell_type": "markdown",
      "metadata": {
        "id": "Z5Cx6XWnR4Z3"
      },
      "source": [
        "Column transformer"
      ]
    },
    {
      "cell_type": "code",
      "execution_count": 11,
      "metadata": {
        "colab": {
          "base_uri": "https://localhost:8080/",
          "height": 118
        },
        "executionInfo": {
          "elapsed": 31,
          "status": "ok",
          "timestamp": 1711830890390,
          "user": {
            "displayName": "",
            "userId": ""
          },
          "user_tz": -60
        },
        "id": "tM4R2qlGR6sW",
        "outputId": "9222ae79-9c87-4a04-e303-fdcca98689be"
      },
      "outputs": [
        {
          "data": {
            "text/html": [
              "<style>#sk-container-id-1 {color: black;background-color: white;}#sk-container-id-1 pre{padding: 0;}#sk-container-id-1 div.sk-toggleable {background-color: white;}#sk-container-id-1 label.sk-toggleable__label {cursor: pointer;display: block;width: 100%;margin-bottom: 0;padding: 0.3em;box-sizing: border-box;text-align: center;}#sk-container-id-1 label.sk-toggleable__label-arrow:before {content: \"▸\";float: left;margin-right: 0.25em;color: #696969;}#sk-container-id-1 label.sk-toggleable__label-arrow:hover:before {color: black;}#sk-container-id-1 div.sk-estimator:hover label.sk-toggleable__label-arrow:before {color: black;}#sk-container-id-1 div.sk-toggleable__content {max-height: 0;max-width: 0;overflow: hidden;text-align: left;background-color: #f0f8ff;}#sk-container-id-1 div.sk-toggleable__content pre {margin: 0.2em;color: black;border-radius: 0.25em;background-color: #f0f8ff;}#sk-container-id-1 input.sk-toggleable__control:checked~div.sk-toggleable__content {max-height: 200px;max-width: 100%;overflow: auto;}#sk-container-id-1 input.sk-toggleable__control:checked~label.sk-toggleable__label-arrow:before {content: \"▾\";}#sk-container-id-1 div.sk-estimator input.sk-toggleable__control:checked~label.sk-toggleable__label {background-color: #d4ebff;}#sk-container-id-1 div.sk-label input.sk-toggleable__control:checked~label.sk-toggleable__label {background-color: #d4ebff;}#sk-container-id-1 input.sk-hidden--visually {border: 0;clip: rect(1px 1px 1px 1px);clip: rect(1px, 1px, 1px, 1px);height: 1px;margin: -1px;overflow: hidden;padding: 0;position: absolute;width: 1px;}#sk-container-id-1 div.sk-estimator {font-family: monospace;background-color: #f0f8ff;border: 1px dotted black;border-radius: 0.25em;box-sizing: border-box;margin-bottom: 0.5em;}#sk-container-id-1 div.sk-estimator:hover {background-color: #d4ebff;}#sk-container-id-1 div.sk-parallel-item::after {content: \"\";width: 100%;border-bottom: 1px solid gray;flex-grow: 1;}#sk-container-id-1 div.sk-label:hover label.sk-toggleable__label {background-color: #d4ebff;}#sk-container-id-1 div.sk-serial::before {content: \"\";position: absolute;border-left: 1px solid gray;box-sizing: border-box;top: 0;bottom: 0;left: 50%;z-index: 0;}#sk-container-id-1 div.sk-serial {display: flex;flex-direction: column;align-items: center;background-color: white;padding-right: 0.2em;padding-left: 0.2em;position: relative;}#sk-container-id-1 div.sk-item {position: relative;z-index: 1;}#sk-container-id-1 div.sk-parallel {display: flex;align-items: stretch;justify-content: center;background-color: white;position: relative;}#sk-container-id-1 div.sk-item::before, #sk-container-id-1 div.sk-parallel-item::before {content: \"\";position: absolute;border-left: 1px solid gray;box-sizing: border-box;top: 0;bottom: 0;left: 50%;z-index: -1;}#sk-container-id-1 div.sk-parallel-item {display: flex;flex-direction: column;z-index: 1;position: relative;background-color: white;}#sk-container-id-1 div.sk-parallel-item:first-child::after {align-self: flex-end;width: 50%;}#sk-container-id-1 div.sk-parallel-item:last-child::after {align-self: flex-start;width: 50%;}#sk-container-id-1 div.sk-parallel-item:only-child::after {width: 0;}#sk-container-id-1 div.sk-dashed-wrapped {border: 1px dashed gray;margin: 0 0.4em 0.5em 0.4em;box-sizing: border-box;padding-bottom: 0.4em;background-color: white;}#sk-container-id-1 div.sk-label label {font-family: monospace;font-weight: bold;display: inline-block;line-height: 1.2em;}#sk-container-id-1 div.sk-label-container {text-align: center;}#sk-container-id-1 div.sk-container {/* jupyter's `normalize.less` sets `[hidden] { display: none; }` but bootstrap.min.css set `[hidden] { display: none !important; }` so we also need the `!important` here to be able to override the default hidden behavior on the sphinx rendered scikit-learn.org. See: https://github.com/scikit-learn/scikit-learn/issues/21755 */display: inline-block !important;position: relative;}#sk-container-id-1 div.sk-text-repr-fallback {display: none;}</style><div id=\"sk-container-id-1\" class=\"sk-top-container\"><div class=\"sk-text-repr-fallback\"><pre>ColumnTransformer(transformers=[(&#x27;qt_scaler&#x27;, QuantileTransformer(),\n",
              "                                 [&#x27;mass_concentration_pm1p0&#x27;,\n",
              "                                  &#x27;mass_concentration_pm2p5&#x27;,\n",
              "                                  &#x27;mass_concentration_pm4p0&#x27;,\n",
              "                                  &#x27;mass_concentration_pm10p0&#x27;, &#x27;voc_index&#x27;]),\n",
              "                                (&#x27;mm_scaler&#x27;, MinMaxScaler(),\n",
              "                                 [&#x27;ambient_humidity&#x27;, &#x27;ambient_temperature&#x27;,\n",
              "                                  &#x27;nox_index&#x27;]),\n",
              "                                (&#x27;time&#x27;, OneHotEncoder(sparse_output=False),\n",
              "                                 [&#x27;hour&#x27;, &#x27;day_of_week&#x27;]),\n",
              "                                (&#x27;pass&#x27;, &#x27;passthrough&#x27;, [&#x27;device_id&#x27;])])</pre><b>In a Jupyter environment, please rerun this cell to show the HTML representation or trust the notebook. <br />On GitHub, the HTML representation is unable to render, please try loading this page with nbviewer.org.</b></div><div class=\"sk-container\" hidden><div class=\"sk-item sk-dashed-wrapped\"><div class=\"sk-label-container\"><div class=\"sk-label sk-toggleable\"><input class=\"sk-toggleable__control sk-hidden--visually\" id=\"sk-estimator-id-1\" type=\"checkbox\" ><label for=\"sk-estimator-id-1\" class=\"sk-toggleable__label sk-toggleable__label-arrow\">ColumnTransformer</label><div class=\"sk-toggleable__content\"><pre>ColumnTransformer(transformers=[(&#x27;qt_scaler&#x27;, QuantileTransformer(),\n",
              "                                 [&#x27;mass_concentration_pm1p0&#x27;,\n",
              "                                  &#x27;mass_concentration_pm2p5&#x27;,\n",
              "                                  &#x27;mass_concentration_pm4p0&#x27;,\n",
              "                                  &#x27;mass_concentration_pm10p0&#x27;, &#x27;voc_index&#x27;]),\n",
              "                                (&#x27;mm_scaler&#x27;, MinMaxScaler(),\n",
              "                                 [&#x27;ambient_humidity&#x27;, &#x27;ambient_temperature&#x27;,\n",
              "                                  &#x27;nox_index&#x27;]),\n",
              "                                (&#x27;time&#x27;, OneHotEncoder(sparse_output=False),\n",
              "                                 [&#x27;hour&#x27;, &#x27;day_of_week&#x27;]),\n",
              "                                (&#x27;pass&#x27;, &#x27;passthrough&#x27;, [&#x27;device_id&#x27;])])</pre></div></div></div><div class=\"sk-parallel\"><div class=\"sk-parallel-item\"><div class=\"sk-item\"><div class=\"sk-label-container\"><div class=\"sk-label sk-toggleable\"><input class=\"sk-toggleable__control sk-hidden--visually\" id=\"sk-estimator-id-2\" type=\"checkbox\" ><label for=\"sk-estimator-id-2\" class=\"sk-toggleable__label sk-toggleable__label-arrow\">qt_scaler</label><div class=\"sk-toggleable__content\"><pre>[&#x27;mass_concentration_pm1p0&#x27;, &#x27;mass_concentration_pm2p5&#x27;, &#x27;mass_concentration_pm4p0&#x27;, &#x27;mass_concentration_pm10p0&#x27;, &#x27;voc_index&#x27;]</pre></div></div></div><div class=\"sk-serial\"><div class=\"sk-item\"><div class=\"sk-estimator sk-toggleable\"><input class=\"sk-toggleable__control sk-hidden--visually\" id=\"sk-estimator-id-3\" type=\"checkbox\" ><label for=\"sk-estimator-id-3\" class=\"sk-toggleable__label sk-toggleable__label-arrow\">QuantileTransformer</label><div class=\"sk-toggleable__content\"><pre>QuantileTransformer()</pre></div></div></div></div></div></div><div class=\"sk-parallel-item\"><div class=\"sk-item\"><div class=\"sk-label-container\"><div class=\"sk-label sk-toggleable\"><input class=\"sk-toggleable__control sk-hidden--visually\" id=\"sk-estimator-id-4\" type=\"checkbox\" ><label for=\"sk-estimator-id-4\" class=\"sk-toggleable__label sk-toggleable__label-arrow\">mm_scaler</label><div class=\"sk-toggleable__content\"><pre>[&#x27;ambient_humidity&#x27;, &#x27;ambient_temperature&#x27;, &#x27;nox_index&#x27;]</pre></div></div></div><div class=\"sk-serial\"><div class=\"sk-item\"><div class=\"sk-estimator sk-toggleable\"><input class=\"sk-toggleable__control sk-hidden--visually\" id=\"sk-estimator-id-5\" type=\"checkbox\" ><label for=\"sk-estimator-id-5\" class=\"sk-toggleable__label sk-toggleable__label-arrow\">MinMaxScaler</label><div class=\"sk-toggleable__content\"><pre>MinMaxScaler()</pre></div></div></div></div></div></div><div class=\"sk-parallel-item\"><div class=\"sk-item\"><div class=\"sk-label-container\"><div class=\"sk-label sk-toggleable\"><input class=\"sk-toggleable__control sk-hidden--visually\" id=\"sk-estimator-id-6\" type=\"checkbox\" ><label for=\"sk-estimator-id-6\" class=\"sk-toggleable__label sk-toggleable__label-arrow\">time</label><div class=\"sk-toggleable__content\"><pre>[&#x27;hour&#x27;, &#x27;day_of_week&#x27;]</pre></div></div></div><div class=\"sk-serial\"><div class=\"sk-item\"><div class=\"sk-estimator sk-toggleable\"><input class=\"sk-toggleable__control sk-hidden--visually\" id=\"sk-estimator-id-7\" type=\"checkbox\" ><label for=\"sk-estimator-id-7\" class=\"sk-toggleable__label sk-toggleable__label-arrow\">OneHotEncoder</label><div class=\"sk-toggleable__content\"><pre>OneHotEncoder(sparse_output=False)</pre></div></div></div></div></div></div><div class=\"sk-parallel-item\"><div class=\"sk-item\"><div class=\"sk-label-container\"><div class=\"sk-label sk-toggleable\"><input class=\"sk-toggleable__control sk-hidden--visually\" id=\"sk-estimator-id-8\" type=\"checkbox\" ><label for=\"sk-estimator-id-8\" class=\"sk-toggleable__label sk-toggleable__label-arrow\">pass</label><div class=\"sk-toggleable__content\"><pre>[&#x27;device_id&#x27;]</pre></div></div></div><div class=\"sk-serial\"><div class=\"sk-item\"><div class=\"sk-estimator sk-toggleable\"><input class=\"sk-toggleable__control sk-hidden--visually\" id=\"sk-estimator-id-9\" type=\"checkbox\" ><label for=\"sk-estimator-id-9\" class=\"sk-toggleable__label sk-toggleable__label-arrow\">passthrough</label><div class=\"sk-toggleable__content\"><pre>passthrough</pre></div></div></div></div></div></div></div></div></div></div>"
            ],
            "text/plain": [
              "ColumnTransformer(transformers=[('qt_scaler', QuantileTransformer(),\n",
              "                                 ['mass_concentration_pm1p0',\n",
              "                                  'mass_concentration_pm2p5',\n",
              "                                  'mass_concentration_pm4p0',\n",
              "                                  'mass_concentration_pm10p0', 'voc_index']),\n",
              "                                ('mm_scaler', MinMaxScaler(),\n",
              "                                 ['ambient_humidity', 'ambient_temperature',\n",
              "                                  'nox_index']),\n",
              "                                ('time', OneHotEncoder(sparse_output=False),\n",
              "                                 ['hour', 'day_of_week']),\n",
              "                                ('pass', 'passthrough', ['device_id'])])"
            ]
          },
          "execution_count": 11,
          "metadata": {},
          "output_type": "execute_result"
        }
      ],
      "source": [
        "\n",
        "rb_cols = ['mass_concentration_pm1p0', 'mass_concentration_pm2p5', 'mass_concentration_pm4p0', 'mass_concentration_pm10p0', 'voc_index']\n",
        "mm_cols = ['ambient_humidity','ambient_temperature', 'nox_index']\n",
        "cat_cols = ['hour', 'day_of_week']\n",
        "\n",
        "# col_trans = ColumnTransformer([('mm_scaler', MinMaxScaler(), rb_cols+mm_cols), ('time', OneHotEncoder(sparse_output=False), cat_cols),  ('pass', 'passthrough',  ['device_id'])],remainder='drop')\n",
        "col_trans = ColumnTransformer([('qt_scaler', QuantileTransformer(), rb_cols), ('mm_scaler', MinMaxScaler(), mm_cols), ('time', OneHotEncoder(sparse_output=False), cat_cols),  ('pass', 'passthrough',  ['device_id'])],remainder='drop')\n",
        "col_trans.set_output(transform='pandas')\n"
      ]
    },
    {
      "cell_type": "code",
      "execution_count": 12,
      "metadata": {
        "executionInfo": {
          "elapsed": 30,
          "status": "ok",
          "timestamp": 1711830890391,
          "user": {
            "displayName": "",
            "userId": ""
          },
          "user_tz": -60
        },
        "id": "1sj1k6B4Y5NO"
      },
      "outputs": [],
      "source": [
        "all_data = df"
      ]
    },
    {
      "cell_type": "code",
      "execution_count": 13,
      "metadata": {
        "colab": {
          "base_uri": "https://localhost:8080/"
        },
        "executionInfo": {
          "elapsed": 29,
          "status": "ok",
          "timestamp": 1711830890391,
          "user": {
            "displayName": "",
            "userId": ""
          },
          "user_tz": -60
        },
        "id": "yrrfSwpoZGA-",
        "outputId": "602b5060-582a-4a7b-fca6-aa457dc73c8d"
      },
      "outputs": [
        {
          "data": {
            "text/plain": [
              "Index(['time', 'device_id', 'mass_concentration_pm1p0',\n",
              "       'mass_concentration_pm2p5', 'mass_concentration_pm4p0',\n",
              "       'mass_concentration_pm10p0', 'ambient_humidity', 'ambient_temperature',\n",
              "       'voc_index', 'nox_index', 'hour', 'minute_of_hour', 'day_of_week',\n",
              "       'day_name'],\n",
              "      dtype='object')"
            ]
          },
          "execution_count": 13,
          "metadata": {},
          "output_type": "execute_result"
        }
      ],
      "source": [
        "all_data.columns"
      ]
    },
    {
      "cell_type": "code",
      "execution_count": 14,
      "metadata": {
        "colab": {
          "base_uri": "https://localhost:8080/",
          "height": 135
        },
        "executionInfo": {
          "elapsed": 304,
          "status": "ok",
          "timestamp": 1711830890673,
          "user": {
            "displayName": "",
            "userId": ""
          },
          "user_tz": -60
        },
        "id": "eLmAhix6L5Vo",
        "outputId": "fc90b314-5f81-491e-f94c-8a7fb7802124"
      },
      "outputs": [
        {
          "name": "stdout",
          "output_type": "stream",
          "text": [
            "102760\n"
          ]
        },
        {
          "data": {
            "text/html": [
              "<style>#sk-container-id-2 {color: black;background-color: white;}#sk-container-id-2 pre{padding: 0;}#sk-container-id-2 div.sk-toggleable {background-color: white;}#sk-container-id-2 label.sk-toggleable__label {cursor: pointer;display: block;width: 100%;margin-bottom: 0;padding: 0.3em;box-sizing: border-box;text-align: center;}#sk-container-id-2 label.sk-toggleable__label-arrow:before {content: \"▸\";float: left;margin-right: 0.25em;color: #696969;}#sk-container-id-2 label.sk-toggleable__label-arrow:hover:before {color: black;}#sk-container-id-2 div.sk-estimator:hover label.sk-toggleable__label-arrow:before {color: black;}#sk-container-id-2 div.sk-toggleable__content {max-height: 0;max-width: 0;overflow: hidden;text-align: left;background-color: #f0f8ff;}#sk-container-id-2 div.sk-toggleable__content pre {margin: 0.2em;color: black;border-radius: 0.25em;background-color: #f0f8ff;}#sk-container-id-2 input.sk-toggleable__control:checked~div.sk-toggleable__content {max-height: 200px;max-width: 100%;overflow: auto;}#sk-container-id-2 input.sk-toggleable__control:checked~label.sk-toggleable__label-arrow:before {content: \"▾\";}#sk-container-id-2 div.sk-estimator input.sk-toggleable__control:checked~label.sk-toggleable__label {background-color: #d4ebff;}#sk-container-id-2 div.sk-label input.sk-toggleable__control:checked~label.sk-toggleable__label {background-color: #d4ebff;}#sk-container-id-2 input.sk-hidden--visually {border: 0;clip: rect(1px 1px 1px 1px);clip: rect(1px, 1px, 1px, 1px);height: 1px;margin: -1px;overflow: hidden;padding: 0;position: absolute;width: 1px;}#sk-container-id-2 div.sk-estimator {font-family: monospace;background-color: #f0f8ff;border: 1px dotted black;border-radius: 0.25em;box-sizing: border-box;margin-bottom: 0.5em;}#sk-container-id-2 div.sk-estimator:hover {background-color: #d4ebff;}#sk-container-id-2 div.sk-parallel-item::after {content: \"\";width: 100%;border-bottom: 1px solid gray;flex-grow: 1;}#sk-container-id-2 div.sk-label:hover label.sk-toggleable__label {background-color: #d4ebff;}#sk-container-id-2 div.sk-serial::before {content: \"\";position: absolute;border-left: 1px solid gray;box-sizing: border-box;top: 0;bottom: 0;left: 50%;z-index: 0;}#sk-container-id-2 div.sk-serial {display: flex;flex-direction: column;align-items: center;background-color: white;padding-right: 0.2em;padding-left: 0.2em;position: relative;}#sk-container-id-2 div.sk-item {position: relative;z-index: 1;}#sk-container-id-2 div.sk-parallel {display: flex;align-items: stretch;justify-content: center;background-color: white;position: relative;}#sk-container-id-2 div.sk-item::before, #sk-container-id-2 div.sk-parallel-item::before {content: \"\";position: absolute;border-left: 1px solid gray;box-sizing: border-box;top: 0;bottom: 0;left: 50%;z-index: -1;}#sk-container-id-2 div.sk-parallel-item {display: flex;flex-direction: column;z-index: 1;position: relative;background-color: white;}#sk-container-id-2 div.sk-parallel-item:first-child::after {align-self: flex-end;width: 50%;}#sk-container-id-2 div.sk-parallel-item:last-child::after {align-self: flex-start;width: 50%;}#sk-container-id-2 div.sk-parallel-item:only-child::after {width: 0;}#sk-container-id-2 div.sk-dashed-wrapped {border: 1px dashed gray;margin: 0 0.4em 0.5em 0.4em;box-sizing: border-box;padding-bottom: 0.4em;background-color: white;}#sk-container-id-2 div.sk-label label {font-family: monospace;font-weight: bold;display: inline-block;line-height: 1.2em;}#sk-container-id-2 div.sk-label-container {text-align: center;}#sk-container-id-2 div.sk-container {/* jupyter's `normalize.less` sets `[hidden] { display: none; }` but bootstrap.min.css set `[hidden] { display: none !important; }` so we also need the `!important` here to be able to override the default hidden behavior on the sphinx rendered scikit-learn.org. See: https://github.com/scikit-learn/scikit-learn/issues/21755 */display: inline-block !important;position: relative;}#sk-container-id-2 div.sk-text-repr-fallback {display: none;}</style><div id=\"sk-container-id-2\" class=\"sk-top-container\"><div class=\"sk-text-repr-fallback\"><pre>ColumnTransformer(transformers=[(&#x27;qt_scaler&#x27;, QuantileTransformer(),\n",
              "                                 [&#x27;mass_concentration_pm1p0&#x27;,\n",
              "                                  &#x27;mass_concentration_pm2p5&#x27;,\n",
              "                                  &#x27;mass_concentration_pm4p0&#x27;,\n",
              "                                  &#x27;mass_concentration_pm10p0&#x27;, &#x27;voc_index&#x27;]),\n",
              "                                (&#x27;mm_scaler&#x27;, MinMaxScaler(),\n",
              "                                 [&#x27;ambient_humidity&#x27;, &#x27;ambient_temperature&#x27;,\n",
              "                                  &#x27;nox_index&#x27;]),\n",
              "                                (&#x27;time&#x27;, OneHotEncoder(sparse_output=False),\n",
              "                                 [&#x27;hour&#x27;, &#x27;day_of_week&#x27;]),\n",
              "                                (&#x27;pass&#x27;, &#x27;passthrough&#x27;, [&#x27;device_id&#x27;])])</pre><b>In a Jupyter environment, please rerun this cell to show the HTML representation or trust the notebook. <br />On GitHub, the HTML representation is unable to render, please try loading this page with nbviewer.org.</b></div><div class=\"sk-container\" hidden><div class=\"sk-item sk-dashed-wrapped\"><div class=\"sk-label-container\"><div class=\"sk-label sk-toggleable\"><input class=\"sk-toggleable__control sk-hidden--visually\" id=\"sk-estimator-id-10\" type=\"checkbox\" ><label for=\"sk-estimator-id-10\" class=\"sk-toggleable__label sk-toggleable__label-arrow\">ColumnTransformer</label><div class=\"sk-toggleable__content\"><pre>ColumnTransformer(transformers=[(&#x27;qt_scaler&#x27;, QuantileTransformer(),\n",
              "                                 [&#x27;mass_concentration_pm1p0&#x27;,\n",
              "                                  &#x27;mass_concentration_pm2p5&#x27;,\n",
              "                                  &#x27;mass_concentration_pm4p0&#x27;,\n",
              "                                  &#x27;mass_concentration_pm10p0&#x27;, &#x27;voc_index&#x27;]),\n",
              "                                (&#x27;mm_scaler&#x27;, MinMaxScaler(),\n",
              "                                 [&#x27;ambient_humidity&#x27;, &#x27;ambient_temperature&#x27;,\n",
              "                                  &#x27;nox_index&#x27;]),\n",
              "                                (&#x27;time&#x27;, OneHotEncoder(sparse_output=False),\n",
              "                                 [&#x27;hour&#x27;, &#x27;day_of_week&#x27;]),\n",
              "                                (&#x27;pass&#x27;, &#x27;passthrough&#x27;, [&#x27;device_id&#x27;])])</pre></div></div></div><div class=\"sk-parallel\"><div class=\"sk-parallel-item\"><div class=\"sk-item\"><div class=\"sk-label-container\"><div class=\"sk-label sk-toggleable\"><input class=\"sk-toggleable__control sk-hidden--visually\" id=\"sk-estimator-id-11\" type=\"checkbox\" ><label for=\"sk-estimator-id-11\" class=\"sk-toggleable__label sk-toggleable__label-arrow\">qt_scaler</label><div class=\"sk-toggleable__content\"><pre>[&#x27;mass_concentration_pm1p0&#x27;, &#x27;mass_concentration_pm2p5&#x27;, &#x27;mass_concentration_pm4p0&#x27;, &#x27;mass_concentration_pm10p0&#x27;, &#x27;voc_index&#x27;]</pre></div></div></div><div class=\"sk-serial\"><div class=\"sk-item\"><div class=\"sk-estimator sk-toggleable\"><input class=\"sk-toggleable__control sk-hidden--visually\" id=\"sk-estimator-id-12\" type=\"checkbox\" ><label for=\"sk-estimator-id-12\" class=\"sk-toggleable__label sk-toggleable__label-arrow\">QuantileTransformer</label><div class=\"sk-toggleable__content\"><pre>QuantileTransformer()</pre></div></div></div></div></div></div><div class=\"sk-parallel-item\"><div class=\"sk-item\"><div class=\"sk-label-container\"><div class=\"sk-label sk-toggleable\"><input class=\"sk-toggleable__control sk-hidden--visually\" id=\"sk-estimator-id-13\" type=\"checkbox\" ><label for=\"sk-estimator-id-13\" class=\"sk-toggleable__label sk-toggleable__label-arrow\">mm_scaler</label><div class=\"sk-toggleable__content\"><pre>[&#x27;ambient_humidity&#x27;, &#x27;ambient_temperature&#x27;, &#x27;nox_index&#x27;]</pre></div></div></div><div class=\"sk-serial\"><div class=\"sk-item\"><div class=\"sk-estimator sk-toggleable\"><input class=\"sk-toggleable__control sk-hidden--visually\" id=\"sk-estimator-id-14\" type=\"checkbox\" ><label for=\"sk-estimator-id-14\" class=\"sk-toggleable__label sk-toggleable__label-arrow\">MinMaxScaler</label><div class=\"sk-toggleable__content\"><pre>MinMaxScaler()</pre></div></div></div></div></div></div><div class=\"sk-parallel-item\"><div class=\"sk-item\"><div class=\"sk-label-container\"><div class=\"sk-label sk-toggleable\"><input class=\"sk-toggleable__control sk-hidden--visually\" id=\"sk-estimator-id-15\" type=\"checkbox\" ><label for=\"sk-estimator-id-15\" class=\"sk-toggleable__label sk-toggleable__label-arrow\">time</label><div class=\"sk-toggleable__content\"><pre>[&#x27;hour&#x27;, &#x27;day_of_week&#x27;]</pre></div></div></div><div class=\"sk-serial\"><div class=\"sk-item\"><div class=\"sk-estimator sk-toggleable\"><input class=\"sk-toggleable__control sk-hidden--visually\" id=\"sk-estimator-id-16\" type=\"checkbox\" ><label for=\"sk-estimator-id-16\" class=\"sk-toggleable__label sk-toggleable__label-arrow\">OneHotEncoder</label><div class=\"sk-toggleable__content\"><pre>OneHotEncoder(sparse_output=False)</pre></div></div></div></div></div></div><div class=\"sk-parallel-item\"><div class=\"sk-item\"><div class=\"sk-label-container\"><div class=\"sk-label sk-toggleable\"><input class=\"sk-toggleable__control sk-hidden--visually\" id=\"sk-estimator-id-17\" type=\"checkbox\" ><label for=\"sk-estimator-id-17\" class=\"sk-toggleable__label sk-toggleable__label-arrow\">pass</label><div class=\"sk-toggleable__content\"><pre>[&#x27;device_id&#x27;]</pre></div></div></div><div class=\"sk-serial\"><div class=\"sk-item\"><div class=\"sk-estimator sk-toggleable\"><input class=\"sk-toggleable__control sk-hidden--visually\" id=\"sk-estimator-id-18\" type=\"checkbox\" ><label for=\"sk-estimator-id-18\" class=\"sk-toggleable__label sk-toggleable__label-arrow\">passthrough</label><div class=\"sk-toggleable__content\"><pre>passthrough</pre></div></div></div></div></div></div></div></div></div></div>"
            ],
            "text/plain": [
              "ColumnTransformer(transformers=[('qt_scaler', QuantileTransformer(),\n",
              "                                 ['mass_concentration_pm1p0',\n",
              "                                  'mass_concentration_pm2p5',\n",
              "                                  'mass_concentration_pm4p0',\n",
              "                                  'mass_concentration_pm10p0', 'voc_index']),\n",
              "                                ('mm_scaler', MinMaxScaler(),\n",
              "                                 ['ambient_humidity', 'ambient_temperature',\n",
              "                                  'nox_index']),\n",
              "                                ('time', OneHotEncoder(sparse_output=False),\n",
              "                                 ['hour', 'day_of_week']),\n",
              "                                ('pass', 'passthrough', ['device_id'])])"
            ]
          },
          "execution_count": 14,
          "metadata": {},
          "output_type": "execute_result"
        }
      ],
      "source": [
        "print(len(all_data))\n",
        "col_trans.fit(all_data)"
      ]
    },
    {
      "cell_type": "code",
      "execution_count": 15,
      "metadata": {
        "colab": {
          "base_uri": "https://localhost:8080/"
        },
        "executionInfo": {
          "elapsed": 31,
          "status": "ok",
          "timestamp": 1711830890673,
          "user": {
            "displayName": "",
            "userId": ""
          },
          "user_tz": -60
        },
        "id": "06IOi_nWL5Vp",
        "outputId": "11309c73-38c9-4fc9-b2c3-802eaa7d2edc"
      },
      "outputs": [
        {
          "data": {
            "text/plain": [
              "qt_scaler__mass_concentration_pm1p0        0\n",
              "qt_scaler__mass_concentration_pm2p5        0\n",
              "qt_scaler__mass_concentration_pm4p0        0\n",
              "qt_scaler__mass_concentration_pm10p0       0\n",
              "qt_scaler__voc_index                    1133\n",
              "mm_scaler__ambient_humidity             1133\n",
              "mm_scaler__ambient_temperature          1133\n",
              "mm_scaler__nox_index                    1133\n",
              "time__hour_0.0                             0\n",
              "time__hour_1.0                             0\n",
              "time__hour_2.0                             0\n",
              "time__hour_3.0                             0\n",
              "time__hour_4.0                             0\n",
              "time__hour_5.0                             0\n",
              "time__hour_6.0                             0\n",
              "time__hour_7.0                             0\n",
              "time__hour_8.0                             0\n",
              "time__hour_9.0                             0\n",
              "time__hour_10.0                            0\n",
              "time__hour_11.0                            0\n",
              "time__hour_12.0                            0\n",
              "time__hour_13.0                            0\n",
              "time__hour_14.0                            0\n",
              "time__hour_15.0                            0\n",
              "time__hour_16.0                            0\n",
              "time__hour_17.0                            0\n",
              "time__hour_18.0                            0\n",
              "time__hour_19.0                            0\n",
              "time__hour_20.0                            0\n",
              "time__hour_21.0                            0\n",
              "time__hour_22.0                            0\n",
              "time__hour_23.0                            0\n",
              "time__day_of_week_1.0                      0\n",
              "time__day_of_week_2.0                      0\n",
              "time__day_of_week_3.0                      0\n",
              "time__day_of_week_4.0                      0\n",
              "time__day_of_week_5.0                      0\n",
              "time__day_of_week_6.0                      0\n",
              "time__day_of_week_7.0                      0\n",
              "pass__device_id                            0\n",
              "dtype: int64"
            ]
          },
          "execution_count": 15,
          "metadata": {},
          "output_type": "execute_result"
        }
      ],
      "source": [
        "all_data.index = pd.to_datetime(all_data['time'])\n",
        "new_data = col_trans.transform(all_data)\n",
        "new_data.isna().sum()"
      ]
    },
    {
      "cell_type": "code",
      "execution_count": 16,
      "metadata": {
        "executionInfo": {
          "elapsed": 28,
          "status": "ok",
          "timestamp": 1711830890673,
          "user": {
            "displayName": "",
            "userId": ""
          },
          "user_tz": -60
        },
        "id": "zxexfUnhmbKL"
      },
      "outputs": [],
      "source": [
        "new_data.dropna(inplace=True)"
      ]
    },
    {
      "cell_type": "code",
      "execution_count": 17,
      "metadata": {
        "executionInfo": {
          "elapsed": 28,
          "status": "ok",
          "timestamp": 1711830890674,
          "user": {
            "displayName": "",
            "userId": ""
          },
          "user_tz": -60
        },
        "id": "tAZnJRkKesfh"
      },
      "outputs": [],
      "source": [
        "############## Test vs Train\n",
        "train = []\n",
        "test = []\n",
        "\n",
        "for id, df in new_data.groupby('pass__device_id', as_index=False):\n",
        "    split = int(len(df) * 0.8)\n",
        "    train.append(df.iloc[:split])\n",
        "    test.append(df.iloc[split:])\n",
        "\n",
        "train_df = pd.concat(train)\n",
        "test_df = pd.concat(test)\n",
        "\n"
      ]
    },
    {
      "cell_type": "code",
      "execution_count": 18,
      "metadata": {
        "colab": {
          "base_uri": "https://localhost:8080/"
        },
        "executionInfo": {
          "elapsed": 27,
          "status": "ok",
          "timestamp": 1711830890674,
          "user": {
            "displayName": "",
            "userId": ""
          },
          "user_tz": -60
        },
        "id": "SFTGU_k1gWK_",
        "outputId": "61f5acef-5a75-4d39-87a0-b2f663f34436"
      },
      "outputs": [
        {
          "data": {
            "text/plain": [
              "81297"
            ]
          },
          "execution_count": 18,
          "metadata": {},
          "output_type": "execute_result"
        }
      ],
      "source": [
        "len(train_df)"
      ]
    },
    {
      "cell_type": "code",
      "execution_count": 19,
      "metadata": {
        "colab": {
          "base_uri": "https://localhost:8080/"
        },
        "executionInfo": {
          "elapsed": 1015,
          "status": "ok",
          "timestamp": 1711830891668,
          "user": {
            "displayName": "",
            "userId": ""
          },
          "user_tz": -60
        },
        "id": "KJvCk5xIZcPn",
        "outputId": "3cfadc2b-82a8-44d6-807c-98432765662d"
      },
      "outputs": [
        {
          "name": "stdout",
          "output_type": "stream",
          "text": [
            "Total splitted: 0\n",
            "Total splitted: 17561\n",
            "Total splitted: 32310\n",
            "Total splitted: 46037\n",
            "Total splitted: 58865\n",
            "Total splitted: 63686\n",
            "Total splitted: 68407\n",
            "Total splitted: 77351\n",
            "Total splitted: 83555\n",
            "Total splitted: 92845\n"
          ]
        }
      ],
      "source": [
        "lstm_formatter = LSTMInputSequenceCreator(sequence_length=30, location_col='pass__device_id', max_interval=dt.timedelta(minutes=10) ,stride=1)\n",
        "dataframes = lstm_formatter.split_dataframe(new_data)"
      ]
    },
    {
      "cell_type": "code",
      "execution_count": 20,
      "metadata": {
        "colab": {
          "base_uri": "https://localhost:8080/",
          "height": 822
        },
        "executionInfo": {
          "elapsed": 132,
          "status": "ok",
          "timestamp": 1711830891795,
          "user": {
            "displayName": "",
            "userId": ""
          },
          "user_tz": -60
        },
        "id": "7hsYUNiXa4Xs",
        "outputId": "45085a1d-6271-4760-8442-34e770699b34"
      },
      "outputs": [
        {
          "data": {
            "text/html": [
              "\n",
              "  <div id=\"df-14be6b43-048e-4c13-b50f-5eb48893b086\" class=\"colab-df-container\">\n",
              "    <div>\n",
              "<style scoped>\n",
              "    .dataframe tbody tr th:only-of-type {\n",
              "        vertical-align: middle;\n",
              "    }\n",
              "\n",
              "    .dataframe tbody tr th {\n",
              "        vertical-align: top;\n",
              "    }\n",
              "\n",
              "    .dataframe thead th {\n",
              "        text-align: right;\n",
              "    }\n",
              "</style>\n",
              "<table border=\"1\" class=\"dataframe\">\n",
              "  <thead>\n",
              "    <tr style=\"text-align: right;\">\n",
              "      <th></th>\n",
              "      <th>qt_scaler__mass_concentration_pm1p0</th>\n",
              "      <th>qt_scaler__mass_concentration_pm2p5</th>\n",
              "      <th>qt_scaler__mass_concentration_pm4p0</th>\n",
              "      <th>qt_scaler__mass_concentration_pm10p0</th>\n",
              "      <th>qt_scaler__voc_index</th>\n",
              "      <th>mm_scaler__ambient_humidity</th>\n",
              "      <th>mm_scaler__ambient_temperature</th>\n",
              "      <th>mm_scaler__nox_index</th>\n",
              "      <th>time__hour_0.0</th>\n",
              "      <th>time__hour_1.0</th>\n",
              "      <th>...</th>\n",
              "      <th>time__hour_21.0</th>\n",
              "      <th>time__hour_22.0</th>\n",
              "      <th>time__hour_23.0</th>\n",
              "      <th>time__day_of_week_1.0</th>\n",
              "      <th>time__day_of_week_2.0</th>\n",
              "      <th>time__day_of_week_3.0</th>\n",
              "      <th>time__day_of_week_4.0</th>\n",
              "      <th>time__day_of_week_5.0</th>\n",
              "      <th>time__day_of_week_6.0</th>\n",
              "      <th>time__day_of_week_7.0</th>\n",
              "    </tr>\n",
              "    <tr>\n",
              "      <th>time</th>\n",
              "      <th></th>\n",
              "      <th></th>\n",
              "      <th></th>\n",
              "      <th></th>\n",
              "      <th></th>\n",
              "      <th></th>\n",
              "      <th></th>\n",
              "      <th></th>\n",
              "      <th></th>\n",
              "      <th></th>\n",
              "      <th></th>\n",
              "      <th></th>\n",
              "      <th></th>\n",
              "      <th></th>\n",
              "      <th></th>\n",
              "      <th></th>\n",
              "      <th></th>\n",
              "      <th></th>\n",
              "      <th></th>\n",
              "      <th></th>\n",
              "      <th></th>\n",
              "    </tr>\n",
              "  </thead>\n",
              "  <tbody>\n",
              "    <tr>\n",
              "      <th>2024-03-02 10:28:00</th>\n",
              "      <td>0.022592</td>\n",
              "      <td>0.026683</td>\n",
              "      <td>0.033941</td>\n",
              "      <td>0.037719</td>\n",
              "      <td>0.000000</td>\n",
              "      <td>0.158299</td>\n",
              "      <td>0.545017</td>\n",
              "      <td>0.000000</td>\n",
              "      <td>0.0</td>\n",
              "      <td>0.0</td>\n",
              "      <td>...</td>\n",
              "      <td>0.0</td>\n",
              "      <td>0.0</td>\n",
              "      <td>0.0</td>\n",
              "      <td>0.0</td>\n",
              "      <td>0.0</td>\n",
              "      <td>0.0</td>\n",
              "      <td>0.0</td>\n",
              "      <td>0.0</td>\n",
              "      <td>1.0</td>\n",
              "      <td>0.0</td>\n",
              "    </tr>\n",
              "    <tr>\n",
              "      <th>2024-03-02 10:30:00</th>\n",
              "      <td>0.022592</td>\n",
              "      <td>0.026683</td>\n",
              "      <td>0.033941</td>\n",
              "      <td>0.037719</td>\n",
              "      <td>0.000000</td>\n",
              "      <td>0.158299</td>\n",
              "      <td>0.545017</td>\n",
              "      <td>0.000000</td>\n",
              "      <td>0.0</td>\n",
              "      <td>0.0</td>\n",
              "      <td>...</td>\n",
              "      <td>0.0</td>\n",
              "      <td>0.0</td>\n",
              "      <td>0.0</td>\n",
              "      <td>0.0</td>\n",
              "      <td>0.0</td>\n",
              "      <td>0.0</td>\n",
              "      <td>0.0</td>\n",
              "      <td>0.0</td>\n",
              "      <td>1.0</td>\n",
              "      <td>0.0</td>\n",
              "    </tr>\n",
              "    <tr>\n",
              "      <th>2024-03-02 10:32:00</th>\n",
              "      <td>0.016517</td>\n",
              "      <td>0.037037</td>\n",
              "      <td>0.059059</td>\n",
              "      <td>0.077116</td>\n",
              "      <td>0.000000</td>\n",
              "      <td>0.158299</td>\n",
              "      <td>0.545017</td>\n",
              "      <td>0.000000</td>\n",
              "      <td>0.0</td>\n",
              "      <td>0.0</td>\n",
              "      <td>...</td>\n",
              "      <td>0.0</td>\n",
              "      <td>0.0</td>\n",
              "      <td>0.0</td>\n",
              "      <td>0.0</td>\n",
              "      <td>0.0</td>\n",
              "      <td>0.0</td>\n",
              "      <td>0.0</td>\n",
              "      <td>0.0</td>\n",
              "      <td>1.0</td>\n",
              "      <td>0.0</td>\n",
              "    </tr>\n",
              "    <tr>\n",
              "      <th>2024-03-02 10:34:00</th>\n",
              "      <td>0.034034</td>\n",
              "      <td>0.037538</td>\n",
              "      <td>0.048196</td>\n",
              "      <td>0.053053</td>\n",
              "      <td>0.054054</td>\n",
              "      <td>0.195630</td>\n",
              "      <td>0.513448</td>\n",
              "      <td>0.050000</td>\n",
              "      <td>0.0</td>\n",
              "      <td>0.0</td>\n",
              "      <td>...</td>\n",
              "      <td>0.0</td>\n",
              "      <td>0.0</td>\n",
              "      <td>0.0</td>\n",
              "      <td>0.0</td>\n",
              "      <td>0.0</td>\n",
              "      <td>0.0</td>\n",
              "      <td>0.0</td>\n",
              "      <td>0.0</td>\n",
              "      <td>1.0</td>\n",
              "      <td>0.0</td>\n",
              "    </tr>\n",
              "    <tr>\n",
              "      <th>2024-03-02 10:36:00</th>\n",
              "      <td>0.033700</td>\n",
              "      <td>0.031664</td>\n",
              "      <td>0.038154</td>\n",
              "      <td>0.041263</td>\n",
              "      <td>0.153153</td>\n",
              "      <td>0.224506</td>\n",
              "      <td>0.484428</td>\n",
              "      <td>0.066667</td>\n",
              "      <td>0.0</td>\n",
              "      <td>0.0</td>\n",
              "      <td>...</td>\n",
              "      <td>0.0</td>\n",
              "      <td>0.0</td>\n",
              "      <td>0.0</td>\n",
              "      <td>0.0</td>\n",
              "      <td>0.0</td>\n",
              "      <td>0.0</td>\n",
              "      <td>0.0</td>\n",
              "      <td>0.0</td>\n",
              "      <td>1.0</td>\n",
              "      <td>0.0</td>\n",
              "    </tr>\n",
              "    <tr>\n",
              "      <th>...</th>\n",
              "      <td>...</td>\n",
              "      <td>...</td>\n",
              "      <td>...</td>\n",
              "      <td>...</td>\n",
              "      <td>...</td>\n",
              "      <td>...</td>\n",
              "      <td>...</td>\n",
              "      <td>...</td>\n",
              "      <td>...</td>\n",
              "      <td>...</td>\n",
              "      <td>...</td>\n",
              "      <td>...</td>\n",
              "      <td>...</td>\n",
              "      <td>...</td>\n",
              "      <td>...</td>\n",
              "      <td>...</td>\n",
              "      <td>...</td>\n",
              "      <td>...</td>\n",
              "      <td>...</td>\n",
              "      <td>...</td>\n",
              "      <td>...</td>\n",
              "    </tr>\n",
              "    <tr>\n",
              "      <th>2024-03-05 00:12:00</th>\n",
              "      <td>0.587704</td>\n",
              "      <td>0.570880</td>\n",
              "      <td>0.541475</td>\n",
              "      <td>0.530545</td>\n",
              "      <td>0.222680</td>\n",
              "      <td>0.525800</td>\n",
              "      <td>0.271574</td>\n",
              "      <td>0.200000</td>\n",
              "      <td>1.0</td>\n",
              "      <td>0.0</td>\n",
              "      <td>...</td>\n",
              "      <td>0.0</td>\n",
              "      <td>0.0</td>\n",
              "      <td>0.0</td>\n",
              "      <td>0.0</td>\n",
              "      <td>1.0</td>\n",
              "      <td>0.0</td>\n",
              "      <td>0.0</td>\n",
              "      <td>0.0</td>\n",
              "      <td>0.0</td>\n",
              "      <td>0.0</td>\n",
              "    </tr>\n",
              "    <tr>\n",
              "      <th>2024-03-05 00:14:00</th>\n",
              "      <td>0.585184</td>\n",
              "      <td>0.566493</td>\n",
              "      <td>0.537788</td>\n",
              "      <td>0.525534</td>\n",
              "      <td>0.217968</td>\n",
              "      <td>0.526104</td>\n",
              "      <td>0.271518</td>\n",
              "      <td>0.200000</td>\n",
              "      <td>1.0</td>\n",
              "      <td>0.0</td>\n",
              "      <td>...</td>\n",
              "      <td>0.0</td>\n",
              "      <td>0.0</td>\n",
              "      <td>0.0</td>\n",
              "      <td>0.0</td>\n",
              "      <td>1.0</td>\n",
              "      <td>0.0</td>\n",
              "      <td>0.0</td>\n",
              "      <td>0.0</td>\n",
              "      <td>0.0</td>\n",
              "      <td>0.0</td>\n",
              "    </tr>\n",
              "    <tr>\n",
              "      <th>2024-03-05 00:16:00</th>\n",
              "      <td>0.585562</td>\n",
              "      <td>0.569570</td>\n",
              "      <td>0.540541</td>\n",
              "      <td>0.529530</td>\n",
              "      <td>0.216846</td>\n",
              "      <td>0.526394</td>\n",
              "      <td>0.271518</td>\n",
              "      <td>0.200000</td>\n",
              "      <td>1.0</td>\n",
              "      <td>0.0</td>\n",
              "      <td>...</td>\n",
              "      <td>0.0</td>\n",
              "      <td>0.0</td>\n",
              "      <td>0.0</td>\n",
              "      <td>0.0</td>\n",
              "      <td>1.0</td>\n",
              "      <td>0.0</td>\n",
              "      <td>0.0</td>\n",
              "      <td>0.0</td>\n",
              "      <td>0.0</td>\n",
              "      <td>0.0</td>\n",
              "    </tr>\n",
              "    <tr>\n",
              "      <th>2024-03-05 00:18:00</th>\n",
              "      <td>0.577822</td>\n",
              "      <td>0.557552</td>\n",
              "      <td>0.526918</td>\n",
              "      <td>0.515516</td>\n",
              "      <td>0.216049</td>\n",
              "      <td>0.526681</td>\n",
              "      <td>0.271624</td>\n",
              "      <td>0.200000</td>\n",
              "      <td>1.0</td>\n",
              "      <td>0.0</td>\n",
              "      <td>...</td>\n",
              "      <td>0.0</td>\n",
              "      <td>0.0</td>\n",
              "      <td>0.0</td>\n",
              "      <td>0.0</td>\n",
              "      <td>1.0</td>\n",
              "      <td>0.0</td>\n",
              "      <td>0.0</td>\n",
              "      <td>0.0</td>\n",
              "      <td>0.0</td>\n",
              "      <td>0.0</td>\n",
              "    </tr>\n",
              "    <tr>\n",
              "      <th>2024-03-05 00:20:00</th>\n",
              "      <td>0.569069</td>\n",
              "      <td>0.548549</td>\n",
              "      <td>0.517017</td>\n",
              "      <td>0.503504</td>\n",
              "      <td>0.212713</td>\n",
              "      <td>0.527445</td>\n",
              "      <td>0.271801</td>\n",
              "      <td>0.200000</td>\n",
              "      <td>1.0</td>\n",
              "      <td>0.0</td>\n",
              "      <td>...</td>\n",
              "      <td>0.0</td>\n",
              "      <td>0.0</td>\n",
              "      <td>0.0</td>\n",
              "      <td>0.0</td>\n",
              "      <td>1.0</td>\n",
              "      <td>0.0</td>\n",
              "      <td>0.0</td>\n",
              "      <td>0.0</td>\n",
              "      <td>0.0</td>\n",
              "      <td>0.0</td>\n",
              "    </tr>\n",
              "  </tbody>\n",
              "</table>\n",
              "<p>1857 rows × 39 columns</p>\n",
              "</div>\n",
              "    <div class=\"colab-df-buttons\">\n",
              "\n",
              "  <div class=\"colab-df-container\">\n",
              "    <button class=\"colab-df-convert\" onclick=\"convertToInteractive('df-14be6b43-048e-4c13-b50f-5eb48893b086')\"\n",
              "            title=\"Convert this dataframe to an interactive table.\"\n",
              "            style=\"display:none;\">\n",
              "\n",
              "  <svg xmlns=\"http://www.w3.org/2000/svg\" height=\"24px\" viewBox=\"0 -960 960 960\">\n",
              "    <path d=\"M120-120v-720h720v720H120Zm60-500h600v-160H180v160Zm220 220h160v-160H400v160Zm0 220h160v-160H400v160ZM180-400h160v-160H180v160Zm440 0h160v-160H620v160ZM180-180h160v-160H180v160Zm440 0h160v-160H620v160Z\"/>\n",
              "  </svg>\n",
              "    </button>\n",
              "\n",
              "  <style>\n",
              "    .colab-df-container {\n",
              "      display:flex;\n",
              "      gap: 12px;\n",
              "    }\n",
              "\n",
              "    .colab-df-convert {\n",
              "      background-color: #E8F0FE;\n",
              "      border: none;\n",
              "      border-radius: 50%;\n",
              "      cursor: pointer;\n",
              "      display: none;\n",
              "      fill: #1967D2;\n",
              "      height: 32px;\n",
              "      padding: 0 0 0 0;\n",
              "      width: 32px;\n",
              "    }\n",
              "\n",
              "    .colab-df-convert:hover {\n",
              "      background-color: #E2EBFA;\n",
              "      box-shadow: 0px 1px 2px rgba(60, 64, 67, 0.3), 0px 1px 3px 1px rgba(60, 64, 67, 0.15);\n",
              "      fill: #174EA6;\n",
              "    }\n",
              "\n",
              "    .colab-df-buttons div {\n",
              "      margin-bottom: 4px;\n",
              "    }\n",
              "\n",
              "    [theme=dark] .colab-df-convert {\n",
              "      background-color: #3B4455;\n",
              "      fill: #D2E3FC;\n",
              "    }\n",
              "\n",
              "    [theme=dark] .colab-df-convert:hover {\n",
              "      background-color: #434B5C;\n",
              "      box-shadow: 0px 1px 3px 1px rgba(0, 0, 0, 0.15);\n",
              "      filter: drop-shadow(0px 1px 2px rgba(0, 0, 0, 0.3));\n",
              "      fill: #FFFFFF;\n",
              "    }\n",
              "  </style>\n",
              "\n",
              "    <script>\n",
              "      const buttonEl =\n",
              "        document.querySelector('#df-14be6b43-048e-4c13-b50f-5eb48893b086 button.colab-df-convert');\n",
              "      buttonEl.style.display =\n",
              "        google.colab.kernel.accessAllowed ? 'block' : 'none';\n",
              "\n",
              "      async function convertToInteractive(key) {\n",
              "        const element = document.querySelector('#df-14be6b43-048e-4c13-b50f-5eb48893b086');\n",
              "        const dataTable =\n",
              "          await google.colab.kernel.invokeFunction('convertToInteractive',\n",
              "                                                    [key], {});\n",
              "        if (!dataTable) return;\n",
              "\n",
              "        const docLinkHtml = 'Like what you see? Visit the ' +\n",
              "          '<a target=\"_blank\" href=https://colab.research.google.com/notebooks/data_table.ipynb>data table notebook</a>'\n",
              "          + ' to learn more about interactive tables.';\n",
              "        element.innerHTML = '';\n",
              "        dataTable['output_type'] = 'display_data';\n",
              "        await google.colab.output.renderOutput(dataTable, element);\n",
              "        const docLink = document.createElement('div');\n",
              "        docLink.innerHTML = docLinkHtml;\n",
              "        element.appendChild(docLink);\n",
              "      }\n",
              "    </script>\n",
              "  </div>\n",
              "\n",
              "\n",
              "<div id=\"df-53b9430a-3aca-489e-bd6b-1d967dcac850\">\n",
              "  <button class=\"colab-df-quickchart\" onclick=\"quickchart('df-53b9430a-3aca-489e-bd6b-1d967dcac850')\"\n",
              "            title=\"Suggest charts\"\n",
              "            style=\"display:none;\">\n",
              "\n",
              "<svg xmlns=\"http://www.w3.org/2000/svg\" height=\"24px\"viewBox=\"0 0 24 24\"\n",
              "     width=\"24px\">\n",
              "    <g>\n",
              "        <path d=\"M19 3H5c-1.1 0-2 .9-2 2v14c0 1.1.9 2 2 2h14c1.1 0 2-.9 2-2V5c0-1.1-.9-2-2-2zM9 17H7v-7h2v7zm4 0h-2V7h2v10zm4 0h-2v-4h2v4z\"/>\n",
              "    </g>\n",
              "</svg>\n",
              "  </button>\n",
              "\n",
              "<style>\n",
              "  .colab-df-quickchart {\n",
              "      --bg-color: #E8F0FE;\n",
              "      --fill-color: #1967D2;\n",
              "      --hover-bg-color: #E2EBFA;\n",
              "      --hover-fill-color: #174EA6;\n",
              "      --disabled-fill-color: #AAA;\n",
              "      --disabled-bg-color: #DDD;\n",
              "  }\n",
              "\n",
              "  [theme=dark] .colab-df-quickchart {\n",
              "      --bg-color: #3B4455;\n",
              "      --fill-color: #D2E3FC;\n",
              "      --hover-bg-color: #434B5C;\n",
              "      --hover-fill-color: #FFFFFF;\n",
              "      --disabled-bg-color: #3B4455;\n",
              "      --disabled-fill-color: #666;\n",
              "  }\n",
              "\n",
              "  .colab-df-quickchart {\n",
              "    background-color: var(--bg-color);\n",
              "    border: none;\n",
              "    border-radius: 50%;\n",
              "    cursor: pointer;\n",
              "    display: none;\n",
              "    fill: var(--fill-color);\n",
              "    height: 32px;\n",
              "    padding: 0;\n",
              "    width: 32px;\n",
              "  }\n",
              "\n",
              "  .colab-df-quickchart:hover {\n",
              "    background-color: var(--hover-bg-color);\n",
              "    box-shadow: 0 1px 2px rgba(60, 64, 67, 0.3), 0 1px 3px 1px rgba(60, 64, 67, 0.15);\n",
              "    fill: var(--button-hover-fill-color);\n",
              "  }\n",
              "\n",
              "  .colab-df-quickchart-complete:disabled,\n",
              "  .colab-df-quickchart-complete:disabled:hover {\n",
              "    background-color: var(--disabled-bg-color);\n",
              "    fill: var(--disabled-fill-color);\n",
              "    box-shadow: none;\n",
              "  }\n",
              "\n",
              "  .colab-df-spinner {\n",
              "    border: 2px solid var(--fill-color);\n",
              "    border-color: transparent;\n",
              "    border-bottom-color: var(--fill-color);\n",
              "    animation:\n",
              "      spin 1s steps(1) infinite;\n",
              "  }\n",
              "\n",
              "  @keyframes spin {\n",
              "    0% {\n",
              "      border-color: transparent;\n",
              "      border-bottom-color: var(--fill-color);\n",
              "      border-left-color: var(--fill-color);\n",
              "    }\n",
              "    20% {\n",
              "      border-color: transparent;\n",
              "      border-left-color: var(--fill-color);\n",
              "      border-top-color: var(--fill-color);\n",
              "    }\n",
              "    30% {\n",
              "      border-color: transparent;\n",
              "      border-left-color: var(--fill-color);\n",
              "      border-top-color: var(--fill-color);\n",
              "      border-right-color: var(--fill-color);\n",
              "    }\n",
              "    40% {\n",
              "      border-color: transparent;\n",
              "      border-right-color: var(--fill-color);\n",
              "      border-top-color: var(--fill-color);\n",
              "    }\n",
              "    60% {\n",
              "      border-color: transparent;\n",
              "      border-right-color: var(--fill-color);\n",
              "    }\n",
              "    80% {\n",
              "      border-color: transparent;\n",
              "      border-right-color: var(--fill-color);\n",
              "      border-bottom-color: var(--fill-color);\n",
              "    }\n",
              "    90% {\n",
              "      border-color: transparent;\n",
              "      border-bottom-color: var(--fill-color);\n",
              "    }\n",
              "  }\n",
              "</style>\n",
              "\n",
              "  <script>\n",
              "    async function quickchart(key) {\n",
              "      const quickchartButtonEl =\n",
              "        document.querySelector('#' + key + ' button');\n",
              "      quickchartButtonEl.disabled = true;  // To prevent multiple clicks.\n",
              "      quickchartButtonEl.classList.add('colab-df-spinner');\n",
              "      try {\n",
              "        const charts = await google.colab.kernel.invokeFunction(\n",
              "            'suggestCharts', [key], {});\n",
              "      } catch (error) {\n",
              "        console.error('Error during call to suggestCharts:', error);\n",
              "      }\n",
              "      quickchartButtonEl.classList.remove('colab-df-spinner');\n",
              "      quickchartButtonEl.classList.add('colab-df-quickchart-complete');\n",
              "    }\n",
              "    (() => {\n",
              "      let quickchartButtonEl =\n",
              "        document.querySelector('#df-53b9430a-3aca-489e-bd6b-1d967dcac850 button');\n",
              "      quickchartButtonEl.style.display =\n",
              "        google.colab.kernel.accessAllowed ? 'block' : 'none';\n",
              "    })();\n",
              "  </script>\n",
              "</div>\n",
              "    </div>\n",
              "  </div>\n"
            ],
            "text/plain": [
              "                     qt_scaler__mass_concentration_pm1p0  \\\n",
              "time                                                       \n",
              "2024-03-02 10:28:00                             0.022592   \n",
              "2024-03-02 10:30:00                             0.022592   \n",
              "2024-03-02 10:32:00                             0.016517   \n",
              "2024-03-02 10:34:00                             0.034034   \n",
              "2024-03-02 10:36:00                             0.033700   \n",
              "...                                                  ...   \n",
              "2024-03-05 00:12:00                             0.587704   \n",
              "2024-03-05 00:14:00                             0.585184   \n",
              "2024-03-05 00:16:00                             0.585562   \n",
              "2024-03-05 00:18:00                             0.577822   \n",
              "2024-03-05 00:20:00                             0.569069   \n",
              "\n",
              "                     qt_scaler__mass_concentration_pm2p5  \\\n",
              "time                                                       \n",
              "2024-03-02 10:28:00                             0.026683   \n",
              "2024-03-02 10:30:00                             0.026683   \n",
              "2024-03-02 10:32:00                             0.037037   \n",
              "2024-03-02 10:34:00                             0.037538   \n",
              "2024-03-02 10:36:00                             0.031664   \n",
              "...                                                  ...   \n",
              "2024-03-05 00:12:00                             0.570880   \n",
              "2024-03-05 00:14:00                             0.566493   \n",
              "2024-03-05 00:16:00                             0.569570   \n",
              "2024-03-05 00:18:00                             0.557552   \n",
              "2024-03-05 00:20:00                             0.548549   \n",
              "\n",
              "                     qt_scaler__mass_concentration_pm4p0  \\\n",
              "time                                                       \n",
              "2024-03-02 10:28:00                             0.033941   \n",
              "2024-03-02 10:30:00                             0.033941   \n",
              "2024-03-02 10:32:00                             0.059059   \n",
              "2024-03-02 10:34:00                             0.048196   \n",
              "2024-03-02 10:36:00                             0.038154   \n",
              "...                                                  ...   \n",
              "2024-03-05 00:12:00                             0.541475   \n",
              "2024-03-05 00:14:00                             0.537788   \n",
              "2024-03-05 00:16:00                             0.540541   \n",
              "2024-03-05 00:18:00                             0.526918   \n",
              "2024-03-05 00:20:00                             0.517017   \n",
              "\n",
              "                     qt_scaler__mass_concentration_pm10p0  \\\n",
              "time                                                        \n",
              "2024-03-02 10:28:00                              0.037719   \n",
              "2024-03-02 10:30:00                              0.037719   \n",
              "2024-03-02 10:32:00                              0.077116   \n",
              "2024-03-02 10:34:00                              0.053053   \n",
              "2024-03-02 10:36:00                              0.041263   \n",
              "...                                                   ...   \n",
              "2024-03-05 00:12:00                              0.530545   \n",
              "2024-03-05 00:14:00                              0.525534   \n",
              "2024-03-05 00:16:00                              0.529530   \n",
              "2024-03-05 00:18:00                              0.515516   \n",
              "2024-03-05 00:20:00                              0.503504   \n",
              "\n",
              "                     qt_scaler__voc_index  mm_scaler__ambient_humidity  \\\n",
              "time                                                                     \n",
              "2024-03-02 10:28:00              0.000000                     0.158299   \n",
              "2024-03-02 10:30:00              0.000000                     0.158299   \n",
              "2024-03-02 10:32:00              0.000000                     0.158299   \n",
              "2024-03-02 10:34:00              0.054054                     0.195630   \n",
              "2024-03-02 10:36:00              0.153153                     0.224506   \n",
              "...                                   ...                          ...   \n",
              "2024-03-05 00:12:00              0.222680                     0.525800   \n",
              "2024-03-05 00:14:00              0.217968                     0.526104   \n",
              "2024-03-05 00:16:00              0.216846                     0.526394   \n",
              "2024-03-05 00:18:00              0.216049                     0.526681   \n",
              "2024-03-05 00:20:00              0.212713                     0.527445   \n",
              "\n",
              "                     mm_scaler__ambient_temperature  mm_scaler__nox_index  \\\n",
              "time                                                                        \n",
              "2024-03-02 10:28:00                        0.545017              0.000000   \n",
              "2024-03-02 10:30:00                        0.545017              0.000000   \n",
              "2024-03-02 10:32:00                        0.545017              0.000000   \n",
              "2024-03-02 10:34:00                        0.513448              0.050000   \n",
              "2024-03-02 10:36:00                        0.484428              0.066667   \n",
              "...                                             ...                   ...   \n",
              "2024-03-05 00:12:00                        0.271574              0.200000   \n",
              "2024-03-05 00:14:00                        0.271518              0.200000   \n",
              "2024-03-05 00:16:00                        0.271518              0.200000   \n",
              "2024-03-05 00:18:00                        0.271624              0.200000   \n",
              "2024-03-05 00:20:00                        0.271801              0.200000   \n",
              "\n",
              "                     time__hour_0.0  time__hour_1.0  ...  time__hour_21.0  \\\n",
              "time                                                 ...                    \n",
              "2024-03-02 10:28:00             0.0             0.0  ...              0.0   \n",
              "2024-03-02 10:30:00             0.0             0.0  ...              0.0   \n",
              "2024-03-02 10:32:00             0.0             0.0  ...              0.0   \n",
              "2024-03-02 10:34:00             0.0             0.0  ...              0.0   \n",
              "2024-03-02 10:36:00             0.0             0.0  ...              0.0   \n",
              "...                             ...             ...  ...              ...   \n",
              "2024-03-05 00:12:00             1.0             0.0  ...              0.0   \n",
              "2024-03-05 00:14:00             1.0             0.0  ...              0.0   \n",
              "2024-03-05 00:16:00             1.0             0.0  ...              0.0   \n",
              "2024-03-05 00:18:00             1.0             0.0  ...              0.0   \n",
              "2024-03-05 00:20:00             1.0             0.0  ...              0.0   \n",
              "\n",
              "                     time__hour_22.0  time__hour_23.0  time__day_of_week_1.0  \\\n",
              "time                                                                           \n",
              "2024-03-02 10:28:00              0.0              0.0                    0.0   \n",
              "2024-03-02 10:30:00              0.0              0.0                    0.0   \n",
              "2024-03-02 10:32:00              0.0              0.0                    0.0   \n",
              "2024-03-02 10:34:00              0.0              0.0                    0.0   \n",
              "2024-03-02 10:36:00              0.0              0.0                    0.0   \n",
              "...                              ...              ...                    ...   \n",
              "2024-03-05 00:12:00              0.0              0.0                    0.0   \n",
              "2024-03-05 00:14:00              0.0              0.0                    0.0   \n",
              "2024-03-05 00:16:00              0.0              0.0                    0.0   \n",
              "2024-03-05 00:18:00              0.0              0.0                    0.0   \n",
              "2024-03-05 00:20:00              0.0              0.0                    0.0   \n",
              "\n",
              "                     time__day_of_week_2.0  time__day_of_week_3.0  \\\n",
              "time                                                                \n",
              "2024-03-02 10:28:00                    0.0                    0.0   \n",
              "2024-03-02 10:30:00                    0.0                    0.0   \n",
              "2024-03-02 10:32:00                    0.0                    0.0   \n",
              "2024-03-02 10:34:00                    0.0                    0.0   \n",
              "2024-03-02 10:36:00                    0.0                    0.0   \n",
              "...                                    ...                    ...   \n",
              "2024-03-05 00:12:00                    1.0                    0.0   \n",
              "2024-03-05 00:14:00                    1.0                    0.0   \n",
              "2024-03-05 00:16:00                    1.0                    0.0   \n",
              "2024-03-05 00:18:00                    1.0                    0.0   \n",
              "2024-03-05 00:20:00                    1.0                    0.0   \n",
              "\n",
              "                     time__day_of_week_4.0  time__day_of_week_5.0  \\\n",
              "time                                                                \n",
              "2024-03-02 10:28:00                    0.0                    0.0   \n",
              "2024-03-02 10:30:00                    0.0                    0.0   \n",
              "2024-03-02 10:32:00                    0.0                    0.0   \n",
              "2024-03-02 10:34:00                    0.0                    0.0   \n",
              "2024-03-02 10:36:00                    0.0                    0.0   \n",
              "...                                    ...                    ...   \n",
              "2024-03-05 00:12:00                    0.0                    0.0   \n",
              "2024-03-05 00:14:00                    0.0                    0.0   \n",
              "2024-03-05 00:16:00                    0.0                    0.0   \n",
              "2024-03-05 00:18:00                    0.0                    0.0   \n",
              "2024-03-05 00:20:00                    0.0                    0.0   \n",
              "\n",
              "                     time__day_of_week_6.0  time__day_of_week_7.0  \n",
              "time                                                               \n",
              "2024-03-02 10:28:00                    1.0                    0.0  \n",
              "2024-03-02 10:30:00                    1.0                    0.0  \n",
              "2024-03-02 10:32:00                    1.0                    0.0  \n",
              "2024-03-02 10:34:00                    1.0                    0.0  \n",
              "2024-03-02 10:36:00                    1.0                    0.0  \n",
              "...                                    ...                    ...  \n",
              "2024-03-05 00:12:00                    0.0                    0.0  \n",
              "2024-03-05 00:14:00                    0.0                    0.0  \n",
              "2024-03-05 00:16:00                    0.0                    0.0  \n",
              "2024-03-05 00:18:00                    0.0                    0.0  \n",
              "2024-03-05 00:20:00                    0.0                    0.0  \n",
              "\n",
              "[1857 rows x 39 columns]"
            ]
          },
          "execution_count": 20,
          "metadata": {},
          "output_type": "execute_result"
        }
      ],
      "source": [
        "dataframes[0]"
      ]
    },
    {
      "cell_type": "code",
      "execution_count": 21,
      "metadata": {
        "executionInfo": {
          "elapsed": 12,
          "status": "ok",
          "timestamp": 1711830891795,
          "user": {
            "displayName": "",
            "userId": ""
          },
          "user_tz": -60
        },
        "id": "xvI0MqtsUWZe"
      },
      "outputs": [],
      "source": [
        "def create_3d(dataframes):\n",
        "  sequences = []\n",
        "  targets = []\n",
        "  processed = 0\n",
        "\n",
        "  for i in range(len(dataframes)):\n",
        "\n",
        "      sequence, target = lstm_formatter._create_3d_array(dataframes[i])\n",
        "      if sequence is None:\n",
        "          continue\n",
        "      sequences.append(sequence)\n",
        "      targets.append(target)\n",
        "      processed += len(sequence)\n",
        "      print(f'Processed {processed} data points')\n",
        "\n",
        "  sequences = np.concatenate(sequences)\n",
        "  targets = np.concatenate(targets)\n",
        "  return sequences, targets"
      ]
    },
    {
      "cell_type": "code",
      "execution_count": 22,
      "metadata": {
        "executionInfo": {
          "elapsed": 12,
          "status": "ok",
          "timestamp": 1711830891795,
          "user": {
            "displayName": "",
            "userId": ""
          },
          "user_tz": -60
        },
        "id": "nVJbLa1TiDAr"
      },
      "outputs": [],
      "source": [
        "# X_all, y_all = create_3d(dataframes)"
      ]
    },
    {
      "cell_type": "code",
      "execution_count": 23,
      "metadata": {
        "executionInfo": {
          "elapsed": 11,
          "status": "ok",
          "timestamp": 1711830891795,
          "user": {
            "displayName": "",
            "userId": ""
          },
          "user_tz": -60
        },
        "id": "M7S1fLJpj0F1"
      },
      "outputs": [],
      "source": [
        "# with open('2min/30_10/X_train_qt.npy', 'wb') as f:\n",
        "#     np.save(f, X_all)\n",
        "# with open('2min/30_10/y_train_qt.npy', 'wb') as f:\n",
        "#     np.save(f, y_all)"
      ]
    },
    {
      "cell_type": "code",
      "execution_count": 24,
      "metadata": {
        "executionInfo": {
          "elapsed": 7507,
          "status": "ok",
          "timestamp": 1711830899292,
          "user": {
            "displayName": "",
            "userId": ""
          },
          "user_tz": -60
        },
        "id": "ClRh7Ginqkp4"
      },
      "outputs": [],
      "source": [
        "X_all = np.load('2min/30_10/X_train_qt.npy', allow_pickle=True)\n",
        "y_all = np.load('2min/30_10/y_train_qt.npy', allow_pickle=True)"
      ]
    },
    {
      "cell_type": "code",
      "execution_count": 25,
      "metadata": {
        "colab": {
          "base_uri": "https://localhost:8080/"
        },
        "executionInfo": {
          "elapsed": 15,
          "status": "ok",
          "timestamp": 1711830899293,
          "user": {
            "displayName": "",
            "userId": ""
          },
          "user_tz": -60
        },
        "id": "GfPPpW-VL5Vq",
        "outputId": "1202fdc8-d2ef-463b-fc8e-0ea599bd1676"
      },
      "outputs": [
        {
          "name": "stdout",
          "output_type": "stream",
          "text": [
            "['qt_scaler__mass_concentration_pm1p0', 'qt_scaler__mass_concentration_pm2p5', 'qt_scaler__mass_concentration_pm4p0', 'qt_scaler__mass_concentration_pm10p0', 'qt_scaler__voc_index', 'mm_scaler__ambient_humidity', 'mm_scaler__ambient_temperature', 'mm_scaler__nox_index', 'time__hour_0.0', 'time__hour_1.0', 'time__hour_2.0', 'time__hour_3.0', 'time__hour_4.0', 'time__hour_5.0', 'time__hour_6.0', 'time__hour_7.0', 'time__hour_8.0', 'time__hour_9.0', 'time__hour_10.0', 'time__hour_11.0', 'time__hour_12.0', 'time__hour_13.0', 'time__hour_14.0', 'time__hour_15.0', 'time__hour_16.0', 'time__hour_17.0', 'time__hour_18.0', 'time__hour_19.0', 'time__hour_20.0', 'time__hour_21.0', 'time__hour_22.0', 'time__hour_23.0', 'time__day_of_week_1.0', 'time__day_of_week_2.0', 'time__day_of_week_3.0', 'time__day_of_week_4.0', 'time__day_of_week_5.0', 'time__day_of_week_6.0', 'time__day_of_week_7.0']\n"
          ]
        }
      ],
      "source": [
        "columns = new_data.columns.tolist()\n",
        "columns.remove('pass__device_id')\n",
        "print(columns)"
      ]
    },
    {
      "cell_type": "code",
      "execution_count": 26,
      "metadata": {
        "colab": {
          "base_uri": "https://localhost:8080/"
        },
        "executionInfo": {
          "elapsed": 11,
          "status": "ok",
          "timestamp": 1711830899293,
          "user": {
            "displayName": "",
            "userId": ""
          },
          "user_tz": -60
        },
        "id": "ME2jlwQ5FblR",
        "outputId": "e591d5cc-7b21-485d-9147-e8c32d8c2452"
      },
      "outputs": [
        {
          "data": {
            "text/plain": [
              "array([0.06056056, 0.05405405, 0.06256256, 0.06606607, 0.54251462,\n",
              "       0.32628772, 0.42100793, 0.1       , 0.        , 0.        ,\n",
              "       0.        , 0.        , 0.        , 0.        , 0.        ,\n",
              "       0.        , 0.        , 0.        , 1.        , 0.        ,\n",
              "       0.        , 0.        , 0.        , 0.        , 0.        ,\n",
              "       0.        , 0.        , 0.        , 0.        , 0.        ,\n",
              "       0.        , 0.        , 0.        , 0.        , 0.        ,\n",
              "       0.        , 0.        , 1.        , 0.        ])"
            ]
          },
          "execution_count": 26,
          "metadata": {},
          "output_type": "execute_result"
        }
      ],
      "source": [
        "X_all[0][10]"
      ]
    },
    {
      "cell_type": "code",
      "execution_count": 27,
      "metadata": {
        "colab": {
          "base_uri": "https://localhost:8080/"
        },
        "executionInfo": {
          "elapsed": 9,
          "status": "ok",
          "timestamp": 1711830899293,
          "user": {
            "displayName": "",
            "userId": ""
          },
          "user_tz": -60
        },
        "id": "LjeFKmhecul0",
        "outputId": "c9f3c379-9a7c-4b9d-a2fb-6f8ed1f2a452"
      },
      "outputs": [
        {
          "data": {
            "text/plain": [
              "array([0.03553554, 0.01751752, 0.01438315, 0.01401401, 0.47266211,\n",
              "       0.32176769, 0.36402888, 0.1       ])"
            ]
          },
          "execution_count": 27,
          "metadata": {},
          "output_type": "execute_result"
        }
      ],
      "source": [
        "y_all[0]"
      ]
    },
    {
      "cell_type": "code",
      "execution_count": 28,
      "metadata": {
        "colab": {
          "base_uri": "https://localhost:8080/",
          "height": 917
        },
        "executionInfo": {
          "elapsed": 644,
          "status": "ok",
          "timestamp": 1711830899930,
          "user": {
            "displayName": "",
            "userId": ""
          },
          "user_tz": -60
        },
        "id": "maUsG-HnltuF",
        "outputId": "4af3a107-37ee-42cb-90f8-6f87fb23b013"
      },
      "outputs": [
        {
          "data": {
            "text/plain": [
              "(array([630., 280., 245., 146.,  87., 126., 117., 105., 102.,  19.]),\n",
              " array([9.98431037e-04, 1.00898588e-01, 2.00798745e-01, 3.00698902e-01,\n",
              "        4.00599059e-01, 5.00499216e-01, 6.00399372e-01, 7.00299529e-01,\n",
              "        8.00199686e-01, 9.00099843e-01, 1.00000000e+00]),\n",
              " <BarContainer object of 10 artists>)"
            ]
          },
          "execution_count": 28,
          "metadata": {},
          "output_type": "execute_result"
        },
        {
          "data": {
            "image/png": "[encoded data removed]",
            "text/plain": [
              "<Figure size 1000x1000 with 1 Axes>"
            ]
          },
          "metadata": {},
          "output_type": "display_data"
        }
      ],
      "source": [
        "import matplotlib.pyplot as plt\n",
        "plt.figure(figsize=(10, 10))\n",
        "plt.hist(dataframes[0]['qt_scaler__mass_concentration_pm10p0'])"
      ]
    },
    {
      "cell_type": "code",
      "execution_count": 58,
      "metadata": {
        "colab": {
          "base_uri": "https://localhost:8080/"
        },
        "executionInfo": {
          "elapsed": 181349,
          "status": "ok",
          "timestamp": 1711835424577,
          "user": {
            "displayName": "",
            "userId": ""
          },
          "user_tz": -60
        },
        "id": "DmPfOJxgL5Vr",
        "outputId": "c116c81b-4b3f-4525-e90b-feac1143ae7e"
      },
      "outputs": [
        {
          "name": "stdout",
          "output_type": "stream",
          "text": [
            "Input shape: (30, 39)\n",
            "Epoch 1/50\n",
            "553/553 [==============================] - 13s 7ms/step - loss: 0.0286 - mae: 0.1022 - val_loss: 0.0085 - val_mae: 0.0578 - lr: 1.0000e-04\n",
            "Epoch 2/50\n",
            "553/553 [==============================] - 3s 6ms/step - loss: 0.0082 - mae: 0.0552 - val_loss: 0.0080 - val_mae: 0.0538 - lr: 1.0000e-04\n",
            "Epoch 3/50\n",
            "553/553 [==============================] - 3s 6ms/step - loss: 0.0076 - mae: 0.0513 - val_loss: 0.0073 - val_mae: 0.0495 - lr: 1.0000e-04\n",
            "Epoch 4/50\n",
            "553/553 [==============================] - 4s 8ms/step - loss: 0.0074 - mae: 0.0496 - val_loss: 0.0074 - val_mae: 0.0506 - lr: 1.0000e-04\n",
            "Epoch 5/50\n",
            "553/553 [==============================] - 4s 7ms/step - loss: 0.0072 - mae: 0.0488 - val_loss: 0.0073 - val_mae: 0.0492 - lr: 1.0000e-04\n",
            "Epoch 6/50\n",
            "553/553 [==============================] - 3s 6ms/step - loss: 0.0071 - mae: 0.0480 - val_loss: 0.0071 - val_mae: 0.0477 - lr: 1.0000e-04\n",
            "Epoch 7/50\n",
            "553/553 [==============================] - 3s 6ms/step - loss: 0.0070 - mae: 0.0474 - val_loss: 0.0069 - val_mae: 0.0472 - lr: 1.0000e-04\n",
            "Epoch 8/50\n",
            "553/553 [==============================] - 3s 6ms/step - loss: 0.0070 - mae: 0.0469 - val_loss: 0.0068 - val_mae: 0.0455 - lr: 1.0000e-04\n",
            "Epoch 9/50\n",
            "553/553 [==============================] - 3s 6ms/step - loss: 0.0069 - mae: 0.0465 - val_loss: 0.0068 - val_mae: 0.0470 - lr: 1.0000e-04\n",
            "Epoch 10/50\n",
            "553/553 [==============================] - 3s 6ms/step - loss: 0.0069 - mae: 0.0466 - val_loss: 0.0068 - val_mae: 0.0464 - lr: 1.0000e-04\n",
            "Epoch 11/50\n",
            "553/553 [==============================] - 3s 6ms/step - loss: 0.0069 - mae: 0.0462 - val_loss: 0.0067 - val_mae: 0.0455 - lr: 1.0000e-04\n",
            "Epoch 12/50\n",
            "553/553 [==============================] - 3s 6ms/step - loss: 0.0069 - mae: 0.0459 - val_loss: 0.0067 - val_mae: 0.0454 - lr: 1.0000e-04\n",
            "Epoch 13/50\n",
            "553/553 [==============================] - 3s 6ms/step - loss: 0.0068 - mae: 0.0458 - val_loss: 0.0067 - val_mae: 0.0449 - lr: 1.0000e-04\n",
            "Epoch 14/50\n",
            "553/553 [==============================] - 3s 6ms/step - loss: 0.0068 - mae: 0.0457 - val_loss: 0.0067 - val_mae: 0.0455 - lr: 1.0000e-04\n",
            "Epoch 15/50\n",
            "553/553 [==============================] - 3s 6ms/step - loss: 0.0068 - mae: 0.0454 - val_loss: 0.0067 - val_mae: 0.0451 - lr: 1.0000e-04\n",
            "Epoch 16/50\n",
            "553/553 [==============================] - 3s 6ms/step - loss: 0.0068 - mae: 0.0455 - val_loss: 0.0068 - val_mae: 0.0469 - lr: 1.0000e-04\n",
            "Epoch 17/50\n",
            "553/553 [==============================] - 3s 6ms/step - loss: 0.0067 - mae: 0.0451 - val_loss: 0.0067 - val_mae: 0.0454 - lr: 1.0000e-04\n",
            "Epoch 18/50\n",
            "553/553 [==============================] - 3s 6ms/step - loss: 0.0067 - mae: 0.0451 - val_loss: 0.0066 - val_mae: 0.0449 - lr: 1.0000e-04\n",
            "Epoch 19/50\n",
            "553/553 [==============================] - 3s 6ms/step - loss: 0.0067 - mae: 0.0451 - val_loss: 0.0066 - val_mae: 0.0443 - lr: 1.0000e-04\n",
            "Epoch 20/50\n",
            "553/553 [==============================] - 3s 6ms/step - loss: 0.0067 - mae: 0.0450 - val_loss: 0.0066 - val_mae: 0.0446 - lr: 1.0000e-04\n",
            "Epoch 21/50\n",
            "553/553 [==============================] - 3s 6ms/step - loss: 0.0067 - mae: 0.0447 - val_loss: 0.0066 - val_mae: 0.0445 - lr: 1.0000e-04\n",
            "Epoch 22/50\n",
            "553/553 [==============================] - 3s 6ms/step - loss: 0.0067 - mae: 0.0447 - val_loss: 0.0066 - val_mae: 0.0443 - lr: 1.0000e-04\n",
            "Epoch 23/50\n",
            "553/553 [==============================] - 3s 6ms/step - loss: 0.0067 - mae: 0.0448 - val_loss: 0.0066 - val_mae: 0.0453 - lr: 1.0000e-04\n",
            "Epoch 24/50\n",
            "553/553 [==============================] - 3s 6ms/step - loss: 0.0067 - mae: 0.0446 - val_loss: 0.0065 - val_mae: 0.0438 - lr: 1.0000e-04\n",
            "Epoch 25/50\n",
            "553/553 [==============================] - 3s 6ms/step - loss: 0.0066 - mae: 0.0445 - val_loss: 0.0066 - val_mae: 0.0448 - lr: 1.0000e-04\n",
            "Epoch 26/50\n",
            "553/553 [==============================] - 3s 6ms/step - loss: 0.0066 - mae: 0.0445 - val_loss: 0.0066 - val_mae: 0.0458 - lr: 1.0000e-04\n",
            "Epoch 27/50\n",
            "553/553 [==============================] - 3s 6ms/step - loss: 0.0066 - mae: 0.0444 - val_loss: 0.0065 - val_mae: 0.0438 - lr: 1.0000e-04\n",
            "Epoch 28/50\n",
            "553/553 [==============================] - 3s 6ms/step - loss: 0.0066 - mae: 0.0444 - val_loss: 0.0066 - val_mae: 0.0451 - lr: 1.0000e-04\n",
            "Epoch 29/50\n",
            "553/553 [==============================] - 3s 6ms/step - loss: 0.0066 - mae: 0.0444 - val_loss: 0.0065 - val_mae: 0.0436 - lr: 1.0000e-04\n",
            "Epoch 30/50\n",
            "553/553 [==============================] - 3s 6ms/step - loss: 0.0066 - mae: 0.0442 - val_loss: 0.0065 - val_mae: 0.0435 - lr: 1.0000e-04\n",
            "Epoch 31/50\n",
            "553/553 [==============================] - 3s 6ms/step - loss: 0.0065 - mae: 0.0440 - val_loss: 0.0066 - val_mae: 0.0456 - lr: 1.0000e-04\n",
            "Epoch 32/50\n",
            "553/553 [==============================] - 3s 6ms/step - loss: 0.0065 - mae: 0.0441 - val_loss: 0.0066 - val_mae: 0.0449 - lr: 1.0000e-04\n",
            "Epoch 33/50\n",
            "553/553 [==============================] - 3s 6ms/step - loss: 0.0065 - mae: 0.0440 - val_loss: 0.0065 - val_mae: 0.0436 - lr: 1.0000e-04\n",
            "Epoch 34/50\n",
            "553/553 [==============================] - 3s 6ms/step - loss: 0.0065 - mae: 0.0441 - val_loss: 0.0067 - val_mae: 0.0470 - lr: 1.0000e-04\n",
            "Epoch 35/50\n",
            "553/553 [==============================] - 3s 6ms/step - loss: 0.0065 - mae: 0.0439 - val_loss: 0.0065 - val_mae: 0.0453 - lr: 1.0000e-04\n",
            "Epoch 36/50\n",
            "553/553 [==============================] - 3s 6ms/step - loss: 0.0065 - mae: 0.0438 - val_loss: 0.0065 - val_mae: 0.0436 - lr: 1.0000e-04\n",
            "Epoch 37/50\n",
            "553/553 [==============================] - 3s 6ms/step - loss: 0.0065 - mae: 0.0438 - val_loss: 0.0065 - val_mae: 0.0448 - lr: 1.0000e-04\n",
            "Epoch 38/50\n",
            "553/553 [==============================] - 3s 6ms/step - loss: 0.0065 - mae: 0.0438 - val_loss: 0.0064 - val_mae: 0.0441 - lr: 1.0000e-04\n",
            "Epoch 39/50\n",
            "553/553 [==============================] - 3s 6ms/step - loss: 0.0065 - mae: 0.0437 - val_loss: 0.0066 - val_mae: 0.0447 - lr: 1.0000e-04\n",
            "Epoch 40/50\n",
            "553/553 [==============================] - 3s 6ms/step - loss: 0.0064 - mae: 0.0437 - val_loss: 0.0065 - val_mae: 0.0443 - lr: 1.0000e-04\n",
            "Epoch 41/50\n",
            "553/553 [==============================] - 3s 6ms/step - loss: 0.0064 - mae: 0.0436 - val_loss: 0.0064 - val_mae: 0.0440 - lr: 1.0000e-04\n",
            "Epoch 42/50\n",
            "553/553 [==============================] - 3s 6ms/step - loss: 0.0064 - mae: 0.0436 - val_loss: 0.0064 - val_mae: 0.0436 - lr: 1.0000e-04\n",
            "Epoch 43/50\n",
            "553/553 [==============================] - 3s 6ms/step - loss: 0.0064 - mae: 0.0434 - val_loss: 0.0064 - val_mae: 0.0440 - lr: 1.0000e-04\n",
            "Epoch 44/50\n",
            "553/553 [==============================] - 3s 6ms/step - loss: 0.0064 - mae: 0.0434 - val_loss: 0.0064 - val_mae: 0.0444 - lr: 1.0000e-04\n",
            "Epoch 45/50\n",
            "553/553 [==============================] - 3s 6ms/step - loss: 0.0064 - mae: 0.0435 - val_loss: 0.0064 - val_mae: 0.0436 - lr: 1.0000e-04\n",
            "Epoch 46/50\n",
            "553/553 [==============================] - 3s 6ms/step - loss: 0.0064 - mae: 0.0433 - val_loss: 0.0064 - val_mae: 0.0436 - lr: 1.0000e-04\n",
            "Epoch 47/50\n",
            "553/553 [==============================] - 3s 6ms/step - loss: 0.0064 - mae: 0.0433 - val_loss: 0.0064 - val_mae: 0.0437 - lr: 1.0000e-04\n",
            "Epoch 48/50\n",
            "553/553 [==============================] - 3s 6ms/step - loss: 0.0063 - mae: 0.0432 - val_loss: 0.0064 - val_mae: 0.0440 - lr: 1.0000e-04\n",
            "Epoch 49/50\n",
            "553/553 [==============================] - 3s 6ms/step - loss: 0.0063 - mae: 0.0432 - val_loss: 0.0063 - val_mae: 0.0437 - lr: 1.0000e-04\n",
            "Epoch 50/50\n",
            "553/553 [==============================] - 3s 6ms/step - loss: 0.0063 - mae: 0.0432 - val_loss: 0.0064 - val_mae: 0.0436 - lr: 1.0000e-04\n"
          ]
        }
      ],
      "source": [
        "import tensorflow as tf\n",
        "from tensorflow.keras.models import Model\n",
        "from tensorflow.keras.layers import LSTM, Dense, Input\n",
        "from tensorflow.keras.optimizers import Adam\n",
        "from tensorflow.keras.callbacks import EarlyStopping, ReduceLROnPlateau\n",
        "from sklearn.model_selection import train_test_split\n",
        "\n",
        "\n",
        "\n",
        "# Define the input shape\n",
        "input_shape = X_all[0].shape\n",
        "output_shape = y_all.shape[1]\n",
        "print('Input shape:', input_shape)\n",
        "\n",
        "# Define the LSTM-based neural network\n",
        "inputs = Input(shape=input_shape)\n",
        "lstm_layer = LSTM(256)(inputs)\n",
        "dense = Dense(128, activation='relu')(lstm_layer)\n",
        "dense = Dense(64, activation='relu')(dense)\n",
        "output = Dense(output_shape, 'linear')(dense)\n",
        "\n",
        "# Create the model\n",
        "model = Model(inputs=inputs, outputs=output)\n",
        "\n",
        "# Compile the model\n",
        "model.compile(optimizer=Adam(learning_rate=0.0001), loss='mse', metrics=['mae'])\n",
        "\n",
        "# Train the model\n",
        "X_train, X_test, y_train, y_test = train_test_split(X_all, y_all, test_size=0.2, shuffle=True)\n",
        "\n",
        "# Callbacks\n",
        "\n",
        "\n",
        "early_stopping=EarlyStopping(patience=5)\n",
        "reduce_lr = ReduceLROnPlateau(monitor='val_loss', factor=0.2, patience=5, min_lr=0.0001)\n",
        "\n",
        "history = model.fit(X_train, y_train, epochs=50, batch_size=128, validation_split=0.1, callbacks=[early_stopping, reduce_lr])"
      ]
    },
    {
      "cell_type": "code",
      "execution_count": 59,
      "metadata": {
        "colab": {
          "base_uri": "https://localhost:8080/",
          "height": 472
        },
        "executionInfo": {
          "elapsed": 1246,
          "status": "ok",
          "timestamp": 1711835430639,
          "user": {
            "displayName": "",
            "userId": ""
          },
          "user_tz": -60
        },
        "id": "Dj-vJQWHBbTU",
        "outputId": "459934fe-e8ca-4663-85d7-8fbcdd99f65e"
      },
      "outputs": [
        {
          "data": {
            "image/png": "[encoded data removed]",
            "text/plain": [
              "<Figure size 640x480 with 1 Axes>"
            ]
          },
          "metadata": {},
          "output_type": "display_data"
        }
      ],
      "source": [
        "# summarize history for accuracy\n",
        "plt.plot(history.history['mae'])\n",
        "plt.plot(history.history['val_mae'])\n",
        "plt.title('Model mean absolute error')\n",
        "plt.ylabel('mean absolute error')\n",
        "plt.xlabel('epoch')\n",
        "plt.legend(['train', 'validate'], loc='upper left')\n",
        "plt.show()"
      ]
    },
    {
      "cell_type": "code",
      "execution_count": 60,
      "metadata": {
        "colab": {
          "base_uri": "https://localhost:8080/",
          "height": 472
        },
        "executionInfo": {
          "elapsed": 473,
          "status": "ok",
          "timestamp": 1711835440149,
          "user": {
            "displayName": "",
            "userId": ""
          },
          "user_tz": -60
        },
        "id": "Nj_OLj-ZBKqF",
        "outputId": "b5132c79-6dcf-457f-d2f2-d45c8ec3290c"
      },
      "outputs": [
        {
          "data": {
            "image/png": "[encoded data removed]",
            "text/plain": [
              "<Figure size 640x480 with 1 Axes>"
            ]
          },
          "metadata": {},
          "output_type": "display_data"
        }
      ],
      "source": [
        "# summarize history for loss\n",
        "plt.plot(history.history['loss'])\n",
        "plt.plot(history.history['val_loss'])\n",
        "plt.title('Model loss')\n",
        "plt.ylabel('loss')\n",
        "plt.xlabel('epoch')\n",
        "plt.legend(['train', 'validate'], loc='upper left')\n",
        "plt.show()"
      ]
    },
    {
      "cell_type": "code",
      "execution_count": 65,
      "metadata": {
        "colab": {
          "base_uri": "https://localhost:8080/"
        },
        "executionInfo": {
          "elapsed": 6621,
          "status": "ok",
          "timestamp": 1711835888961,
          "user": {
            "displayName": "",
            "userId": ""
          },
          "user_tz": -60
        },
        "id": "9sexgF0KIEcY",
        "outputId": "30f3b758-f24e-437e-e1b3-1a5786b5855e"
      },
      "outputs": [
        {
          "name": "stdout",
          "output_type": "stream",
          "text": [
            "615/615 [==============================] - 3s 3ms/step\n"
          ]
        },
        {
          "data": {
            "text/plain": [
              "(19652, 8)"
            ]
          },
          "execution_count": 65,
          "metadata": {},
          "output_type": "execute_result"
        }
      ],
      "source": [
        "y_pred = model.predict(X_test)\n",
        "y_pred.shape"
      ]
    },
    {
      "cell_type": "code",
      "execution_count": 66,
      "metadata": {
        "colab": {
          "base_uri": "https://localhost:8080/"
        },
        "executionInfo": {
          "elapsed": 121,
          "status": "ok",
          "timestamp": 1711835889807,
          "user": {
            "displayName": "",
            "userId": ""
          },
          "user_tz": -60
        },
        "id": "zBT8eiXdvi4t",
        "outputId": "757716ce-3b75-4a34-ef7b-5be67a3af2b1"
      },
      "outputs": [
        {
          "name": "stdout",
          "output_type": "stream",
          "text": [
            "[[ 27.923037   29.84075    28.664246   29.339687  140.5739     52.42754\n",
            "   13.4615755   1.0682502]\n",
            " [  9.616142    9.9         9.9053     10.1        67.22075    67.62397\n",
            "   12.962861    1.1171155]\n",
            " [  5.9         7.1         8.1         8.559038  161.8841     63.489746\n",
            "   11.588819    0.9258071]\n",
            " [ 16.734129   16.5        16.786552   16.4       101.         91.321686\n",
            "   10.062625    2.0089889]\n",
            " [  2.7918658   3.3192866   3.5705485   3.792418   64.1315     85.02629\n",
            "   10.356858    1.0690935]\n",
            " [ 14.595268   15.09351    14.671509   14.704834  112.         82.73388\n",
            "    9.555666    1.9546857]\n",
            " [  5.0992174   5.5962477   6.2         6.309482   75.         72.81056\n",
            "   11.869465    1.9045819]\n",
            " [  9.1         9.256105    9.6898365   9.9555235 110.741974   55.824486\n",
            "    8.784478    0.9984689]\n",
            " [  5.7         6.          6.10131     6.2       140.51297    52.386585\n",
            "   18.34135     1.0170501]\n",
            " [  9.2         9.4         9.89404     9.881297  174.38194    59.58272\n",
            "    8.104399    1.0237453]]\n"
          ]
        },
        {
          "name": "stderr",
          "output_type": "stream",
          "text": [
            "/usr/local/lib/python3.10/dist-packages/sklearn/base.py:439: UserWarning: X does not have valid feature names, but QuantileTransformer was fitted with feature names\n",
            "  warnings.warn(\n"
          ]
        }
      ],
      "source": [
        "def inverse_scale(col_trans, data):\n",
        "  data = data.copy()\n",
        "  # Inverse transform the data\n",
        "  for transformer in col_trans.transformers_:\n",
        "    if transformer[0] == 'rb_scaler':\n",
        "      columns_rb = col_trans.output_indices_['rb_scaler']\n",
        "      data[:, columns_rb] = transformer[1].inverse_transform(data[:, columns_rb])\n",
        "\n",
        "    elif transformer[0] == 'mm_scaler':\n",
        "        columns_mm = col_trans.output_indices_['mm_scaler']\n",
        "        data[:, columns_mm] = transformer[1].inverse_transform(data[:, columns_mm])\n",
        "\n",
        "    elif transformer[0] == 'qt_scaler':\n",
        "        columns_qt = col_trans.output_indices_['qt_scaler']\n",
        "        data[:, columns_qt] = transformer[1].inverse_transform(data[:, columns_qt])\n",
        "\n",
        "    elif transformer[0] == 'time':\n",
        "        pass\n",
        "  return data\n",
        "\n",
        "i_scaled = inverse_scale(col_trans, y_pred)\n",
        "print(i_scaled[:10])"
      ]
    },
    {
      "cell_type": "code",
      "execution_count": 67,
      "metadata": {
        "colab": {
          "base_uri": "https://localhost:8080/"
        },
        "executionInfo": {
          "elapsed": 112,
          "status": "ok",
          "timestamp": 1711835893531,
          "user": {
            "displayName": "",
            "userId": ""
          },
          "user_tz": -60
        },
        "id": "5luRJvhV7n_t",
        "outputId": "7a4a24d8-947e-4d33-bcdf-a152f2c0adfe"
      },
      "outputs": [
        {
          "name": "stdout",
          "output_type": "stream",
          "text": [
            "(19652, 39)\n",
            "Prediction error:  1.879993242575926\n",
            "Baseline error:  2.059962845429423 \n",
            "\n",
            "Prediction error:  2.0918070721037996\n",
            "Baseline error:  2.3007259022777107 \n",
            "\n",
            "Prediction error:  2.1803417583792037\n",
            "Baseline error:  2.513459202438223 \n",
            "\n",
            "Prediction error:  2.38500965096906\n",
            "Baseline error:  2.566677262460664 \n",
            "\n",
            "Prediction error:  18.695420298803413\n",
            "Baseline error:  18.017377685446174 \n",
            "\n",
            "Prediction error:  0.670540039540911\n",
            "Baseline error:  0.3691829652117477 \n",
            "\n",
            "Prediction error:  0.24282785624924502\n",
            "Baseline error:  0.05879533960354616 \n",
            "\n",
            "Prediction error:  0.1041625569351329\n",
            "Baseline error:  0.03736879844209887 \n",
            "\n"
          ]
        },
        {
          "name": "stderr",
          "output_type": "stream",
          "text": [
            "/usr/local/lib/python3.10/dist-packages/sklearn/base.py:439: UserWarning: X does not have valid feature names, but QuantileTransformer was fitted with feature names\n",
            "  warnings.warn(\n",
            "/usr/local/lib/python3.10/dist-packages/sklearn/base.py:439: UserWarning: X does not have valid feature names, but QuantileTransformer was fitted with feature names\n",
            "  warnings.warn(\n"
          ]
        }
      ],
      "source": [
        "y = inverse_scale(col_trans, y_test)\n",
        "x_last = [x[-1] for x in X_test]\n",
        "x_last = np.array(x_last)\n",
        "print(x_last.shape)\n",
        "x_last = x_last[:, :8]\n",
        "x_last = inverse_scale(col_trans, x_last)\n",
        "abs_errors = abs(i_scaled - y)\n",
        "abs_errors_base = abs(x_last - y)\n",
        "for i in range(8):\n",
        "  print('Prediction error: ', abs_errors[:, i].mean())\n",
        "  print('Baseline error: ', abs_errors_base[:, i].mean(), '\\n')"
      ]
    }
  ],
  "metadata": {
    "colab": {
      "name": "train_model_2min_all_qt.ipynb",
      "provenance": []
    },
    "kernelspec": {
      "display_name": ".venv",
      "language": "python",
      "name": "python3"
    },
    "language_info": {
      "codemirror_mode": {
        "name": "ipython",
        "version": 3
      },
      "file_extension": ".py",
      "mimetype": "text/x-python",
      "name": "python",
      "nbconvert_exporter": "python",
      "pygments_lexer": "ipython3",
      "version": "3.11.3"
    }
  },
  "nbformat": 4,
  "nbformat_minor": 0
}
