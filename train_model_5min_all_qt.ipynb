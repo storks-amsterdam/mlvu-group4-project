{
  "cells": [
    {
      "cell_type": "code",
      "execution_count": 1,
      "metadata": {
        "executionInfo": {
          "elapsed": 872,
          "status": "ok",
          "timestamp": 1711951058228,
          "user": {
            "displayName": "",
            "userId": ""
          },
          "user_tz": -120
        },
        "id": "GFe81qWC0VdC"
      },
      "outputs": [],
      "source": [
        "import pandas as pd\n",
        "from sqlalchemy import create_engine, text\n"
      ]
    },
    {
      "cell_type": "code",
      "execution_count": 2,
      "metadata": {
        "executionInfo": {
          "elapsed": 1211,
          "status": "ok",
          "timestamp": 1711951061176,
          "user": {
            "displayName": "",
            "userId": ""
          },
          "user_tz": -120
        },
        "id": "AmP8g3A40XIb"
      },
      "outputs": [],
      "source": [
        "user = os.environ.get(\"DB_USER\")\n",
        "pw = os.environ.get(\"DB_PASSWORD\")\n",
        "db = os.environ.get(\"DB_USER\")\n",
        "host = os.environ.get(\"DB_HOST\")\n",
        "port = os.environ.get(\"DB_PORT\")\n",
        "\n",
        "\n",
        "uri = f\"postgresql+psycopg2://{user}:{pw}@{host}:{port}/{db}\"\n",
        "engine = create_engine(uri)\n"
      ]
    },
    {
      "cell_type": "code",
      "execution_count": 3,
      "metadata": {
        "executionInfo": {
          "elapsed": 1063,
          "status": "ok",
          "timestamp": 1711951063810,
          "user": {
            "displayName": "",
            "userId": ""
          },
          "user_tz": -120
        },
        "id": "sNs5Vy0u0XOc"
      },
      "outputs": [],
      "source": [
        "query = text(\"SELECT * FROM records_5min_clean;\")\n",
        "conn = engine.connect()\n",
        "df = pd.read_sql(query, conn)\n",
        "conn.close()"
      ]
    },
    {
      "cell_type": "code",
      "execution_count": 4,
      "metadata": {
        "colab": {
          "base_uri": "https://localhost:8080/"
        },
        "executionInfo": {
          "elapsed": 158,
          "status": "ok",
          "timestamp": 1711951075236,
          "user": {
            "displayName": "",
            "userId": ""
          },
          "user_tz": -120
        },
        "id": "WQGs51p4p1yG",
        "outputId": "f6843791-a0bd-40c7-cc0b-9018efed3553"
      },
      "outputs": [
        {
          "data": {
            "text/plain": [
              "Index(['time', 'device_id', 'mass_concentration_pm1p0',\n",
              "       'mass_concentration_pm2p5', 'mass_concentration_pm4p0',\n",
              "       'mass_concentration_pm10p0', 'ambient_humidity', 'ambient_temperature',\n",
              "       'voc_index', 'nox_index', 'hour', 'minute_of_hour', 'day_of_week',\n",
              "       'day_name'],\n",
              "      dtype='object')"
            ]
          },
          "execution_count": 4,
          "metadata": {},
          "output_type": "execute_result"
        }
      ],
      "source": [
        "df.columns"
      ]
    },
    {
      "cell_type": "code",
      "execution_count": 5,
      "metadata": {
        "colab": {
          "base_uri": "https://localhost:8080/"
        },
        "executionInfo": {
          "elapsed": 171,
          "status": "ok",
          "timestamp": 1711951075405,
          "user": {
            "displayName": "",
            "userId": ""
          },
          "user_tz": -120
        },
        "id": "QJzvij2u0uTw",
        "outputId": "cafbcade-ef7d-4571-8fb5-0c2f9e2290fa"
      },
      "outputs": [
        {
          "name": "stdout",
          "output_type": "stream",
          "text": [
            "41128\n"
          ]
        }
      ],
      "source": [
        "cols = ['mass_concentration_pm1p0', 'mass_concentration_pm2p5', 'mass_concentration_pm4p0', 'mass_concentration_pm10p0']\n",
        "print(len(df))\n",
        "\n",
        "for col in cols:\n",
        "  df.loc[df[col] > 100, col] = 100\n"
      ]
    },
    {
      "cell_type": "code",
      "execution_count": 6,
      "metadata": {
        "executionInfo": {
          "elapsed": 3,
          "status": "ok",
          "timestamp": 1711951075406,
          "user": {
            "displayName": "",
            "userId": ""
          },
          "user_tz": -120
        },
        "id": "j8jLQxzNqS93"
      },
      "outputs": [],
      "source": [
        "df.loc[df['nox_index'] > 10, 'nox_index'] = 10"
      ]
    },
    {
      "cell_type": "code",
      "execution_count": 7,
      "metadata": {
        "colab": {
          "base_uri": "https://localhost:8080/",
          "height": 300
        },
        "executionInfo": {
          "elapsed": 139,
          "status": "ok",
          "timestamp": 1711951075543,
          "user": {
            "displayName": "",
            "userId": ""
          },
          "user_tz": -120
        },
        "id": "TC-KWBe9qt9q",
        "outputId": "a05a90bb-00da-4fe5-def2-28b71de5f92f"
      },
      "outputs": [
        {
          "data": {
            "text/html": [
              "\n",
              "  <div id=\"df-20933b87-2f99-4e3f-903d-1fcea3ff3ec3\" class=\"colab-df-container\">\n",
              "    <div>\n",
              "<style scoped>\n",
              "    .dataframe tbody tr th:only-of-type {\n",
              "        vertical-align: middle;\n",
              "    }\n",
              "\n",
              "    .dataframe tbody tr th {\n",
              "        vertical-align: top;\n",
              "    }\n",
              "\n",
              "    .dataframe thead th {\n",
              "        text-align: right;\n",
              "    }\n",
              "</style>\n",
              "<table border=\"1\" class=\"dataframe\">\n",
              "  <thead>\n",
              "    <tr style=\"text-align: right;\">\n",
              "      <th></th>\n",
              "      <th>device_id</th>\n",
              "      <th>mass_concentration_pm1p0</th>\n",
              "      <th>mass_concentration_pm2p5</th>\n",
              "      <th>mass_concentration_pm4p0</th>\n",
              "      <th>mass_concentration_pm10p0</th>\n",
              "      <th>ambient_humidity</th>\n",
              "      <th>ambient_temperature</th>\n",
              "      <th>voc_index</th>\n",
              "      <th>nox_index</th>\n",
              "      <th>hour</th>\n",
              "      <th>minute_of_hour</th>\n",
              "      <th>day_of_week</th>\n",
              "    </tr>\n",
              "  </thead>\n",
              "  <tbody>\n",
              "    <tr>\n",
              "      <th>count</th>\n",
              "      <td>41128.000000</td>\n",
              "      <td>41128.000000</td>\n",
              "      <td>41128.000000</td>\n",
              "      <td>41128.000000</td>\n",
              "      <td>41128.000000</td>\n",
              "      <td>40675.000000</td>\n",
              "      <td>40675.000000</td>\n",
              "      <td>40675.000000</td>\n",
              "      <td>40675.000000</td>\n",
              "      <td>41128.000000</td>\n",
              "      <td>41128.000000</td>\n",
              "      <td>41128.000000</td>\n",
              "    </tr>\n",
              "    <tr>\n",
              "      <th>mean</th>\n",
              "      <td>34.703049</td>\n",
              "      <td>13.405850</td>\n",
              "      <td>14.642389</td>\n",
              "      <td>15.137848</td>\n",
              "      <td>15.380163</td>\n",
              "      <td>74.393799</td>\n",
              "      <td>10.384168</td>\n",
              "      <td>113.685910</td>\n",
              "      <td>1.436077</td>\n",
              "      <td>11.519986</td>\n",
              "      <td>27.478603</td>\n",
              "      <td>3.962848</td>\n",
              "    </tr>\n",
              "    <tr>\n",
              "      <th>std</th>\n",
              "      <td>3.032076</td>\n",
              "      <td>13.624296</td>\n",
              "      <td>14.108522</td>\n",
              "      <td>14.073537</td>\n",
              "      <td>14.068942</td>\n",
              "      <td>15.347719</td>\n",
              "      <td>3.582560</td>\n",
              "      <td>56.600634</td>\n",
              "      <td>0.968518</td>\n",
              "      <td>6.926753</td>\n",
              "      <td>17.251324</td>\n",
              "      <td>2.048630</td>\n",
              "    </tr>\n",
              "    <tr>\n",
              "      <th>min</th>\n",
              "      <td>31.000000</td>\n",
              "      <td>0.000000</td>\n",
              "      <td>0.000000</td>\n",
              "      <td>0.000000</td>\n",
              "      <td>0.000000</td>\n",
              "      <td>24.516667</td>\n",
              "      <td>1.390000</td>\n",
              "      <td>1.000000</td>\n",
              "      <td>0.000000</td>\n",
              "      <td>0.000000</td>\n",
              "      <td>0.000000</td>\n",
              "      <td>1.000000</td>\n",
              "    </tr>\n",
              "    <tr>\n",
              "      <th>25%</th>\n",
              "      <td>32.000000</td>\n",
              "      <td>4.269167</td>\n",
              "      <td>5.322222</td>\n",
              "      <td>5.850000</td>\n",
              "      <td>6.066667</td>\n",
              "      <td>63.631667</td>\n",
              "      <td>8.103333</td>\n",
              "      <td>78.000000</td>\n",
              "      <td>1.000000</td>\n",
              "      <td>6.000000</td>\n",
              "      <td>10.000000</td>\n",
              "      <td>2.000000</td>\n",
              "    </tr>\n",
              "    <tr>\n",
              "      <th>50%</th>\n",
              "      <td>34.000000</td>\n",
              "      <td>8.200000</td>\n",
              "      <td>9.300000</td>\n",
              "      <td>10.022222</td>\n",
              "      <td>10.310000</td>\n",
              "      <td>75.370000</td>\n",
              "      <td>10.080000</td>\n",
              "      <td>100.666667</td>\n",
              "      <td>1.000000</td>\n",
              "      <td>11.000000</td>\n",
              "      <td>25.000000</td>\n",
              "      <td>4.000000</td>\n",
              "    </tr>\n",
              "    <tr>\n",
              "      <th>75%</th>\n",
              "      <td>37.000000</td>\n",
              "      <td>16.800000</td>\n",
              "      <td>17.824167</td>\n",
              "      <td>18.200000</td>\n",
              "      <td>18.550000</td>\n",
              "      <td>85.930000</td>\n",
              "      <td>12.376833</td>\n",
              "      <td>134.500000</td>\n",
              "      <td>2.000000</td>\n",
              "      <td>18.000000</td>\n",
              "      <td>40.000000</td>\n",
              "      <td>6.000000</td>\n",
              "    </tr>\n",
              "    <tr>\n",
              "      <th>max</th>\n",
              "      <td>40.000000</td>\n",
              "      <td>100.000000</td>\n",
              "      <td>100.000000</td>\n",
              "      <td>100.000000</td>\n",
              "      <td>100.000000</td>\n",
              "      <td>100.000000</td>\n",
              "      <td>36.225000</td>\n",
              "      <td>495.000000</td>\n",
              "      <td>10.000000</td>\n",
              "      <td>23.000000</td>\n",
              "      <td>55.000000</td>\n",
              "      <td>7.000000</td>\n",
              "    </tr>\n",
              "  </tbody>\n",
              "</table>\n",
              "</div>\n",
              "    <div class=\"colab-df-buttons\">\n",
              "\n",
              "  <div class=\"colab-df-container\">\n",
              "    <button class=\"colab-df-convert\" onclick=\"convertToInteractive('df-20933b87-2f99-4e3f-903d-1fcea3ff3ec3')\"\n",
              "            title=\"Convert this dataframe to an interactive table.\"\n",
              "            style=\"display:none;\">\n",
              "\n",
              "  <svg xmlns=\"http://www.w3.org/2000/svg\" height=\"24px\" viewBox=\"0 -960 960 960\">\n",
              "    <path d=\"M120-120v-720h720v720H120Zm60-500h600v-160H180v160Zm220 220h160v-160H400v160Zm0 220h160v-160H400v160ZM180-400h160v-160H180v160Zm440 0h160v-160H620v160ZM180-180h160v-160H180v160Zm440 0h160v-160H620v160Z\"/>\n",
              "  </svg>\n",
              "    </button>\n",
              "\n",
              "  <style>\n",
              "    .colab-df-container {\n",
              "      display:flex;\n",
              "      gap: 12px;\n",
              "    }\n",
              "\n",
              "    .colab-df-convert {\n",
              "      background-color: #E8F0FE;\n",
              "      border: none;\n",
              "      border-radius: 50%;\n",
              "      cursor: pointer;\n",
              "      display: none;\n",
              "      fill: #1967D2;\n",
              "      height: 32px;\n",
              "      padding: 0 0 0 0;\n",
              "      width: 32px;\n",
              "    }\n",
              "\n",
              "    .colab-df-convert:hover {\n",
              "      background-color: #E2EBFA;\n",
              "      box-shadow: 0px 1px 2px rgba(60, 64, 67, 0.3), 0px 1px 3px 1px rgba(60, 64, 67, 0.15);\n",
              "      fill: #174EA6;\n",
              "    }\n",
              "\n",
              "    .colab-df-buttons div {\n",
              "      margin-bottom: 4px;\n",
              "    }\n",
              "\n",
              "    [theme=dark] .colab-df-convert {\n",
              "      background-color: #3B4455;\n",
              "      fill: #D2E3FC;\n",
              "    }\n",
              "\n",
              "    [theme=dark] .colab-df-convert:hover {\n",
              "      background-color: #434B5C;\n",
              "      box-shadow: 0px 1px 3px 1px rgba(0, 0, 0, 0.15);\n",
              "      filter: drop-shadow(0px 1px 2px rgba(0, 0, 0, 0.3));\n",
              "      fill: #FFFFFF;\n",
              "    }\n",
              "  </style>\n",
              "\n",
              "    <script>\n",
              "      const buttonEl =\n",
              "        document.querySelector('#df-20933b87-2f99-4e3f-903d-1fcea3ff3ec3 button.colab-df-convert');\n",
              "      buttonEl.style.display =\n",
              "        google.colab.kernel.accessAllowed ? 'block' : 'none';\n",
              "\n",
              "      async function convertToInteractive(key) {\n",
              "        const element = document.querySelector('#df-20933b87-2f99-4e3f-903d-1fcea3ff3ec3');\n",
              "        const dataTable =\n",
              "          await google.colab.kernel.invokeFunction('convertToInteractive',\n",
              "                                                    [key], {});\n",
              "        if (!dataTable) return;\n",
              "\n",
              "        const docLinkHtml = 'Like what you see? Visit the ' +\n",
              "          '<a target=\"_blank\" href=https://colab.research.google.com/notebooks/data_table.ipynb>data table notebook</a>'\n",
              "          + ' to learn more about interactive tables.';\n",
              "        element.innerHTML = '';\n",
              "        dataTable['output_type'] = 'display_data';\n",
              "        await google.colab.output.renderOutput(dataTable, element);\n",
              "        const docLink = document.createElement('div');\n",
              "        docLink.innerHTML = docLinkHtml;\n",
              "        element.appendChild(docLink);\n",
              "      }\n",
              "    </script>\n",
              "  </div>\n",
              "\n",
              "\n",
              "<div id=\"df-d3218b0c-42b1-43f9-a08a-00dab35bdbdb\">\n",
              "  <button class=\"colab-df-quickchart\" onclick=\"quickchart('df-d3218b0c-42b1-43f9-a08a-00dab35bdbdb')\"\n",
              "            title=\"Suggest charts\"\n",
              "            style=\"display:none;\">\n",
              "\n",
              "<svg xmlns=\"http://www.w3.org/2000/svg\" height=\"24px\"viewBox=\"0 0 24 24\"\n",
              "     width=\"24px\">\n",
              "    <g>\n",
              "        <path d=\"M19 3H5c-1.1 0-2 .9-2 2v14c0 1.1.9 2 2 2h14c1.1 0 2-.9 2-2V5c0-1.1-.9-2-2-2zM9 17H7v-7h2v7zm4 0h-2V7h2v10zm4 0h-2v-4h2v4z\"/>\n",
              "    </g>\n",
              "</svg>\n",
              "  </button>\n",
              "\n",
              "<style>\n",
              "  .colab-df-quickchart {\n",
              "      --bg-color: #E8F0FE;\n",
              "      --fill-color: #1967D2;\n",
              "      --hover-bg-color: #E2EBFA;\n",
              "      --hover-fill-color: #174EA6;\n",
              "      --disabled-fill-color: #AAA;\n",
              "      --disabled-bg-color: #DDD;\n",
              "  }\n",
              "\n",
              "  [theme=dark] .colab-df-quickchart {\n",
              "      --bg-color: #3B4455;\n",
              "      --fill-color: #D2E3FC;\n",
              "      --hover-bg-color: #434B5C;\n",
              "      --hover-fill-color: #FFFFFF;\n",
              "      --disabled-bg-color: #3B4455;\n",
              "      --disabled-fill-color: #666;\n",
              "  }\n",
              "\n",
              "  .colab-df-quickchart {\n",
              "    background-color: var(--bg-color);\n",
              "    border: none;\n",
              "    border-radius: 50%;\n",
              "    cursor: pointer;\n",
              "    display: none;\n",
              "    fill: var(--fill-color);\n",
              "    height: 32px;\n",
              "    padding: 0;\n",
              "    width: 32px;\n",
              "  }\n",
              "\n",
              "  .colab-df-quickchart:hover {\n",
              "    background-color: var(--hover-bg-color);\n",
              "    box-shadow: 0 1px 2px rgba(60, 64, 67, 0.3), 0 1px 3px 1px rgba(60, 64, 67, 0.15);\n",
              "    fill: var(--button-hover-fill-color);\n",
              "  }\n",
              "\n",
              "  .colab-df-quickchart-complete:disabled,\n",
              "  .colab-df-quickchart-complete:disabled:hover {\n",
              "    background-color: var(--disabled-bg-color);\n",
              "    fill: var(--disabled-fill-color);\n",
              "    box-shadow: none;\n",
              "  }\n",
              "\n",
              "  .colab-df-spinner {\n",
              "    border: 2px solid var(--fill-color);\n",
              "    border-color: transparent;\n",
              "    border-bottom-color: var(--fill-color);\n",
              "    animation:\n",
              "      spin 1s steps(1) infinite;\n",
              "  }\n",
              "\n",
              "  @keyframes spin {\n",
              "    0% {\n",
              "      border-color: transparent;\n",
              "      border-bottom-color: var(--fill-color);\n",
              "      border-left-color: var(--fill-color);\n",
              "    }\n",
              "    20% {\n",
              "      border-color: transparent;\n",
              "      border-left-color: var(--fill-color);\n",
              "      border-top-color: var(--fill-color);\n",
              "    }\n",
              "    30% {\n",
              "      border-color: transparent;\n",
              "      border-left-color: var(--fill-color);\n",
              "      border-top-color: var(--fill-color);\n",
              "      border-right-color: var(--fill-color);\n",
              "    }\n",
              "    40% {\n",
              "      border-color: transparent;\n",
              "      border-right-color: var(--fill-color);\n",
              "      border-top-color: var(--fill-color);\n",
              "    }\n",
              "    60% {\n",
              "      border-color: transparent;\n",
              "      border-right-color: var(--fill-color);\n",
              "    }\n",
              "    80% {\n",
              "      border-color: transparent;\n",
              "      border-right-color: var(--fill-color);\n",
              "      border-bottom-color: var(--fill-color);\n",
              "    }\n",
              "    90% {\n",
              "      border-color: transparent;\n",
              "      border-bottom-color: var(--fill-color);\n",
              "    }\n",
              "  }\n",
              "</style>\n",
              "\n",
              "  <script>\n",
              "    async function quickchart(key) {\n",
              "      const quickchartButtonEl =\n",
              "        document.querySelector('#' + key + ' button');\n",
              "      quickchartButtonEl.disabled = true;  // To prevent multiple clicks.\n",
              "      quickchartButtonEl.classList.add('colab-df-spinner');\n",
              "      try {\n",
              "        const charts = await google.colab.kernel.invokeFunction(\n",
              "            'suggestCharts', [key], {});\n",
              "      } catch (error) {\n",
              "        console.error('Error during call to suggestCharts:', error);\n",
              "      }\n",
              "      quickchartButtonEl.classList.remove('colab-df-spinner');\n",
              "      quickchartButtonEl.classList.add('colab-df-quickchart-complete');\n",
              "    }\n",
              "    (() => {\n",
              "      let quickchartButtonEl =\n",
              "        document.querySelector('#df-d3218b0c-42b1-43f9-a08a-00dab35bdbdb button');\n",
              "      quickchartButtonEl.style.display =\n",
              "        google.colab.kernel.accessAllowed ? 'block' : 'none';\n",
              "    })();\n",
              "  </script>\n",
              "</div>\n",
              "    </div>\n",
              "  </div>\n"
            ],
            "text/plain": [
              "          device_id  mass_concentration_pm1p0  mass_concentration_pm2p5  \\\n",
              "count  41128.000000              41128.000000              41128.000000   \n",
              "mean      34.703049                 13.405850                 14.642389   \n",
              "std        3.032076                 13.624296                 14.108522   \n",
              "min       31.000000                  0.000000                  0.000000   \n",
              "25%       32.000000                  4.269167                  5.322222   \n",
              "50%       34.000000                  8.200000                  9.300000   \n",
              "75%       37.000000                 16.800000                 17.824167   \n",
              "max       40.000000                100.000000                100.000000   \n",
              "\n",
              "       mass_concentration_pm4p0  mass_concentration_pm10p0  ambient_humidity  \\\n",
              "count              41128.000000               41128.000000      40675.000000   \n",
              "mean                  15.137848                  15.380163         74.393799   \n",
              "std                   14.073537                  14.068942         15.347719   \n",
              "min                    0.000000                   0.000000         24.516667   \n",
              "25%                    5.850000                   6.066667         63.631667   \n",
              "50%                   10.022222                  10.310000         75.370000   \n",
              "75%                   18.200000                  18.550000         85.930000   \n",
              "max                  100.000000                 100.000000        100.000000   \n",
              "\n",
              "       ambient_temperature     voc_index     nox_index          hour  \\\n",
              "count         40675.000000  40675.000000  40675.000000  41128.000000   \n",
              "mean             10.384168    113.685910      1.436077     11.519986   \n",
              "std               3.582560     56.600634      0.968518      6.926753   \n",
              "min               1.390000      1.000000      0.000000      0.000000   \n",
              "25%               8.103333     78.000000      1.000000      6.000000   \n",
              "50%              10.080000    100.666667      1.000000     11.000000   \n",
              "75%              12.376833    134.500000      2.000000     18.000000   \n",
              "max              36.225000    495.000000     10.000000     23.000000   \n",
              "\n",
              "       minute_of_hour   day_of_week  \n",
              "count    41128.000000  41128.000000  \n",
              "mean        27.478603      3.962848  \n",
              "std         17.251324      2.048630  \n",
              "min          0.000000      1.000000  \n",
              "25%         10.000000      2.000000  \n",
              "50%         25.000000      4.000000  \n",
              "75%         40.000000      6.000000  \n",
              "max         55.000000      7.000000  "
            ]
          },
          "execution_count": 7,
          "metadata": {},
          "output_type": "execute_result"
        }
      ],
      "source": [
        "df.describe()"
      ]
    },
    {
      "cell_type": "markdown",
      "metadata": {
        "id": "Y-zK3cDgh-wV"
      },
      "source": [
        "Column transformer and the pipeline"
      ]
    },
    {
      "cell_type": "code",
      "execution_count": 8,
      "metadata": {
        "executionInfo": {
          "elapsed": 3182,
          "status": "ok",
          "timestamp": 1711951078722,
          "user": {
            "displayName": "",
            "userId": ""
          },
          "user_tz": -120
        },
        "id": "njjVfvPpL5Vk"
      },
      "outputs": [],
      "source": [
        "from pickle import TRUE\n",
        "from sklearn.base import BaseEstimator, TransformerMixin\n",
        "from sklearn.preprocessing import RobustScaler, MinMaxScaler, StandardScaler, OneHotEncoder, QuantileTransformer\n",
        "from sklearn.compose import ColumnTransformer\n",
        "from sklearn.pipeline import Pipeline\n",
        "import numpy as np\n",
        "import pandas as pd\n",
        "import datetime as dt\n",
        "\n",
        "#### Building a pipeline\n",
        "class LSTMInputSequenceCreator(BaseEstimator, TransformerMixin):\n",
        "    def __init__(self, sequence_length, location_col='pass_location_nickname', max_interval=dt.timedelta(minutes=30),stride=1):\n",
        "        \"\"\"\n",
        "            Args:\n",
        "                sequence_length (int): The length of every LSTM sequence\n",
        "                max_interval (datetime.Timedelta): The maximum allowed difference between the delta between two consecutive timestamps and the mode delta to impute\n",
        "                stride (int): The number of steps to move the sequence window by\n",
        "        \"\"\"\n",
        "        self.sequence_length = sequence_length\n",
        "        self.stride = stride\n",
        "        self.interval_length = None\n",
        "        self.allowed_interval_error = max_interval\n",
        "        self.location_col = location_col\n",
        "        self.columns = None\n",
        "\n",
        "    def fit(self, X, y=None):\n",
        "        self.columns = X.columns\n",
        "        try:\n",
        "            X = [x for x in self._split_dataframe_by_location(X)]\n",
        "            print('N locations: ', len(X))\n",
        "            self.set_interval_length(X)\n",
        "        except KeyError:\n",
        "            self.set_interval_length(X)\n",
        "        return self\n",
        "\n",
        "    def transform(self, X):\n",
        "        print('Transforming')\n",
        "        X = self.split_dataframe(X)\n",
        "        print(\"Dataframe splitted\")\n",
        "        sequences = []\n",
        "        targets = []\n",
        "\n",
        "        processed = 0\n",
        "        for i in range(len(X)):\n",
        "            X[i] = self.interpolate_missing_timestamps(X[i])\n",
        "            processed += len(X[i])\n",
        "            if len(X[i]) < self.sequence_length:\n",
        "                continue\n",
        "            sequence, target = self._create_3d_array(X[i])\n",
        "            sequences.append(sequence)\n",
        "            targets.append(target)\n",
        "            print(f'{processed} number of datapoints processed')\n",
        "        sequences = np.concatenate(sequences)\n",
        "        targets = np.concatenate(targets)\n",
        "        return sequences, targets\n",
        "\n",
        "    def type_check(self, dataframe):\n",
        "        # Check if the index is a DateTimeIndex\n",
        "        if isinstance(dataframe.index, pd.DatetimeIndex):\n",
        "            # Check if all columns are int, float, or transformable to int or float\n",
        "            if all(dataframe[col].dtype in [np.int64, np.float64] or pd.to_numeric(dataframe[col], errors='raise') for col in dataframe.columns):\n",
        "                return dataframe.apply(pd.to_numeric, errors='raise')\n",
        "            else:\n",
        "                raise ValueError(\"The index is a DateTimeIndex, but some columns are not int, float, or transformable to int or float.\")\n",
        "        else:\n",
        "            raise ValueError(\"The index is not a DateTimeIndex.\")\n",
        "\n",
        "\n",
        "\n",
        "    def interpolate_missing_timestamps(self, df):\n",
        "        \"\"\"\n",
        "            Takes a list of dataframes and checks for missing timestamps\n",
        "            If there are missing timestamps, the missing timestamps are imputed by linear interpolation\n",
        "        \"\"\"\n",
        "        df = self.type_check(df)\n",
        "        new_index = pd.date_range(start=df.index.min(), end=df.index.max(), freq=self.interval_length)\n",
        "        df_reindexed = df.reindex(df.index.union(new_index)).sort_index()\n",
        "\n",
        "        new_df = df_reindexed.interpolate(method='time')\n",
        "        new_df = new_df.reindex(new_index)\n",
        "\n",
        "        return new_df\n",
        "\n",
        "    def _create_3d_array(self, dataframe, drop_time=True):\n",
        "        \"\"\"\n",
        "            Creates LSTM input sequences from a dataframe\n",
        "\n",
        "            Args:\n",
        "                dataframe (pd.DataFrame): The sequence dataframe\n",
        "                drop_time (Boolean): Determines if the Day and Week columns should be dropped from the targets\n",
        "\n",
        "            Returns:\n",
        "                tuple(np.Array, np.Array): A tuple containing the sequences and the targets which are the consecutive values of the sequences\n",
        "        \"\"\"\n",
        "        sequences = None\n",
        "        targets = None\n",
        "\n",
        "        # Convert dataframe to numpy array\n",
        "        if isinstance(dataframe, pd.DataFrame):\n",
        "            data = dataframe.values\n",
        "            columns = dataframe.columns\n",
        "            if drop_time:\n",
        "              keep_columns = [i for i, col in enumerate(columns) if 'day' not in col and 'hour' not in col]\n",
        "              # keep_columns = [i for i, col in enumerate(columns) if 'mass_concentration' in col]\n",
        "\n",
        "        elif isinstance(dataframe, np.ndarray):\n",
        "            data = dataframe\n",
        "            if drop_time:\n",
        "              raise ValueError('The time columns can only be dropped if the input data is a dataframe')\n",
        "\n",
        "        else:\n",
        "            raise ValueError(\"The dataframe must be a pandas dataframe or a numpy array\")\n",
        "        # Create sequences\n",
        "        for i in range(0, len(data) - self.sequence_length, self.stride):\n",
        "            sequence = data[i:i+self.sequence_length]\n",
        "            n, f = sequence.shape\n",
        "            sequence = sequence.reshape((1, n, f))\n",
        "            target = data[i+self.sequence_length]\n",
        "\n",
        "            if drop_time:\n",
        "              target = target[keep_columns]\n",
        "\n",
        "            out = len(target)\n",
        "            target = target.reshape((1, out))\n",
        "            if sequences is None:\n",
        "                sequences = sequence\n",
        "                targets = target\n",
        "            else:\n",
        "                sequences = np.concatenate([sequences, sequence])\n",
        "                targets = np.concatenate([targets, target])\n",
        "\n",
        "        # Convert sequences and targets to numpy arrays\n",
        "        return sequences, targets\n",
        "\n",
        "    def set_interval_length(self, data):\n",
        "        \"\"\"\n",
        "            Sets the mode interval length of the dataframe\n",
        "\n",
        "            Args:\n",
        "                dataframe (pd.DataFrame): The sequence dataframe\n",
        "                on_index (bool): If True, the interval length will be set based on the index of the dataframe which should be a timeseries\n",
        "                timestamp_column (str): The name of the column to use as the timestamp (only applicable if 'on_index' is False)\n",
        "        \"\"\"\n",
        "        if type(data) == list:\n",
        "            for df in data:\n",
        "\n",
        "                if type(df) != pd.DataFrame:\n",
        "                    raise ValueError(\"All elements of the list must be pandas dataframes\")\n",
        "                if not isinstance(df.index, pd.DatetimeIndex):\n",
        "                    raise ValueError(\"The index of the dataframes must be a datetime index\")\n",
        "\n",
        "            self.interval_length = pd.concat([df.index.round('5s').to_series().diff() for df in data]).mode().squeeze()\n",
        "\n",
        "\n",
        "\n",
        "\n",
        "        elif type(data) == pd.DataFrame:\n",
        "            if not isinstance(data.index, pd.DatetimeIndex):\n",
        "                raise ValueError(\"The index of the dataframe must be a datetime index\")\n",
        "            self.interval_length = data.index.round('5s').to_series().diff().mode().squeeze()\n",
        "\n",
        "\n",
        "    def _split_dataframe_by_location(self, df):\n",
        "        \"\"\"\n",
        "            Splits a dataframe into sub-dataframes based on the location_nickname column\n",
        "        \"\"\"\n",
        "        for name in df[self.location_col].unique():\n",
        "            yield name, df[df[self.location_col] == name].drop(columns=self.location_col)\n",
        "\n",
        "\n",
        "    def split_dataframe(self, dataframe):\n",
        "\n",
        "        new_dataframes = []\n",
        "        previous_timestamp = None\n",
        "        current_group = []\n",
        "        total = 0\n",
        "        if self.location_col in dataframe.columns:\n",
        "\n",
        "            for name, df in self._split_dataframe_by_location(dataframe):\n",
        "                print(f'Total splitted: {total}')\n",
        "                total += len(df)\n",
        "                for timestamp in df.index:\n",
        "                    if previous_timestamp is None:\n",
        "                        current_group.append(timestamp)\n",
        "                        previous_timestamp = timestamp\n",
        "\n",
        "                    else:\n",
        "\n",
        "                        timedelta = timestamp - previous_timestamp\n",
        "\n",
        "                        if timedelta > self.allowed_interval_error:\n",
        "                            new_dataframes.append(df.loc[current_group])\n",
        "                            current_group = []\n",
        "                            current_group.append(timestamp)\n",
        "                            previous_timestamp = timestamp\n",
        "\n",
        "                        else:\n",
        "                            current_group.append(timestamp)\n",
        "                            previous_timestamp = timestamp\n",
        "\n",
        "                new_dataframes.append(df.loc[current_group])\n",
        "                current_group = []\n",
        "                previous_timestamp = None\n",
        "        else:\n",
        "            raise(ValueError(f\"The dataframe must have a {self.location_col} column, the other option is not yet implemented\"))\n",
        "        return new_dataframes"
      ]
    },
    {
      "cell_type": "code",
      "execution_count": 9,
      "metadata": {
        "colab": {
          "base_uri": "https://localhost:8080/",
          "height": 118
        },
        "executionInfo": {
          "elapsed": 14,
          "status": "ok",
          "timestamp": 1711951078723,
          "user": {
            "displayName": "",
            "userId": ""
          },
          "user_tz": -120
        },
        "id": "719ttQJsL5Vo",
        "outputId": "6f7d4b4b-050b-4098-a5d0-62adb299fbc8"
      },
      "outputs": [
        {
          "data": {
            "text/html": [
              "<style>#sk-container-id-1 {color: black;background-color: white;}#sk-container-id-1 pre{padding: 0;}#sk-container-id-1 div.sk-toggleable {background-color: white;}#sk-container-id-1 label.sk-toggleable__label {cursor: pointer;display: block;width: 100%;margin-bottom: 0;padding: 0.3em;box-sizing: border-box;text-align: center;}#sk-container-id-1 label.sk-toggleable__label-arrow:before {content: \"▸\";float: left;margin-right: 0.25em;color: #696969;}#sk-container-id-1 label.sk-toggleable__label-arrow:hover:before {color: black;}#sk-container-id-1 div.sk-estimator:hover label.sk-toggleable__label-arrow:before {color: black;}#sk-container-id-1 div.sk-toggleable__content {max-height: 0;max-width: 0;overflow: hidden;text-align: left;background-color: #f0f8ff;}#sk-container-id-1 div.sk-toggleable__content pre {margin: 0.2em;color: black;border-radius: 0.25em;background-color: #f0f8ff;}#sk-container-id-1 input.sk-toggleable__control:checked~div.sk-toggleable__content {max-height: 200px;max-width: 100%;overflow: auto;}#sk-container-id-1 input.sk-toggleable__control:checked~label.sk-toggleable__label-arrow:before {content: \"▾\";}#sk-container-id-1 div.sk-estimator input.sk-toggleable__control:checked~label.sk-toggleable__label {background-color: #d4ebff;}#sk-container-id-1 div.sk-label input.sk-toggleable__control:checked~label.sk-toggleable__label {background-color: #d4ebff;}#sk-container-id-1 input.sk-hidden--visually {border: 0;clip: rect(1px 1px 1px 1px);clip: rect(1px, 1px, 1px, 1px);height: 1px;margin: -1px;overflow: hidden;padding: 0;position: absolute;width: 1px;}#sk-container-id-1 div.sk-estimator {font-family: monospace;background-color: #f0f8ff;border: 1px dotted black;border-radius: 0.25em;box-sizing: border-box;margin-bottom: 0.5em;}#sk-container-id-1 div.sk-estimator:hover {background-color: #d4ebff;}#sk-container-id-1 div.sk-parallel-item::after {content: \"\";width: 100%;border-bottom: 1px solid gray;flex-grow: 1;}#sk-container-id-1 div.sk-label:hover label.sk-toggleable__label {background-color: #d4ebff;}#sk-container-id-1 div.sk-serial::before {content: \"\";position: absolute;border-left: 1px solid gray;box-sizing: border-box;top: 0;bottom: 0;left: 50%;z-index: 0;}#sk-container-id-1 div.sk-serial {display: flex;flex-direction: column;align-items: center;background-color: white;padding-right: 0.2em;padding-left: 0.2em;position: relative;}#sk-container-id-1 div.sk-item {position: relative;z-index: 1;}#sk-container-id-1 div.sk-parallel {display: flex;align-items: stretch;justify-content: center;background-color: white;position: relative;}#sk-container-id-1 div.sk-item::before, #sk-container-id-1 div.sk-parallel-item::before {content: \"\";position: absolute;border-left: 1px solid gray;box-sizing: border-box;top: 0;bottom: 0;left: 50%;z-index: -1;}#sk-container-id-1 div.sk-parallel-item {display: flex;flex-direction: column;z-index: 1;position: relative;background-color: white;}#sk-container-id-1 div.sk-parallel-item:first-child::after {align-self: flex-end;width: 50%;}#sk-container-id-1 div.sk-parallel-item:last-child::after {align-self: flex-start;width: 50%;}#sk-container-id-1 div.sk-parallel-item:only-child::after {width: 0;}#sk-container-id-1 div.sk-dashed-wrapped {border: 1px dashed gray;margin: 0 0.4em 0.5em 0.4em;box-sizing: border-box;padding-bottom: 0.4em;background-color: white;}#sk-container-id-1 div.sk-label label {font-family: monospace;font-weight: bold;display: inline-block;line-height: 1.2em;}#sk-container-id-1 div.sk-label-container {text-align: center;}#sk-container-id-1 div.sk-container {/* jupyter's `normalize.less` sets `[hidden] { display: none; }` but bootstrap.min.css set `[hidden] { display: none !important; }` so we also need the `!important` here to be able to override the default hidden behavior on the sphinx rendered scikit-learn.org. See: https://github.com/scikit-learn/scikit-learn/issues/21755 */display: inline-block !important;position: relative;}#sk-container-id-1 div.sk-text-repr-fallback {display: none;}</style><div id=\"sk-container-id-1\" class=\"sk-top-container\"><div class=\"sk-text-repr-fallback\"><pre>ColumnTransformer(transformers=[(&#x27;qt_scaler&#x27;, QuantileTransformer(),\n",
              "                                 [&#x27;mass_concentration_pm1p0&#x27;,\n",
              "                                  &#x27;mass_concentration_pm2p5&#x27;,\n",
              "                                  &#x27;mass_concentration_pm4p0&#x27;,\n",
              "                                  &#x27;mass_concentration_pm10p0&#x27;]),\n",
              "                                (&#x27;mm_scaler&#x27;, MinMaxScaler(),\n",
              "                                 [&#x27;voc_index&#x27;, &#x27;ambient_humidity&#x27;,\n",
              "                                  &#x27;ambient_temperature&#x27;, &#x27;nox_index&#x27;]),\n",
              "                                (&#x27;time&#x27;, OneHotEncoder(sparse_output=False),\n",
              "                                 [&#x27;hour&#x27;, &#x27;day_of_week&#x27;]),\n",
              "                                (&#x27;pass&#x27;, &#x27;passthrough&#x27;, [&#x27;device_id&#x27;])])</pre><b>In a Jupyter environment, please rerun this cell to show the HTML representation or trust the notebook. <br />On GitHub, the HTML representation is unable to render, please try loading this page with nbviewer.org.</b></div><div class=\"sk-container\" hidden><div class=\"sk-item sk-dashed-wrapped\"><div class=\"sk-label-container\"><div class=\"sk-label sk-toggleable\"><input class=\"sk-toggleable__control sk-hidden--visually\" id=\"sk-estimator-id-1\" type=\"checkbox\" ><label for=\"sk-estimator-id-1\" class=\"sk-toggleable__label sk-toggleable__label-arrow\">ColumnTransformer</label><div class=\"sk-toggleable__content\"><pre>ColumnTransformer(transformers=[(&#x27;qt_scaler&#x27;, QuantileTransformer(),\n",
              "                                 [&#x27;mass_concentration_pm1p0&#x27;,\n",
              "                                  &#x27;mass_concentration_pm2p5&#x27;,\n",
              "                                  &#x27;mass_concentration_pm4p0&#x27;,\n",
              "                                  &#x27;mass_concentration_pm10p0&#x27;]),\n",
              "                                (&#x27;mm_scaler&#x27;, MinMaxScaler(),\n",
              "                                 [&#x27;voc_index&#x27;, &#x27;ambient_humidity&#x27;,\n",
              "                                  &#x27;ambient_temperature&#x27;, &#x27;nox_index&#x27;]),\n",
              "                                (&#x27;time&#x27;, OneHotEncoder(sparse_output=False),\n",
              "                                 [&#x27;hour&#x27;, &#x27;day_of_week&#x27;]),\n",
              "                                (&#x27;pass&#x27;, &#x27;passthrough&#x27;, [&#x27;device_id&#x27;])])</pre></div></div></div><div class=\"sk-parallel\"><div class=\"sk-parallel-item\"><div class=\"sk-item\"><div class=\"sk-label-container\"><div class=\"sk-label sk-toggleable\"><input class=\"sk-toggleable__control sk-hidden--visually\" id=\"sk-estimator-id-2\" type=\"checkbox\" ><label for=\"sk-estimator-id-2\" class=\"sk-toggleable__label sk-toggleable__label-arrow\">qt_scaler</label><div class=\"sk-toggleable__content\"><pre>[&#x27;mass_concentration_pm1p0&#x27;, &#x27;mass_concentration_pm2p5&#x27;, &#x27;mass_concentration_pm4p0&#x27;, &#x27;mass_concentration_pm10p0&#x27;]</pre></div></div></div><div class=\"sk-serial\"><div class=\"sk-item\"><div class=\"sk-estimator sk-toggleable\"><input class=\"sk-toggleable__control sk-hidden--visually\" id=\"sk-estimator-id-3\" type=\"checkbox\" ><label for=\"sk-estimator-id-3\" class=\"sk-toggleable__label sk-toggleable__label-arrow\">QuantileTransformer</label><div class=\"sk-toggleable__content\"><pre>QuantileTransformer()</pre></div></div></div></div></div></div><div class=\"sk-parallel-item\"><div class=\"sk-item\"><div class=\"sk-label-container\"><div class=\"sk-label sk-toggleable\"><input class=\"sk-toggleable__control sk-hidden--visually\" id=\"sk-estimator-id-4\" type=\"checkbox\" ><label for=\"sk-estimator-id-4\" class=\"sk-toggleable__label sk-toggleable__label-arrow\">mm_scaler</label><div class=\"sk-toggleable__content\"><pre>[&#x27;voc_index&#x27;, &#x27;ambient_humidity&#x27;, &#x27;ambient_temperature&#x27;, &#x27;nox_index&#x27;]</pre></div></div></div><div class=\"sk-serial\"><div class=\"sk-item\"><div class=\"sk-estimator sk-toggleable\"><input class=\"sk-toggleable__control sk-hidden--visually\" id=\"sk-estimator-id-5\" type=\"checkbox\" ><label for=\"sk-estimator-id-5\" class=\"sk-toggleable__label sk-toggleable__label-arrow\">MinMaxScaler</label><div class=\"sk-toggleable__content\"><pre>MinMaxScaler()</pre></div></div></div></div></div></div><div class=\"sk-parallel-item\"><div class=\"sk-item\"><div class=\"sk-label-container\"><div class=\"sk-label sk-toggleable\"><input class=\"sk-toggleable__control sk-hidden--visually\" id=\"sk-estimator-id-6\" type=\"checkbox\" ><label for=\"sk-estimator-id-6\" class=\"sk-toggleable__label sk-toggleable__label-arrow\">time</label><div class=\"sk-toggleable__content\"><pre>[&#x27;hour&#x27;, &#x27;day_of_week&#x27;]</pre></div></div></div><div class=\"sk-serial\"><div class=\"sk-item\"><div class=\"sk-estimator sk-toggleable\"><input class=\"sk-toggleable__control sk-hidden--visually\" id=\"sk-estimator-id-7\" type=\"checkbox\" ><label for=\"sk-estimator-id-7\" class=\"sk-toggleable__label sk-toggleable__label-arrow\">OneHotEncoder</label><div class=\"sk-toggleable__content\"><pre>OneHotEncoder(sparse_output=False)</pre></div></div></div></div></div></div><div class=\"sk-parallel-item\"><div class=\"sk-item\"><div class=\"sk-label-container\"><div class=\"sk-label sk-toggleable\"><input class=\"sk-toggleable__control sk-hidden--visually\" id=\"sk-estimator-id-8\" type=\"checkbox\" ><label for=\"sk-estimator-id-8\" class=\"sk-toggleable__label sk-toggleable__label-arrow\">pass</label><div class=\"sk-toggleable__content\"><pre>[&#x27;device_id&#x27;]</pre></div></div></div><div class=\"sk-serial\"><div class=\"sk-item\"><div class=\"sk-estimator sk-toggleable\"><input class=\"sk-toggleable__control sk-hidden--visually\" id=\"sk-estimator-id-9\" type=\"checkbox\" ><label for=\"sk-estimator-id-9\" class=\"sk-toggleable__label sk-toggleable__label-arrow\">passthrough</label><div class=\"sk-toggleable__content\"><pre>passthrough</pre></div></div></div></div></div></div></div></div></div></div>"
            ],
            "text/plain": [
              "ColumnTransformer(transformers=[('qt_scaler', QuantileTransformer(),\n",
              "                                 ['mass_concentration_pm1p0',\n",
              "                                  'mass_concentration_pm2p5',\n",
              "                                  'mass_concentration_pm4p0',\n",
              "                                  'mass_concentration_pm10p0']),\n",
              "                                ('mm_scaler', MinMaxScaler(),\n",
              "                                 ['voc_index', 'ambient_humidity',\n",
              "                                  'ambient_temperature', 'nox_index']),\n",
              "                                ('time', OneHotEncoder(sparse_output=False),\n",
              "                                 ['hour', 'day_of_week']),\n",
              "                                ('pass', 'passthrough', ['device_id'])])"
            ]
          },
          "execution_count": 9,
          "metadata": {},
          "output_type": "execute_result"
        }
      ],
      "source": [
        "rb_cols = ['mass_concentration_pm1p0', 'mass_concentration_pm2p5', 'mass_concentration_pm4p0', 'mass_concentration_pm10p0', ]\n",
        "mm_cols = ['voc_index', 'ambient_humidity','ambient_temperature', 'nox_index']\n",
        "cat_cols = ['hour', 'day_of_week']\n",
        "\n",
        "# col_trans = ColumnTransformer([('mm_scaler', MinMaxScaler(), rb_cols+mm_cols), ('time', OneHotEncoder(sparse_output=False), cat_cols),  ('pass', 'passthrough',  ['device_id'])],remainder='drop')\n",
        "# col_trans = ColumnTransformer([('qt_scaler', QuantileTransformer(), rb_cols+mm_cols), ('time', OneHotEncoder(sparse_output=False), cat_cols),  ('pass', 'passthrough',  ['device_id'])],remainder='drop')\n",
        "# col_trans = ColumnTransformer([('rb_scaler', RobustScaler(), rb_cols+mm_cols), ('time', OneHotEncoder(sparse_output=False), cat_cols),  ('pass', 'passthrough',  ['device_id'])],remainder='drop')\n",
        "col_trans = ColumnTransformer([('qt_scaler', QuantileTransformer(), rb_cols), ('mm_scaler', MinMaxScaler(), mm_cols), ('time', OneHotEncoder(sparse_output=False), cat_cols),  ('pass', 'passthrough',  ['device_id'])],remainder='drop')\n",
        "# col_trans = ColumnTransformer([('rb_scaler', RobustScaler(), rb_cols), ('rb_scaler_drop', RobustScaler(), mm_cols), ('time', OneHotEncoder(sparse_output=False), cat_cols),  ('pass', 'passthrough',  ['device_id'])],remainder='drop')\n",
        "# col_trans = ColumnTransformer([('mm_scaler', RobustScaler(), rb_cols), ('mm_scaler_drop', RobustScaler(), mm_cols), ('time', OneHotEncoder(sparse_output=False), cat_cols),  ('pass', 'passthrough',  ['device_id'])],remainder='drop')\n",
        "# col_trans = ColumnTransformer([('rb_scaler', RobustScaler(), rb_cols), ('mm_scaler', MinMaxScaler(), mm_cols), ('time', OneHotEncoder(sparse_output=False), cat_cols),  ('pass', 'passthrough',  ['device_id'])],remainder='drop')\n",
        "col_trans.set_output(transform='pandas')"
      ]
    },
    {
      "cell_type": "code",
      "execution_count": 10,
      "metadata": {
        "executionInfo": {
          "elapsed": 12,
          "status": "ok",
          "timestamp": 1711951078723,
          "user": {
            "displayName": "",
            "userId": ""
          },
          "user_tz": -120
        },
        "id": "1sj1k6B4Y5NO"
      },
      "outputs": [],
      "source": [
        "all_data = df.copy()"
      ]
    },
    {
      "cell_type": "code",
      "execution_count": 11,
      "metadata": {
        "colab": {
          "base_uri": "https://localhost:8080/"
        },
        "executionInfo": {
          "elapsed": 12,
          "status": "ok",
          "timestamp": 1711951078723,
          "user": {
            "displayName": "",
            "userId": ""
          },
          "user_tz": -120
        },
        "id": "yrrfSwpoZGA-",
        "outputId": "7f6d91b8-2b38-4bd1-edeb-cc73f21806fc"
      },
      "outputs": [
        {
          "data": {
            "text/plain": [
              "Index(['time', 'device_id', 'mass_concentration_pm1p0',\n",
              "       'mass_concentration_pm2p5', 'mass_concentration_pm4p0',\n",
              "       'mass_concentration_pm10p0', 'ambient_humidity', 'ambient_temperature',\n",
              "       'voc_index', 'nox_index', 'hour', 'minute_of_hour', 'day_of_week',\n",
              "       'day_name'],\n",
              "      dtype='object')"
            ]
          },
          "execution_count": 11,
          "metadata": {},
          "output_type": "execute_result"
        }
      ],
      "source": [
        "all_data.columns"
      ]
    },
    {
      "cell_type": "markdown",
      "metadata": {
        "id": "azLO2IUqvvW5"
      },
      "source": []
    },
    {
      "cell_type": "code",
      "execution_count": 12,
      "metadata": {
        "colab": {
          "base_uri": "https://localhost:8080/",
          "height": 135
        },
        "executionInfo": {
          "elapsed": 11,
          "status": "ok",
          "timestamp": 1711951078724,
          "user": {
            "displayName": "",
            "userId": ""
          },
          "user_tz": -120
        },
        "id": "eLmAhix6L5Vo",
        "outputId": "7b3092c0-1445-4c07-ce59-976c60cf99f9"
      },
      "outputs": [
        {
          "name": "stdout",
          "output_type": "stream",
          "text": [
            "41128\n"
          ]
        },
        {
          "data": {
            "text/html": [
              "<style>#sk-container-id-2 {color: black;background-color: white;}#sk-container-id-2 pre{padding: 0;}#sk-container-id-2 div.sk-toggleable {background-color: white;}#sk-container-id-2 label.sk-toggleable__label {cursor: pointer;display: block;width: 100%;margin-bottom: 0;padding: 0.3em;box-sizing: border-box;text-align: center;}#sk-container-id-2 label.sk-toggleable__label-arrow:before {content: \"▸\";float: left;margin-right: 0.25em;color: #696969;}#sk-container-id-2 label.sk-toggleable__label-arrow:hover:before {color: black;}#sk-container-id-2 div.sk-estimator:hover label.sk-toggleable__label-arrow:before {color: black;}#sk-container-id-2 div.sk-toggleable__content {max-height: 0;max-width: 0;overflow: hidden;text-align: left;background-color: #f0f8ff;}#sk-container-id-2 div.sk-toggleable__content pre {margin: 0.2em;color: black;border-radius: 0.25em;background-color: #f0f8ff;}#sk-container-id-2 input.sk-toggleable__control:checked~div.sk-toggleable__content {max-height: 200px;max-width: 100%;overflow: auto;}#sk-container-id-2 input.sk-toggleable__control:checked~label.sk-toggleable__label-arrow:before {content: \"▾\";}#sk-container-id-2 div.sk-estimator input.sk-toggleable__control:checked~label.sk-toggleable__label {background-color: #d4ebff;}#sk-container-id-2 div.sk-label input.sk-toggleable__control:checked~label.sk-toggleable__label {background-color: #d4ebff;}#sk-container-id-2 input.sk-hidden--visually {border: 0;clip: rect(1px 1px 1px 1px);clip: rect(1px, 1px, 1px, 1px);height: 1px;margin: -1px;overflow: hidden;padding: 0;position: absolute;width: 1px;}#sk-container-id-2 div.sk-estimator {font-family: monospace;background-color: #f0f8ff;border: 1px dotted black;border-radius: 0.25em;box-sizing: border-box;margin-bottom: 0.5em;}#sk-container-id-2 div.sk-estimator:hover {background-color: #d4ebff;}#sk-container-id-2 div.sk-parallel-item::after {content: \"\";width: 100%;border-bottom: 1px solid gray;flex-grow: 1;}#sk-container-id-2 div.sk-label:hover label.sk-toggleable__label {background-color: #d4ebff;}#sk-container-id-2 div.sk-serial::before {content: \"\";position: absolute;border-left: 1px solid gray;box-sizing: border-box;top: 0;bottom: 0;left: 50%;z-index: 0;}#sk-container-id-2 div.sk-serial {display: flex;flex-direction: column;align-items: center;background-color: white;padding-right: 0.2em;padding-left: 0.2em;position: relative;}#sk-container-id-2 div.sk-item {position: relative;z-index: 1;}#sk-container-id-2 div.sk-parallel {display: flex;align-items: stretch;justify-content: center;background-color: white;position: relative;}#sk-container-id-2 div.sk-item::before, #sk-container-id-2 div.sk-parallel-item::before {content: \"\";position: absolute;border-left: 1px solid gray;box-sizing: border-box;top: 0;bottom: 0;left: 50%;z-index: -1;}#sk-container-id-2 div.sk-parallel-item {display: flex;flex-direction: column;z-index: 1;position: relative;background-color: white;}#sk-container-id-2 div.sk-parallel-item:first-child::after {align-self: flex-end;width: 50%;}#sk-container-id-2 div.sk-parallel-item:last-child::after {align-self: flex-start;width: 50%;}#sk-container-id-2 div.sk-parallel-item:only-child::after {width: 0;}#sk-container-id-2 div.sk-dashed-wrapped {border: 1px dashed gray;margin: 0 0.4em 0.5em 0.4em;box-sizing: border-box;padding-bottom: 0.4em;background-color: white;}#sk-container-id-2 div.sk-label label {font-family: monospace;font-weight: bold;display: inline-block;line-height: 1.2em;}#sk-container-id-2 div.sk-label-container {text-align: center;}#sk-container-id-2 div.sk-container {/* jupyter's `normalize.less` sets `[hidden] { display: none; }` but bootstrap.min.css set `[hidden] { display: none !important; }` so we also need the `!important` here to be able to override the default hidden behavior on the sphinx rendered scikit-learn.org. See: https://github.com/scikit-learn/scikit-learn/issues/21755 */display: inline-block !important;position: relative;}#sk-container-id-2 div.sk-text-repr-fallback {display: none;}</style><div id=\"sk-container-id-2\" class=\"sk-top-container\"><div class=\"sk-text-repr-fallback\"><pre>ColumnTransformer(transformers=[(&#x27;qt_scaler&#x27;, QuantileTransformer(),\n",
              "                                 [&#x27;mass_concentration_pm1p0&#x27;,\n",
              "                                  &#x27;mass_concentration_pm2p5&#x27;,\n",
              "                                  &#x27;mass_concentration_pm4p0&#x27;,\n",
              "                                  &#x27;mass_concentration_pm10p0&#x27;]),\n",
              "                                (&#x27;mm_scaler&#x27;, MinMaxScaler(),\n",
              "                                 [&#x27;voc_index&#x27;, &#x27;ambient_humidity&#x27;,\n",
              "                                  &#x27;ambient_temperature&#x27;, &#x27;nox_index&#x27;]),\n",
              "                                (&#x27;time&#x27;, OneHotEncoder(sparse_output=False),\n",
              "                                 [&#x27;hour&#x27;, &#x27;day_of_week&#x27;]),\n",
              "                                (&#x27;pass&#x27;, &#x27;passthrough&#x27;, [&#x27;device_id&#x27;])])</pre><b>In a Jupyter environment, please rerun this cell to show the HTML representation or trust the notebook. <br />On GitHub, the HTML representation is unable to render, please try loading this page with nbviewer.org.</b></div><div class=\"sk-container\" hidden><div class=\"sk-item sk-dashed-wrapped\"><div class=\"sk-label-container\"><div class=\"sk-label sk-toggleable\"><input class=\"sk-toggleable__control sk-hidden--visually\" id=\"sk-estimator-id-10\" type=\"checkbox\" ><label for=\"sk-estimator-id-10\" class=\"sk-toggleable__label sk-toggleable__label-arrow\">ColumnTransformer</label><div class=\"sk-toggleable__content\"><pre>ColumnTransformer(transformers=[(&#x27;qt_scaler&#x27;, QuantileTransformer(),\n",
              "                                 [&#x27;mass_concentration_pm1p0&#x27;,\n",
              "                                  &#x27;mass_concentration_pm2p5&#x27;,\n",
              "                                  &#x27;mass_concentration_pm4p0&#x27;,\n",
              "                                  &#x27;mass_concentration_pm10p0&#x27;]),\n",
              "                                (&#x27;mm_scaler&#x27;, MinMaxScaler(),\n",
              "                                 [&#x27;voc_index&#x27;, &#x27;ambient_humidity&#x27;,\n",
              "                                  &#x27;ambient_temperature&#x27;, &#x27;nox_index&#x27;]),\n",
              "                                (&#x27;time&#x27;, OneHotEncoder(sparse_output=False),\n",
              "                                 [&#x27;hour&#x27;, &#x27;day_of_week&#x27;]),\n",
              "                                (&#x27;pass&#x27;, &#x27;passthrough&#x27;, [&#x27;device_id&#x27;])])</pre></div></div></div><div class=\"sk-parallel\"><div class=\"sk-parallel-item\"><div class=\"sk-item\"><div class=\"sk-label-container\"><div class=\"sk-label sk-toggleable\"><input class=\"sk-toggleable__control sk-hidden--visually\" id=\"sk-estimator-id-11\" type=\"checkbox\" ><label for=\"sk-estimator-id-11\" class=\"sk-toggleable__label sk-toggleable__label-arrow\">qt_scaler</label><div class=\"sk-toggleable__content\"><pre>[&#x27;mass_concentration_pm1p0&#x27;, &#x27;mass_concentration_pm2p5&#x27;, &#x27;mass_concentration_pm4p0&#x27;, &#x27;mass_concentration_pm10p0&#x27;]</pre></div></div></div><div class=\"sk-serial\"><div class=\"sk-item\"><div class=\"sk-estimator sk-toggleable\"><input class=\"sk-toggleable__control sk-hidden--visually\" id=\"sk-estimator-id-12\" type=\"checkbox\" ><label for=\"sk-estimator-id-12\" class=\"sk-toggleable__label sk-toggleable__label-arrow\">QuantileTransformer</label><div class=\"sk-toggleable__content\"><pre>QuantileTransformer()</pre></div></div></div></div></div></div><div class=\"sk-parallel-item\"><div class=\"sk-item\"><div class=\"sk-label-container\"><div class=\"sk-label sk-toggleable\"><input class=\"sk-toggleable__control sk-hidden--visually\" id=\"sk-estimator-id-13\" type=\"checkbox\" ><label for=\"sk-estimator-id-13\" class=\"sk-toggleable__label sk-toggleable__label-arrow\">mm_scaler</label><div class=\"sk-toggleable__content\"><pre>[&#x27;voc_index&#x27;, &#x27;ambient_humidity&#x27;, &#x27;ambient_temperature&#x27;, &#x27;nox_index&#x27;]</pre></div></div></div><div class=\"sk-serial\"><div class=\"sk-item\"><div class=\"sk-estimator sk-toggleable\"><input class=\"sk-toggleable__control sk-hidden--visually\" id=\"sk-estimator-id-14\" type=\"checkbox\" ><label for=\"sk-estimator-id-14\" class=\"sk-toggleable__label sk-toggleable__label-arrow\">MinMaxScaler</label><div class=\"sk-toggleable__content\"><pre>MinMaxScaler()</pre></div></div></div></div></div></div><div class=\"sk-parallel-item\"><div class=\"sk-item\"><div class=\"sk-label-container\"><div class=\"sk-label sk-toggleable\"><input class=\"sk-toggleable__control sk-hidden--visually\" id=\"sk-estimator-id-15\" type=\"checkbox\" ><label for=\"sk-estimator-id-15\" class=\"sk-toggleable__label sk-toggleable__label-arrow\">time</label><div class=\"sk-toggleable__content\"><pre>[&#x27;hour&#x27;, &#x27;day_of_week&#x27;]</pre></div></div></div><div class=\"sk-serial\"><div class=\"sk-item\"><div class=\"sk-estimator sk-toggleable\"><input class=\"sk-toggleable__control sk-hidden--visually\" id=\"sk-estimator-id-16\" type=\"checkbox\" ><label for=\"sk-estimator-id-16\" class=\"sk-toggleable__label sk-toggleable__label-arrow\">OneHotEncoder</label><div class=\"sk-toggleable__content\"><pre>OneHotEncoder(sparse_output=False)</pre></div></div></div></div></div></div><div class=\"sk-parallel-item\"><div class=\"sk-item\"><div class=\"sk-label-container\"><div class=\"sk-label sk-toggleable\"><input class=\"sk-toggleable__control sk-hidden--visually\" id=\"sk-estimator-id-17\" type=\"checkbox\" ><label for=\"sk-estimator-id-17\" class=\"sk-toggleable__label sk-toggleable__label-arrow\">pass</label><div class=\"sk-toggleable__content\"><pre>[&#x27;device_id&#x27;]</pre></div></div></div><div class=\"sk-serial\"><div class=\"sk-item\"><div class=\"sk-estimator sk-toggleable\"><input class=\"sk-toggleable__control sk-hidden--visually\" id=\"sk-estimator-id-18\" type=\"checkbox\" ><label for=\"sk-estimator-id-18\" class=\"sk-toggleable__label sk-toggleable__label-arrow\">passthrough</label><div class=\"sk-toggleable__content\"><pre>passthrough</pre></div></div></div></div></div></div></div></div></div></div>"
            ],
            "text/plain": [
              "ColumnTransformer(transformers=[('qt_scaler', QuantileTransformer(),\n",
              "                                 ['mass_concentration_pm1p0',\n",
              "                                  'mass_concentration_pm2p5',\n",
              "                                  'mass_concentration_pm4p0',\n",
              "                                  'mass_concentration_pm10p0']),\n",
              "                                ('mm_scaler', MinMaxScaler(),\n",
              "                                 ['voc_index', 'ambient_humidity',\n",
              "                                  'ambient_temperature', 'nox_index']),\n",
              "                                ('time', OneHotEncoder(sparse_output=False),\n",
              "                                 ['hour', 'day_of_week']),\n",
              "                                ('pass', 'passthrough', ['device_id'])])"
            ]
          },
          "execution_count": 12,
          "metadata": {},
          "output_type": "execute_result"
        }
      ],
      "source": [
        "print(len(all_data))\n",
        "col_trans.fit(all_data)"
      ]
    },
    {
      "cell_type": "code",
      "execution_count": 13,
      "metadata": {
        "colab": {
          "base_uri": "https://localhost:8080/"
        },
        "executionInfo": {
          "elapsed": 192,
          "status": "ok",
          "timestamp": 1711951078908,
          "user": {
            "displayName": "",
            "userId": ""
          },
          "user_tz": -120
        },
        "id": "06IOi_nWL5Vp",
        "outputId": "3d9f7f4f-3e81-4af3-8fec-ffb3e43debb4"
      },
      "outputs": [
        {
          "data": {
            "text/plain": [
              "qt_scaler__mass_concentration_pm1p0       0\n",
              "qt_scaler__mass_concentration_pm2p5       0\n",
              "qt_scaler__mass_concentration_pm4p0       0\n",
              "qt_scaler__mass_concentration_pm10p0      0\n",
              "mm_scaler__voc_index                    453\n",
              "mm_scaler__ambient_humidity             453\n",
              "mm_scaler__ambient_temperature          453\n",
              "mm_scaler__nox_index                    453\n",
              "time__hour_0.0                            0\n",
              "time__hour_1.0                            0\n",
              "time__hour_2.0                            0\n",
              "time__hour_3.0                            0\n",
              "time__hour_4.0                            0\n",
              "time__hour_5.0                            0\n",
              "time__hour_6.0                            0\n",
              "time__hour_7.0                            0\n",
              "time__hour_8.0                            0\n",
              "time__hour_9.0                            0\n",
              "time__hour_10.0                           0\n",
              "time__hour_11.0                           0\n",
              "time__hour_12.0                           0\n",
              "time__hour_13.0                           0\n",
              "time__hour_14.0                           0\n",
              "time__hour_15.0                           0\n",
              "time__hour_16.0                           0\n",
              "time__hour_17.0                           0\n",
              "time__hour_18.0                           0\n",
              "time__hour_19.0                           0\n",
              "time__hour_20.0                           0\n",
              "time__hour_21.0                           0\n",
              "time__hour_22.0                           0\n",
              "time__hour_23.0                           0\n",
              "time__day_of_week_1.0                     0\n",
              "time__day_of_week_2.0                     0\n",
              "time__day_of_week_3.0                     0\n",
              "time__day_of_week_4.0                     0\n",
              "time__day_of_week_5.0                     0\n",
              "time__day_of_week_6.0                     0\n",
              "time__day_of_week_7.0                     0\n",
              "pass__device_id                           0\n",
              "dtype: int64"
            ]
          },
          "execution_count": 13,
          "metadata": {},
          "output_type": "execute_result"
        }
      ],
      "source": [
        "all_data.index = pd.to_datetime(all_data['time'])\n",
        "new_data = col_trans.transform(all_data)\n",
        "new_data.isna().sum()"
      ]
    },
    {
      "cell_type": "code",
      "execution_count": 14,
      "metadata": {
        "executionInfo": {
          "elapsed": 18,
          "status": "ok",
          "timestamp": 1711951078909,
          "user": {
            "displayName": "",
            "userId": ""
          },
          "user_tz": -120
        },
        "id": "zxexfUnhmbKL"
      },
      "outputs": [],
      "source": [
        "new_data.dropna(inplace=True)"
      ]
    },
    {
      "cell_type": "code",
      "execution_count": 15,
      "metadata": {
        "executionInfo": {
          "elapsed": 12,
          "status": "ok",
          "timestamp": 1711951078909,
          "user": {
            "displayName": "",
            "userId": ""
          },
          "user_tz": -120
        },
        "id": "tAZnJRkKesfh"
      },
      "outputs": [],
      "source": [
        "############## Test vs Train\n",
        "train = []\n",
        "test = []\n",
        "\n",
        "for id, df_ in new_data.groupby('pass__device_id', as_index=False):\n",
        "    split = int(len(df_) * 0.8)\n",
        "    train.append(df_.iloc[:split])\n",
        "    test.append(df_.iloc[split:])\n",
        "\n",
        "train_df = pd.concat(train)\n",
        "test_df = pd.concat(test)\n",
        "\n"
      ]
    },
    {
      "cell_type": "code",
      "execution_count": 16,
      "metadata": {
        "colab": {
          "base_uri": "https://localhost:8080/"
        },
        "executionInfo": {
          "elapsed": 13,
          "status": "ok",
          "timestamp": 1711951078910,
          "user": {
            "displayName": "",
            "userId": ""
          },
          "user_tz": -120
        },
        "id": "SFTGU_k1gWK_",
        "outputId": "50fd923e-3c5b-480b-c187-47a11846cb28"
      },
      "outputs": [
        {
          "data": {
            "text/plain": [
              "32536"
            ]
          },
          "execution_count": 16,
          "metadata": {},
          "output_type": "execute_result"
        }
      ],
      "source": [
        "len(train_df)"
      ]
    },
    {
      "cell_type": "code",
      "execution_count": 17,
      "metadata": {
        "colab": {
          "base_uri": "https://localhost:8080/"
        },
        "executionInfo": {
          "elapsed": 706,
          "status": "ok",
          "timestamp": 1711951079608,
          "user": {
            "displayName": "",
            "userId": ""
          },
          "user_tz": -120
        },
        "id": "KJvCk5xIZcPn",
        "outputId": "ada93097-267c-4c15-db67-923fa3a27f03"
      },
      "outputs": [
        {
          "name": "stdout",
          "output_type": "stream",
          "text": [
            "Total splitted: 0\n",
            "Total splitted: 7016\n",
            "Total splitted: 12913\n",
            "Total splitted: 18393\n",
            "Total splitted: 23532\n",
            "Total splitted: 25480\n",
            "Total splitted: 27395\n",
            "Total splitted: 30972\n",
            "Total splitted: 33456\n",
            "Total splitted: 37163\n"
          ]
        }
      ],
      "source": [
        "lstm_formatter = LSTMInputSequenceCreator(sequence_length=20, location_col='pass__device_id', max_interval=dt.timedelta(minutes=10) ,stride=1)\n",
        "dataframes = lstm_formatter.split_dataframe(new_data)"
      ]
    },
    {
      "cell_type": "code",
      "execution_count": 18,
      "metadata": {
        "colab": {
          "base_uri": "https://localhost:8080/",
          "height": 822
        },
        "executionInfo": {
          "elapsed": 5,
          "status": "ok",
          "timestamp": 1711951079608,
          "user": {
            "displayName": "",
            "userId": ""
          },
          "user_tz": -120
        },
        "id": "7hsYUNiXa4Xs",
        "outputId": "d35d7b25-b2a6-45fb-976d-2c27056b6317"
      },
      "outputs": [
        {
          "data": {
            "text/html": [
              "\n",
              "  <div id=\"df-34ff5445-ff66-438f-9ec2-264e43a14a73\" class=\"colab-df-container\">\n",
              "    <div>\n",
              "<style scoped>\n",
              "    .dataframe tbody tr th:only-of-type {\n",
              "        vertical-align: middle;\n",
              "    }\n",
              "\n",
              "    .dataframe tbody tr th {\n",
              "        vertical-align: top;\n",
              "    }\n",
              "\n",
              "    .dataframe thead th {\n",
              "        text-align: right;\n",
              "    }\n",
              "</style>\n",
              "<table border=\"1\" class=\"dataframe\">\n",
              "  <thead>\n",
              "    <tr style=\"text-align: right;\">\n",
              "      <th></th>\n",
              "      <th>qt_scaler__mass_concentration_pm1p0</th>\n",
              "      <th>qt_scaler__mass_concentration_pm2p5</th>\n",
              "      <th>qt_scaler__mass_concentration_pm4p0</th>\n",
              "      <th>qt_scaler__mass_concentration_pm10p0</th>\n",
              "      <th>mm_scaler__voc_index</th>\n",
              "      <th>mm_scaler__ambient_humidity</th>\n",
              "      <th>mm_scaler__ambient_temperature</th>\n",
              "      <th>mm_scaler__nox_index</th>\n",
              "      <th>time__hour_0.0</th>\n",
              "      <th>time__hour_1.0</th>\n",
              "      <th>...</th>\n",
              "      <th>time__hour_21.0</th>\n",
              "      <th>time__hour_22.0</th>\n",
              "      <th>time__hour_23.0</th>\n",
              "      <th>time__day_of_week_1.0</th>\n",
              "      <th>time__day_of_week_2.0</th>\n",
              "      <th>time__day_of_week_3.0</th>\n",
              "      <th>time__day_of_week_4.0</th>\n",
              "      <th>time__day_of_week_5.0</th>\n",
              "      <th>time__day_of_week_6.0</th>\n",
              "      <th>time__day_of_week_7.0</th>\n",
              "    </tr>\n",
              "    <tr>\n",
              "      <th>time</th>\n",
              "      <th></th>\n",
              "      <th></th>\n",
              "      <th></th>\n",
              "      <th></th>\n",
              "      <th></th>\n",
              "      <th></th>\n",
              "      <th></th>\n",
              "      <th></th>\n",
              "      <th></th>\n",
              "      <th></th>\n",
              "      <th></th>\n",
              "      <th></th>\n",
              "      <th></th>\n",
              "      <th></th>\n",
              "      <th></th>\n",
              "      <th></th>\n",
              "      <th></th>\n",
              "      <th></th>\n",
              "      <th></th>\n",
              "      <th></th>\n",
              "      <th></th>\n",
              "    </tr>\n",
              "  </thead>\n",
              "  <tbody>\n",
              "    <tr>\n",
              "      <th>2024-03-02 10:25:00</th>\n",
              "      <td>0.013514</td>\n",
              "      <td>0.018018</td>\n",
              "      <td>0.025742</td>\n",
              "      <td>0.029259</td>\n",
              "      <td>0.000000</td>\n",
              "      <td>0.142725</td>\n",
              "      <td>0.546290</td>\n",
              "      <td>0.000000</td>\n",
              "      <td>0.0</td>\n",
              "      <td>0.0</td>\n",
              "      <td>...</td>\n",
              "      <td>0.0</td>\n",
              "      <td>0.0</td>\n",
              "      <td>0.0</td>\n",
              "      <td>0.0</td>\n",
              "      <td>0.0</td>\n",
              "      <td>0.0</td>\n",
              "      <td>0.0</td>\n",
              "      <td>0.0</td>\n",
              "      <td>1.0</td>\n",
              "      <td>0.0</td>\n",
              "    </tr>\n",
              "    <tr>\n",
              "      <th>2024-03-02 10:30:00</th>\n",
              "      <td>0.013514</td>\n",
              "      <td>0.018018</td>\n",
              "      <td>0.025742</td>\n",
              "      <td>0.029259</td>\n",
              "      <td>0.000000</td>\n",
              "      <td>0.142725</td>\n",
              "      <td>0.546290</td>\n",
              "      <td>0.000000</td>\n",
              "      <td>0.0</td>\n",
              "      <td>0.0</td>\n",
              "      <td>...</td>\n",
              "      <td>0.0</td>\n",
              "      <td>0.0</td>\n",
              "      <td>0.0</td>\n",
              "      <td>0.0</td>\n",
              "      <td>0.0</td>\n",
              "      <td>0.0</td>\n",
              "      <td>0.0</td>\n",
              "      <td>0.0</td>\n",
              "      <td>1.0</td>\n",
              "      <td>0.0</td>\n",
              "    </tr>\n",
              "    <tr>\n",
              "      <th>2024-03-02 10:35:00</th>\n",
              "      <td>0.008008</td>\n",
              "      <td>0.027027</td>\n",
              "      <td>0.049049</td>\n",
              "      <td>0.062563</td>\n",
              "      <td>0.000000</td>\n",
              "      <td>0.142725</td>\n",
              "      <td>0.546290</td>\n",
              "      <td>0.000000</td>\n",
              "      <td>0.0</td>\n",
              "      <td>0.0</td>\n",
              "      <td>...</td>\n",
              "      <td>0.0</td>\n",
              "      <td>0.0</td>\n",
              "      <td>0.0</td>\n",
              "      <td>0.0</td>\n",
              "      <td>0.0</td>\n",
              "      <td>0.0</td>\n",
              "      <td>0.0</td>\n",
              "      <td>0.0</td>\n",
              "      <td>1.0</td>\n",
              "      <td>0.0</td>\n",
              "    </tr>\n",
              "    <tr>\n",
              "      <th>2024-03-02 10:40:00</th>\n",
              "      <td>0.017017</td>\n",
              "      <td>0.021772</td>\n",
              "      <td>0.029667</td>\n",
              "      <td>0.033200</td>\n",
              "      <td>0.131511</td>\n",
              "      <td>0.239435</td>\n",
              "      <td>0.458610</td>\n",
              "      <td>0.066667</td>\n",
              "      <td>0.0</td>\n",
              "      <td>0.0</td>\n",
              "      <td>...</td>\n",
              "      <td>0.0</td>\n",
              "      <td>0.0</td>\n",
              "      <td>0.0</td>\n",
              "      <td>0.0</td>\n",
              "      <td>0.0</td>\n",
              "      <td>0.0</td>\n",
              "      <td>0.0</td>\n",
              "      <td>0.0</td>\n",
              "      <td>1.0</td>\n",
              "      <td>0.0</td>\n",
              "    </tr>\n",
              "    <tr>\n",
              "      <th>2024-03-02 10:45:00</th>\n",
              "      <td>0.045045</td>\n",
              "      <td>0.031118</td>\n",
              "      <td>0.032032</td>\n",
              "      <td>0.034034</td>\n",
              "      <td>0.199393</td>\n",
              "      <td>0.278847</td>\n",
              "      <td>0.437347</td>\n",
              "      <td>0.100000</td>\n",
              "      <td>0.0</td>\n",
              "      <td>0.0</td>\n",
              "      <td>...</td>\n",
              "      <td>0.0</td>\n",
              "      <td>0.0</td>\n",
              "      <td>0.0</td>\n",
              "      <td>0.0</td>\n",
              "      <td>0.0</td>\n",
              "      <td>0.0</td>\n",
              "      <td>0.0</td>\n",
              "      <td>0.0</td>\n",
              "      <td>1.0</td>\n",
              "      <td>0.0</td>\n",
              "    </tr>\n",
              "    <tr>\n",
              "      <th>...</th>\n",
              "      <td>...</td>\n",
              "      <td>...</td>\n",
              "      <td>...</td>\n",
              "      <td>...</td>\n",
              "      <td>...</td>\n",
              "      <td>...</td>\n",
              "      <td>...</td>\n",
              "      <td>...</td>\n",
              "      <td>...</td>\n",
              "      <td>...</td>\n",
              "      <td>...</td>\n",
              "      <td>...</td>\n",
              "      <td>...</td>\n",
              "      <td>...</td>\n",
              "      <td>...</td>\n",
              "      <td>...</td>\n",
              "      <td>...</td>\n",
              "      <td>...</td>\n",
              "      <td>...</td>\n",
              "      <td>...</td>\n",
              "      <td>...</td>\n",
              "    </tr>\n",
              "    <tr>\n",
              "      <th>2024-03-05 00:00:00</th>\n",
              "      <td>0.566900</td>\n",
              "      <td>0.555756</td>\n",
              "      <td>0.513407</td>\n",
              "      <td>0.502804</td>\n",
              "      <td>0.148223</td>\n",
              "      <td>0.515419</td>\n",
              "      <td>0.269493</td>\n",
              "      <td>0.200000</td>\n",
              "      <td>1.0</td>\n",
              "      <td>0.0</td>\n",
              "      <td>...</td>\n",
              "      <td>0.0</td>\n",
              "      <td>0.0</td>\n",
              "      <td>0.0</td>\n",
              "      <td>0.0</td>\n",
              "      <td>1.0</td>\n",
              "      <td>0.0</td>\n",
              "      <td>0.0</td>\n",
              "      <td>0.0</td>\n",
              "      <td>0.0</td>\n",
              "      <td>0.0</td>\n",
              "    </tr>\n",
              "    <tr>\n",
              "      <th>2024-03-05 00:05:00</th>\n",
              "      <td>0.587588</td>\n",
              "      <td>0.580303</td>\n",
              "      <td>0.543766</td>\n",
              "      <td>0.532866</td>\n",
              "      <td>0.145749</td>\n",
              "      <td>0.517009</td>\n",
              "      <td>0.268855</td>\n",
              "      <td>0.200000</td>\n",
              "      <td>1.0</td>\n",
              "      <td>0.0</td>\n",
              "      <td>...</td>\n",
              "      <td>0.0</td>\n",
              "      <td>0.0</td>\n",
              "      <td>0.0</td>\n",
              "      <td>0.0</td>\n",
              "      <td>1.0</td>\n",
              "      <td>0.0</td>\n",
              "      <td>0.0</td>\n",
              "      <td>0.0</td>\n",
              "      <td>0.0</td>\n",
              "      <td>0.0</td>\n",
              "    </tr>\n",
              "    <tr>\n",
              "      <th>2024-03-05 00:10:00</th>\n",
              "      <td>0.559059</td>\n",
              "      <td>0.549049</td>\n",
              "      <td>0.507508</td>\n",
              "      <td>0.495996</td>\n",
              "      <td>0.143725</td>\n",
              "      <td>0.518702</td>\n",
              "      <td>0.269269</td>\n",
              "      <td>0.200000</td>\n",
              "      <td>1.0</td>\n",
              "      <td>0.0</td>\n",
              "      <td>...</td>\n",
              "      <td>0.0</td>\n",
              "      <td>0.0</td>\n",
              "      <td>0.0</td>\n",
              "      <td>0.0</td>\n",
              "      <td>1.0</td>\n",
              "      <td>0.0</td>\n",
              "      <td>0.0</td>\n",
              "      <td>0.0</td>\n",
              "      <td>0.0</td>\n",
              "      <td>0.0</td>\n",
              "    </tr>\n",
              "    <tr>\n",
              "      <th>2024-03-05 00:15:00</th>\n",
              "      <td>0.575680</td>\n",
              "      <td>0.563703</td>\n",
              "      <td>0.523899</td>\n",
              "      <td>0.513653</td>\n",
              "      <td>0.144737</td>\n",
              "      <td>0.517855</td>\n",
              "      <td>0.269062</td>\n",
              "      <td>0.200000</td>\n",
              "      <td>1.0</td>\n",
              "      <td>0.0</td>\n",
              "      <td>...</td>\n",
              "      <td>0.0</td>\n",
              "      <td>0.0</td>\n",
              "      <td>0.0</td>\n",
              "      <td>0.0</td>\n",
              "      <td>1.0</td>\n",
              "      <td>0.0</td>\n",
              "      <td>0.0</td>\n",
              "      <td>0.0</td>\n",
              "      <td>0.0</td>\n",
              "      <td>0.0</td>\n",
              "    </tr>\n",
              "    <tr>\n",
              "      <th>2024-03-05 00:20:00</th>\n",
              "      <td>0.559059</td>\n",
              "      <td>0.549049</td>\n",
              "      <td>0.507508</td>\n",
              "      <td>0.495996</td>\n",
              "      <td>0.143725</td>\n",
              "      <td>0.518702</td>\n",
              "      <td>0.269269</td>\n",
              "      <td>0.200000</td>\n",
              "      <td>1.0</td>\n",
              "      <td>0.0</td>\n",
              "      <td>...</td>\n",
              "      <td>0.0</td>\n",
              "      <td>0.0</td>\n",
              "      <td>0.0</td>\n",
              "      <td>0.0</td>\n",
              "      <td>1.0</td>\n",
              "      <td>0.0</td>\n",
              "      <td>0.0</td>\n",
              "      <td>0.0</td>\n",
              "      <td>0.0</td>\n",
              "      <td>0.0</td>\n",
              "    </tr>\n",
              "  </tbody>\n",
              "</table>\n",
              "<p>744 rows × 39 columns</p>\n",
              "</div>\n",
              "    <div class=\"colab-df-buttons\">\n",
              "\n",
              "  <div class=\"colab-df-container\">\n",
              "    <button class=\"colab-df-convert\" onclick=\"convertToInteractive('df-34ff5445-ff66-438f-9ec2-264e43a14a73')\"\n",
              "            title=\"Convert this dataframe to an interactive table.\"\n",
              "            style=\"display:none;\">\n",
              "\n",
              "  <svg xmlns=\"http://www.w3.org/2000/svg\" height=\"24px\" viewBox=\"0 -960 960 960\">\n",
              "    <path d=\"M120-120v-720h720v720H120Zm60-500h600v-160H180v160Zm220 220h160v-160H400v160Zm0 220h160v-160H400v160ZM180-400h160v-160H180v160Zm440 0h160v-160H620v160ZM180-180h160v-160H180v160Zm440 0h160v-160H620v160Z\"/>\n",
              "  </svg>\n",
              "    </button>\n",
              "\n",
              "  <style>\n",
              "    .colab-df-container {\n",
              "      display:flex;\n",
              "      gap: 12px;\n",
              "    }\n",
              "\n",
              "    .colab-df-convert {\n",
              "      background-color: #E8F0FE;\n",
              "      border: none;\n",
              "      border-radius: 50%;\n",
              "      cursor: pointer;\n",
              "      display: none;\n",
              "      fill: #1967D2;\n",
              "      height: 32px;\n",
              "      padding: 0 0 0 0;\n",
              "      width: 32px;\n",
              "    }\n",
              "\n",
              "    .colab-df-convert:hover {\n",
              "      background-color: #E2EBFA;\n",
              "      box-shadow: 0px 1px 2px rgba(60, 64, 67, 0.3), 0px 1px 3px 1px rgba(60, 64, 67, 0.15);\n",
              "      fill: #174EA6;\n",
              "    }\n",
              "\n",
              "    .colab-df-buttons div {\n",
              "      margin-bottom: 4px;\n",
              "    }\n",
              "\n",
              "    [theme=dark] .colab-df-convert {\n",
              "      background-color: #3B4455;\n",
              "      fill: #D2E3FC;\n",
              "    }\n",
              "\n",
              "    [theme=dark] .colab-df-convert:hover {\n",
              "      background-color: #434B5C;\n",
              "      box-shadow: 0px 1px 3px 1px rgba(0, 0, 0, 0.15);\n",
              "      filter: drop-shadow(0px 1px 2px rgba(0, 0, 0, 0.3));\n",
              "      fill: #FFFFFF;\n",
              "    }\n",
              "  </style>\n",
              "\n",
              "    <script>\n",
              "      const buttonEl =\n",
              "        document.querySelector('#df-34ff5445-ff66-438f-9ec2-264e43a14a73 button.colab-df-convert');\n",
              "      buttonEl.style.display =\n",
              "        google.colab.kernel.accessAllowed ? 'block' : 'none';\n",
              "\n",
              "      async function convertToInteractive(key) {\n",
              "        const element = document.querySelector('#df-34ff5445-ff66-438f-9ec2-264e43a14a73');\n",
              "        const dataTable =\n",
              "          await google.colab.kernel.invokeFunction('convertToInteractive',\n",
              "                                                    [key], {});\n",
              "        if (!dataTable) return;\n",
              "\n",
              "        const docLinkHtml = 'Like what you see? Visit the ' +\n",
              "          '<a target=\"_blank\" href=https://colab.research.google.com/notebooks/data_table.ipynb>data table notebook</a>'\n",
              "          + ' to learn more about interactive tables.';\n",
              "        element.innerHTML = '';\n",
              "        dataTable['output_type'] = 'display_data';\n",
              "        await google.colab.output.renderOutput(dataTable, element);\n",
              "        const docLink = document.createElement('div');\n",
              "        docLink.innerHTML = docLinkHtml;\n",
              "        element.appendChild(docLink);\n",
              "      }\n",
              "    </script>\n",
              "  </div>\n",
              "\n",
              "\n",
              "<div id=\"df-e6e7daae-5714-42ce-b9dd-4d604ffd12d1\">\n",
              "  <button class=\"colab-df-quickchart\" onclick=\"quickchart('df-e6e7daae-5714-42ce-b9dd-4d604ffd12d1')\"\n",
              "            title=\"Suggest charts\"\n",
              "            style=\"display:none;\">\n",
              "\n",
              "<svg xmlns=\"http://www.w3.org/2000/svg\" height=\"24px\"viewBox=\"0 0 24 24\"\n",
              "     width=\"24px\">\n",
              "    <g>\n",
              "        <path d=\"M19 3H5c-1.1 0-2 .9-2 2v14c0 1.1.9 2 2 2h14c1.1 0 2-.9 2-2V5c0-1.1-.9-2-2-2zM9 17H7v-7h2v7zm4 0h-2V7h2v10zm4 0h-2v-4h2v4z\"/>\n",
              "    </g>\n",
              "</svg>\n",
              "  </button>\n",
              "\n",
              "<style>\n",
              "  .colab-df-quickchart {\n",
              "      --bg-color: #E8F0FE;\n",
              "      --fill-color: #1967D2;\n",
              "      --hover-bg-color: #E2EBFA;\n",
              "      --hover-fill-color: #174EA6;\n",
              "      --disabled-fill-color: #AAA;\n",
              "      --disabled-bg-color: #DDD;\n",
              "  }\n",
              "\n",
              "  [theme=dark] .colab-df-quickchart {\n",
              "      --bg-color: #3B4455;\n",
              "      --fill-color: #D2E3FC;\n",
              "      --hover-bg-color: #434B5C;\n",
              "      --hover-fill-color: #FFFFFF;\n",
              "      --disabled-bg-color: #3B4455;\n",
              "      --disabled-fill-color: #666;\n",
              "  }\n",
              "\n",
              "  .colab-df-quickchart {\n",
              "    background-color: var(--bg-color);\n",
              "    border: none;\n",
              "    border-radius: 50%;\n",
              "    cursor: pointer;\n",
              "    display: none;\n",
              "    fill: var(--fill-color);\n",
              "    height: 32px;\n",
              "    padding: 0;\n",
              "    width: 32px;\n",
              "  }\n",
              "\n",
              "  .colab-df-quickchart:hover {\n",
              "    background-color: var(--hover-bg-color);\n",
              "    box-shadow: 0 1px 2px rgba(60, 64, 67, 0.3), 0 1px 3px 1px rgba(60, 64, 67, 0.15);\n",
              "    fill: var(--button-hover-fill-color);\n",
              "  }\n",
              "\n",
              "  .colab-df-quickchart-complete:disabled,\n",
              "  .colab-df-quickchart-complete:disabled:hover {\n",
              "    background-color: var(--disabled-bg-color);\n",
              "    fill: var(--disabled-fill-color);\n",
              "    box-shadow: none;\n",
              "  }\n",
              "\n",
              "  .colab-df-spinner {\n",
              "    border: 2px solid var(--fill-color);\n",
              "    border-color: transparent;\n",
              "    border-bottom-color: var(--fill-color);\n",
              "    animation:\n",
              "      spin 1s steps(1) infinite;\n",
              "  }\n",
              "\n",
              "  @keyframes spin {\n",
              "    0% {\n",
              "      border-color: transparent;\n",
              "      border-bottom-color: var(--fill-color);\n",
              "      border-left-color: var(--fill-color);\n",
              "    }\n",
              "    20% {\n",
              "      border-color: transparent;\n",
              "      border-left-color: var(--fill-color);\n",
              "      border-top-color: var(--fill-color);\n",
              "    }\n",
              "    30% {\n",
              "      border-color: transparent;\n",
              "      border-left-color: var(--fill-color);\n",
              "      border-top-color: var(--fill-color);\n",
              "      border-right-color: var(--fill-color);\n",
              "    }\n",
              "    40% {\n",
              "      border-color: transparent;\n",
              "      border-right-color: var(--fill-color);\n",
              "      border-top-color: var(--fill-color);\n",
              "    }\n",
              "    60% {\n",
              "      border-color: transparent;\n",
              "      border-right-color: var(--fill-color);\n",
              "    }\n",
              "    80% {\n",
              "      border-color: transparent;\n",
              "      border-right-color: var(--fill-color);\n",
              "      border-bottom-color: var(--fill-color);\n",
              "    }\n",
              "    90% {\n",
              "      border-color: transparent;\n",
              "      border-bottom-color: var(--fill-color);\n",
              "    }\n",
              "  }\n",
              "</style>\n",
              "\n",
              "  <script>\n",
              "    async function quickchart(key) {\n",
              "      const quickchartButtonEl =\n",
              "        document.querySelector('#' + key + ' button');\n",
              "      quickchartButtonEl.disabled = true;  // To prevent multiple clicks.\n",
              "      quickchartButtonEl.classList.add('colab-df-spinner');\n",
              "      try {\n",
              "        const charts = await google.colab.kernel.invokeFunction(\n",
              "            'suggestCharts', [key], {});\n",
              "      } catch (error) {\n",
              "        console.error('Error during call to suggestCharts:', error);\n",
              "      }\n",
              "      quickchartButtonEl.classList.remove('colab-df-spinner');\n",
              "      quickchartButtonEl.classList.add('colab-df-quickchart-complete');\n",
              "    }\n",
              "    (() => {\n",
              "      let quickchartButtonEl =\n",
              "        document.querySelector('#df-e6e7daae-5714-42ce-b9dd-4d604ffd12d1 button');\n",
              "      quickchartButtonEl.style.display =\n",
              "        google.colab.kernel.accessAllowed ? 'block' : 'none';\n",
              "    })();\n",
              "  </script>\n",
              "</div>\n",
              "    </div>\n",
              "  </div>\n"
            ],
            "text/plain": [
              "                     qt_scaler__mass_concentration_pm1p0  \\\n",
              "time                                                       \n",
              "2024-03-02 10:25:00                             0.013514   \n",
              "2024-03-02 10:30:00                             0.013514   \n",
              "2024-03-02 10:35:00                             0.008008   \n",
              "2024-03-02 10:40:00                             0.017017   \n",
              "2024-03-02 10:45:00                             0.045045   \n",
              "...                                                  ...   \n",
              "2024-03-05 00:00:00                             0.566900   \n",
              "2024-03-05 00:05:00                             0.587588   \n",
              "2024-03-05 00:10:00                             0.559059   \n",
              "2024-03-05 00:15:00                             0.575680   \n",
              "2024-03-05 00:20:00                             0.559059   \n",
              "\n",
              "                     qt_scaler__mass_concentration_pm2p5  \\\n",
              "time                                                       \n",
              "2024-03-02 10:25:00                             0.018018   \n",
              "2024-03-02 10:30:00                             0.018018   \n",
              "2024-03-02 10:35:00                             0.027027   \n",
              "2024-03-02 10:40:00                             0.021772   \n",
              "2024-03-02 10:45:00                             0.031118   \n",
              "...                                                  ...   \n",
              "2024-03-05 00:00:00                             0.555756   \n",
              "2024-03-05 00:05:00                             0.580303   \n",
              "2024-03-05 00:10:00                             0.549049   \n",
              "2024-03-05 00:15:00                             0.563703   \n",
              "2024-03-05 00:20:00                             0.549049   \n",
              "\n",
              "                     qt_scaler__mass_concentration_pm4p0  \\\n",
              "time                                                       \n",
              "2024-03-02 10:25:00                             0.025742   \n",
              "2024-03-02 10:30:00                             0.025742   \n",
              "2024-03-02 10:35:00                             0.049049   \n",
              "2024-03-02 10:40:00                             0.029667   \n",
              "2024-03-02 10:45:00                             0.032032   \n",
              "...                                                  ...   \n",
              "2024-03-05 00:00:00                             0.513407   \n",
              "2024-03-05 00:05:00                             0.543766   \n",
              "2024-03-05 00:10:00                             0.507508   \n",
              "2024-03-05 00:15:00                             0.523899   \n",
              "2024-03-05 00:20:00                             0.507508   \n",
              "\n",
              "                     qt_scaler__mass_concentration_pm10p0  \\\n",
              "time                                                        \n",
              "2024-03-02 10:25:00                              0.029259   \n",
              "2024-03-02 10:30:00                              0.029259   \n",
              "2024-03-02 10:35:00                              0.062563   \n",
              "2024-03-02 10:40:00                              0.033200   \n",
              "2024-03-02 10:45:00                              0.034034   \n",
              "...                                                   ...   \n",
              "2024-03-05 00:00:00                              0.502804   \n",
              "2024-03-05 00:05:00                              0.532866   \n",
              "2024-03-05 00:10:00                              0.495996   \n",
              "2024-03-05 00:15:00                              0.513653   \n",
              "2024-03-05 00:20:00                              0.495996   \n",
              "\n",
              "                     mm_scaler__voc_index  mm_scaler__ambient_humidity  \\\n",
              "time                                                                     \n",
              "2024-03-02 10:25:00              0.000000                     0.142725   \n",
              "2024-03-02 10:30:00              0.000000                     0.142725   \n",
              "2024-03-02 10:35:00              0.000000                     0.142725   \n",
              "2024-03-02 10:40:00              0.131511                     0.239435   \n",
              "2024-03-02 10:45:00              0.199393                     0.278847   \n",
              "...                                   ...                          ...   \n",
              "2024-03-05 00:00:00              0.148223                     0.515419   \n",
              "2024-03-05 00:05:00              0.145749                     0.517009   \n",
              "2024-03-05 00:10:00              0.143725                     0.518702   \n",
              "2024-03-05 00:15:00              0.144737                     0.517855   \n",
              "2024-03-05 00:20:00              0.143725                     0.518702   \n",
              "\n",
              "                     mm_scaler__ambient_temperature  mm_scaler__nox_index  \\\n",
              "time                                                                        \n",
              "2024-03-02 10:25:00                        0.546290              0.000000   \n",
              "2024-03-02 10:30:00                        0.546290              0.000000   \n",
              "2024-03-02 10:35:00                        0.546290              0.000000   \n",
              "2024-03-02 10:40:00                        0.458610              0.066667   \n",
              "2024-03-02 10:45:00                        0.437347              0.100000   \n",
              "...                                             ...                   ...   \n",
              "2024-03-05 00:00:00                        0.269493              0.200000   \n",
              "2024-03-05 00:05:00                        0.268855              0.200000   \n",
              "2024-03-05 00:10:00                        0.269269              0.200000   \n",
              "2024-03-05 00:15:00                        0.269062              0.200000   \n",
              "2024-03-05 00:20:00                        0.269269              0.200000   \n",
              "\n",
              "                     time__hour_0.0  time__hour_1.0  ...  time__hour_21.0  \\\n",
              "time                                                 ...                    \n",
              "2024-03-02 10:25:00             0.0             0.0  ...              0.0   \n",
              "2024-03-02 10:30:00             0.0             0.0  ...              0.0   \n",
              "2024-03-02 10:35:00             0.0             0.0  ...              0.0   \n",
              "2024-03-02 10:40:00             0.0             0.0  ...              0.0   \n",
              "2024-03-02 10:45:00             0.0             0.0  ...              0.0   \n",
              "...                             ...             ...  ...              ...   \n",
              "2024-03-05 00:00:00             1.0             0.0  ...              0.0   \n",
              "2024-03-05 00:05:00             1.0             0.0  ...              0.0   \n",
              "2024-03-05 00:10:00             1.0             0.0  ...              0.0   \n",
              "2024-03-05 00:15:00             1.0             0.0  ...              0.0   \n",
              "2024-03-05 00:20:00             1.0             0.0  ...              0.0   \n",
              "\n",
              "                     time__hour_22.0  time__hour_23.0  time__day_of_week_1.0  \\\n",
              "time                                                                           \n",
              "2024-03-02 10:25:00              0.0              0.0                    0.0   \n",
              "2024-03-02 10:30:00              0.0              0.0                    0.0   \n",
              "2024-03-02 10:35:00              0.0              0.0                    0.0   \n",
              "2024-03-02 10:40:00              0.0              0.0                    0.0   \n",
              "2024-03-02 10:45:00              0.0              0.0                    0.0   \n",
              "...                              ...              ...                    ...   \n",
              "2024-03-05 00:00:00              0.0              0.0                    0.0   \n",
              "2024-03-05 00:05:00              0.0              0.0                    0.0   \n",
              "2024-03-05 00:10:00              0.0              0.0                    0.0   \n",
              "2024-03-05 00:15:00              0.0              0.0                    0.0   \n",
              "2024-03-05 00:20:00              0.0              0.0                    0.0   \n",
              "\n",
              "                     time__day_of_week_2.0  time__day_of_week_3.0  \\\n",
              "time                                                                \n",
              "2024-03-02 10:25:00                    0.0                    0.0   \n",
              "2024-03-02 10:30:00                    0.0                    0.0   \n",
              "2024-03-02 10:35:00                    0.0                    0.0   \n",
              "2024-03-02 10:40:00                    0.0                    0.0   \n",
              "2024-03-02 10:45:00                    0.0                    0.0   \n",
              "...                                    ...                    ...   \n",
              "2024-03-05 00:00:00                    1.0                    0.0   \n",
              "2024-03-05 00:05:00                    1.0                    0.0   \n",
              "2024-03-05 00:10:00                    1.0                    0.0   \n",
              "2024-03-05 00:15:00                    1.0                    0.0   \n",
              "2024-03-05 00:20:00                    1.0                    0.0   \n",
              "\n",
              "                     time__day_of_week_4.0  time__day_of_week_5.0  \\\n",
              "time                                                                \n",
              "2024-03-02 10:25:00                    0.0                    0.0   \n",
              "2024-03-02 10:30:00                    0.0                    0.0   \n",
              "2024-03-02 10:35:00                    0.0                    0.0   \n",
              "2024-03-02 10:40:00                    0.0                    0.0   \n",
              "2024-03-02 10:45:00                    0.0                    0.0   \n",
              "...                                    ...                    ...   \n",
              "2024-03-05 00:00:00                    0.0                    0.0   \n",
              "2024-03-05 00:05:00                    0.0                    0.0   \n",
              "2024-03-05 00:10:00                    0.0                    0.0   \n",
              "2024-03-05 00:15:00                    0.0                    0.0   \n",
              "2024-03-05 00:20:00                    0.0                    0.0   \n",
              "\n",
              "                     time__day_of_week_6.0  time__day_of_week_7.0  \n",
              "time                                                               \n",
              "2024-03-02 10:25:00                    1.0                    0.0  \n",
              "2024-03-02 10:30:00                    1.0                    0.0  \n",
              "2024-03-02 10:35:00                    1.0                    0.0  \n",
              "2024-03-02 10:40:00                    1.0                    0.0  \n",
              "2024-03-02 10:45:00                    1.0                    0.0  \n",
              "...                                    ...                    ...  \n",
              "2024-03-05 00:00:00                    0.0                    0.0  \n",
              "2024-03-05 00:05:00                    0.0                    0.0  \n",
              "2024-03-05 00:10:00                    0.0                    0.0  \n",
              "2024-03-05 00:15:00                    0.0                    0.0  \n",
              "2024-03-05 00:20:00                    0.0                    0.0  \n",
              "\n",
              "[744 rows x 39 columns]"
            ]
          },
          "execution_count": 18,
          "metadata": {},
          "output_type": "execute_result"
        }
      ],
      "source": [
        "dataframes[0]"
      ]
    },
    {
      "cell_type": "code",
      "execution_count": 19,
      "metadata": {
        "executionInfo": {
          "elapsed": 3,
          "status": "ok",
          "timestamp": 1711951079608,
          "user": {
            "displayName": "",
            "userId": ""
          },
          "user_tz": -120
        },
        "id": "xvI0MqtsUWZe"
      },
      "outputs": [],
      "source": [
        "def create_3d(dataframes):\n",
        "  sequences = []\n",
        "  targets = []\n",
        "  processed = 0\n",
        "\n",
        "  for i in range(len(dataframes)):\n",
        "\n",
        "      sequence, target = lstm_formatter._create_3d_array(dataframes[i])\n",
        "      if sequence is None:\n",
        "          continue\n",
        "      sequences.append(sequence)\n",
        "      targets.append(target)\n",
        "      processed += len(sequence)\n",
        "      print(f'Processed {processed} data points')\n",
        "\n",
        "  sequences = np.concatenate(sequences)\n",
        "  targets = np.concatenate(targets)\n",
        "  return sequences, targets"
      ]
    },
    {
      "cell_type": "code",
      "execution_count": 20,
      "metadata": {
        "colab": {
          "base_uri": "https://localhost:8080/"
        },
        "executionInfo": {
          "elapsed": 65674,
          "status": "ok",
          "timestamp": 1711951145279,
          "user": {
            "displayName": "",
            "userId": ""
          },
          "user_tz": -120
        },
        "id": "nVJbLa1TiDAr",
        "outputId": "4daa66ff-e13a-43ac-b31a-ca7d302066e6"
      },
      "outputs": [
        {
          "name": "stdout",
          "output_type": "stream",
          "text": [
            "Processed 724 data points\n",
            "Processed 5545 data points\n",
            "Processed 6942 data points\n",
            "Processed 7376 data points\n",
            "Processed 8016 data points\n",
            "Processed 11368 data points\n",
            "Processed 12699 data points\n",
            "Processed 18159 data points\n",
            "Processed 18183 data points\n",
            "Processed 21804 data points\n",
            "Processed 23140 data points\n",
            "Processed 23165 data points\n",
            "Processed 23170 data points\n",
            "Processed 23177 data points\n",
            "Processed 23183 data points\n",
            "Processed 23213 data points\n",
            "Processed 23222 data points\n",
            "Processed 23257 data points\n",
            "Processed 23307 data points\n",
            "Processed 23313 data points\n",
            "Processed 23947 data points\n",
            "Processed 24567 data points\n",
            "Processed 24780 data points\n",
            "Processed 24793 data points\n",
            "Processed 24830 data points\n",
            "Processed 24839 data points\n",
            "Processed 24941 data points\n",
            "Processed 24943 data points\n",
            "Processed 25058 data points\n",
            "Processed 25114 data points\n",
            "Processed 25123 data points\n",
            "Processed 25343 data points\n",
            "Processed 26133 data points\n",
            "Processed 29209 data points\n",
            "Processed 29219 data points\n",
            "Processed 29281 data points\n",
            "Processed 29553 data points\n",
            "Processed 29582 data points\n",
            "Processed 30590 data points\n",
            "Processed 30835 data points\n",
            "Processed 31190 data points\n",
            "Processed 31535 data points\n",
            "Processed 31827 data points\n",
            "Processed 31830 data points\n",
            "Processed 31860 data points\n",
            "Processed 35547 data points\n",
            "Processed 36045 data points\n",
            "Processed 36133 data points\n",
            "Processed 36141 data points\n",
            "Processed 38500 data points\n",
            "Processed 38586 data points\n",
            "Processed 38915 data points\n"
          ]
        }
      ],
      "source": [
        "X_all, y_all = create_3d(dataframes)"
      ]
    },
    {
      "cell_type": "code",
      "execution_count": 21,
      "metadata": {
        "executionInfo": {
          "elapsed": 1340,
          "status": "ok",
          "timestamp": 1711951146587,
          "user": {
            "displayName": "",
            "userId": ""
          },
          "user_tz": -120
        },
        "id": "Fu_91DyWk83u"
      },
      "outputs": [],
      "source": [
        "with open('5min/20_10/X_train_qt.npy', 'wb') as f:\n",
        "    np.save(f, X_all)\n",
        "with open('5min/20_10/y_train_qt.npy', 'wb') as f:\n",
        "    np.save(f, y_all)"
      ]
    },
    {
      "cell_type": "code",
      "execution_count": 22,
      "metadata": {
        "executionInfo": {
          "elapsed": 34,
          "status": "ok",
          "timestamp": 1711951146587,
          "user": {
            "displayName": "",
            "userId": ""
          },
          "user_tz": -120
        },
        "id": "mOWlpSJDoXwq"
      },
      "outputs": [],
      "source": [
        "# X_train = np.load('5min/20_10/X_train_qt.npy')\n",
        "# y_train = np.load('5min/20_10/y_train_qt.npy')"
      ]
    },
    {
      "cell_type": "code",
      "execution_count": 23,
      "metadata": {
        "colab": {
          "base_uri": "https://localhost:8080/"
        },
        "executionInfo": {
          "elapsed": 31,
          "status": "ok",
          "timestamp": 1711951146587,
          "user": {
            "displayName": "",
            "userId": ""
          },
          "user_tz": -120
        },
        "id": "GfPPpW-VL5Vq",
        "outputId": "dcab2adb-977b-4553-fcba-19c89967af4a"
      },
      "outputs": [
        {
          "name": "stdout",
          "output_type": "stream",
          "text": [
            "['qt_scaler__mass_concentration_pm1p0', 'qt_scaler__mass_concentration_pm2p5', 'qt_scaler__mass_concentration_pm4p0', 'qt_scaler__mass_concentration_pm10p0', 'mm_scaler__voc_index', 'mm_scaler__ambient_humidity', 'mm_scaler__ambient_temperature', 'mm_scaler__nox_index', 'time__hour_0.0', 'time__hour_1.0', 'time__hour_2.0', 'time__hour_3.0', 'time__hour_4.0', 'time__hour_5.0', 'time__hour_6.0', 'time__hour_7.0', 'time__hour_8.0', 'time__hour_9.0', 'time__hour_10.0', 'time__hour_11.0', 'time__hour_12.0', 'time__hour_13.0', 'time__hour_14.0', 'time__hour_15.0', 'time__hour_16.0', 'time__hour_17.0', 'time__hour_18.0', 'time__hour_19.0', 'time__hour_20.0', 'time__hour_21.0', 'time__hour_22.0', 'time__hour_23.0', 'time__day_of_week_1.0', 'time__day_of_week_2.0', 'time__day_of_week_3.0', 'time__day_of_week_4.0', 'time__day_of_week_5.0', 'time__day_of_week_6.0', 'time__day_of_week_7.0']\n"
          ]
        }
      ],
      "source": [
        "columns = new_data.columns.tolist()\n",
        "columns.remove('pass__device_id')\n",
        "print(columns)"
      ]
    },
    {
      "cell_type": "code",
      "execution_count": 24,
      "metadata": {
        "colab": {
          "base_uri": "https://localhost:8080/"
        },
        "executionInfo": {
          "elapsed": 25,
          "status": "ok",
          "timestamp": 1711951146587,
          "user": {
            "displayName": "",
            "userId": ""
          },
          "user_tz": -120
        },
        "id": "ME2jlwQ5FblR",
        "outputId": "7b7a318d-0873-4619-b2fe-03af8299742d"
      },
      "outputs": [
        {
          "data": {
            "text/plain": [
              "array([0.02274682, 0.01078857, 0.01274656, 0.01241723, 0.19095816,\n",
              "       0.31989402, 0.35698451, 0.1       , 0.        , 0.        ,\n",
              "       0.        , 0.        , 0.        , 0.        , 0.        ,\n",
              "       0.        , 0.        , 0.        , 0.        , 1.        ,\n",
              "       0.        , 0.        , 0.        , 0.        , 0.        ,\n",
              "       0.        , 0.        , 0.        , 0.        , 0.        ,\n",
              "       0.        , 0.        , 0.        , 0.        , 0.        ,\n",
              "       0.        , 0.        , 1.        , 0.        ])"
            ]
          },
          "execution_count": 24,
          "metadata": {},
          "output_type": "execute_result"
        }
      ],
      "source": [
        "X_all[0][10]"
      ]
    },
    {
      "cell_type": "code",
      "execution_count": 25,
      "metadata": {
        "colab": {
          "base_uri": "https://localhost:8080/"
        },
        "executionInfo": {
          "elapsed": 21,
          "status": "ok",
          "timestamp": 1711951146588,
          "user": {
            "displayName": "",
            "userId": ""
          },
          "user_tz": -120
        },
        "id": "LvIDjk_RCnAm",
        "outputId": "414ebabb-cf25-48ac-d07c-d7b1e1df73e8"
      },
      "outputs": [
        {
          "data": {
            "text/plain": [
              "(8,)"
            ]
          },
          "execution_count": 25,
          "metadata": {},
          "output_type": "execute_result"
        }
      ],
      "source": [
        "y_all[0].shape"
      ]
    },
    {
      "cell_type": "code",
      "execution_count": 26,
      "metadata": {
        "colab": {
          "base_uri": "https://localhost:8080/",
          "height": 917
        },
        "executionInfo": {
          "elapsed": 612,
          "status": "ok",
          "timestamp": 1711951147184,
          "user": {
            "displayName": "",
            "userId": ""
          },
          "user_tz": -120
        },
        "id": "maUsG-HnltuF",
        "outputId": "b8330f63-aa44-4c2c-ca6f-1a307861800b"
      },
      "outputs": [
        {
          "data": {
            "text/plain": [
              "(array([251., 125.,  85.,  54.,  45.,  48.,  42.,  51.,  34.,   9.]),\n",
              " array([8.42509176e-04, 1.00758258e-01, 2.00674007e-01, 3.00589756e-01,\n",
              "        4.00505506e-01, 5.00421255e-01, 6.00337004e-01, 7.00252753e-01,\n",
              "        8.00168502e-01, 9.00084251e-01, 1.00000000e+00]),\n",
              " <BarContainer object of 10 artists>)"
            ]
          },
          "execution_count": 26,
          "metadata": {},
          "output_type": "execute_result"
        },
        {
          "data": {
            "image/png": "[encoded data removed]",
            "text/plain": [
              "<Figure size 1000x1000 with 1 Axes>"
            ]
          },
          "metadata": {},
          "output_type": "display_data"
        }
      ],
      "source": [
        "import matplotlib.pyplot as plt\n",
        "plt.figure(figsize=(10, 10))\n",
        "# plt.hist(dataframes[0]['mm_scaler__mass_concentration_pm1p0'])\n",
        "# plt.hist(dataframes[0]['rb_scaler__mass_concentration_pm10p0'])\n",
        "plt.hist(dataframes[0]['qt_scaler__mass_concentration_pm10p0'])"
      ]
    },
    {
      "cell_type": "code",
      "execution_count": 39,
      "metadata": {
        "colab": {
          "base_uri": "https://localhost:8080/"
        },
        "executionInfo": {
          "elapsed": 55902,
          "status": "ok",
          "timestamp": 1711951427972,
          "user": {
            "displayName": "",
            "userId": ""
          },
          "user_tz": -120
        },
        "id": "DmPfOJxgL5Vr",
        "outputId": "541b702d-14e1-4edc-db36-141474c0e6b4"
      },
      "outputs": [
        {
          "name": "stdout",
          "output_type": "stream",
          "text": [
            "Input shape: (20, 39)\n",
            "Epoch 1/100\n",
            "219/219 [==============================] - 5s 8ms/step - loss: 0.0639 - mae: 0.1694 - val_loss: 0.0129 - val_mae: 0.0881 - lr: 5.0000e-05\n",
            "Epoch 2/100\n",
            "219/219 [==============================] - 1s 5ms/step - loss: 0.0098 - mae: 0.0686 - val_loss: 0.0087 - val_mae: 0.0682 - lr: 5.0000e-05\n",
            "Epoch 3/100\n",
            "219/219 [==============================] - 1s 5ms/step - loss: 0.0076 - mae: 0.0576 - val_loss: 0.0074 - val_mae: 0.0610 - lr: 5.0000e-05\n",
            "Epoch 4/100\n",
            "219/219 [==============================] - 1s 5ms/step - loss: 0.0067 - mae: 0.0523 - val_loss: 0.0068 - val_mae: 0.0574 - lr: 5.0000e-05\n",
            "Epoch 5/100\n",
            "219/219 [==============================] - 1s 5ms/step - loss: 0.0062 - mae: 0.0489 - val_loss: 0.0063 - val_mae: 0.0543 - lr: 5.0000e-05\n",
            "Epoch 6/100\n",
            "219/219 [==============================] - 1s 5ms/step - loss: 0.0058 - mae: 0.0462 - val_loss: 0.0061 - val_mae: 0.0526 - lr: 5.0000e-05\n",
            "Epoch 7/100\n",
            "219/219 [==============================] - 1s 5ms/step - loss: 0.0056 - mae: 0.0444 - val_loss: 0.0059 - val_mae: 0.0510 - lr: 5.0000e-05\n",
            "Epoch 8/100\n",
            "219/219 [==============================] - 1s 5ms/step - loss: 0.0054 - mae: 0.0432 - val_loss: 0.0058 - val_mae: 0.0508 - lr: 5.0000e-05\n",
            "Epoch 9/100\n",
            "219/219 [==============================] - 1s 5ms/step - loss: 0.0053 - mae: 0.0422 - val_loss: 0.0057 - val_mae: 0.0501 - lr: 5.0000e-05\n",
            "Epoch 10/100\n",
            "219/219 [==============================] - 1s 5ms/step - loss: 0.0052 - mae: 0.0413 - val_loss: 0.0056 - val_mae: 0.0487 - lr: 5.0000e-05\n",
            "Epoch 11/100\n",
            "219/219 [==============================] - 1s 5ms/step - loss: 0.0051 - mae: 0.0406 - val_loss: 0.0055 - val_mae: 0.0482 - lr: 5.0000e-05\n",
            "Epoch 12/100\n",
            "219/219 [==============================] - 1s 5ms/step - loss: 0.0050 - mae: 0.0404 - val_loss: 0.0055 - val_mae: 0.0479 - lr: 5.0000e-05\n",
            "Epoch 13/100\n",
            "219/219 [==============================] - 1s 5ms/step - loss: 0.0050 - mae: 0.0401 - val_loss: 0.0054 - val_mae: 0.0476 - lr: 5.0000e-05\n",
            "Epoch 14/100\n",
            "219/219 [==============================] - 1s 5ms/step - loss: 0.0049 - mae: 0.0396 - val_loss: 0.0053 - val_mae: 0.0472 - lr: 5.0000e-05\n",
            "Epoch 15/100\n",
            "219/219 [==============================] - 1s 5ms/step - loss: 0.0049 - mae: 0.0392 - val_loss: 0.0054 - val_mae: 0.0475 - lr: 5.0000e-05\n",
            "Epoch 16/100\n",
            "219/219 [==============================] - 1s 5ms/step - loss: 0.0048 - mae: 0.0392 - val_loss: 0.0053 - val_mae: 0.0471 - lr: 5.0000e-05\n",
            "Epoch 17/100\n",
            "219/219 [==============================] - 1s 5ms/step - loss: 0.0048 - mae: 0.0386 - val_loss: 0.0053 - val_mae: 0.0476 - lr: 5.0000e-05\n",
            "Epoch 18/100\n",
            "219/219 [==============================] - 1s 5ms/step - loss: 0.0047 - mae: 0.0383 - val_loss: 0.0053 - val_mae: 0.0463 - lr: 5.0000e-05\n",
            "Epoch 19/100\n",
            "219/219 [==============================] - 1s 5ms/step - loss: 0.0047 - mae: 0.0383 - val_loss: 0.0052 - val_mae: 0.0463 - lr: 5.0000e-05\n",
            "Epoch 20/100\n",
            "219/219 [==============================] - 1s 5ms/step - loss: 0.0047 - mae: 0.0380 - val_loss: 0.0053 - val_mae: 0.0468 - lr: 5.0000e-05\n",
            "Epoch 21/100\n",
            "219/219 [==============================] - 1s 5ms/step - loss: 0.0047 - mae: 0.0379 - val_loss: 0.0052 - val_mae: 0.0462 - lr: 5.0000e-05\n",
            "Epoch 22/100\n",
            "219/219 [==============================] - 1s 5ms/step - loss: 0.0047 - mae: 0.0382 - val_loss: 0.0053 - val_mae: 0.0473 - lr: 5.0000e-05\n",
            "Epoch 23/100\n",
            "219/219 [==============================] - 1s 5ms/step - loss: 0.0046 - mae: 0.0379 - val_loss: 0.0052 - val_mae: 0.0461 - lr: 5.0000e-05\n",
            "Epoch 24/100\n",
            "219/219 [==============================] - 1s 5ms/step - loss: 0.0046 - mae: 0.0375 - val_loss: 0.0052 - val_mae: 0.0463 - lr: 5.0000e-05\n",
            "Epoch 25/100\n",
            "219/219 [==============================] - 1s 6ms/step - loss: 0.0046 - mae: 0.0374 - val_loss: 0.0052 - val_mae: 0.0459 - lr: 5.0000e-05\n",
            "Epoch 26/100\n",
            "219/219 [==============================] - 1s 6ms/step - loss: 0.0046 - mae: 0.0374 - val_loss: 0.0051 - val_mae: 0.0454 - lr: 5.0000e-05\n",
            "Epoch 27/100\n",
            "219/219 [==============================] - 1s 5ms/step - loss: 0.0045 - mae: 0.0371 - val_loss: 0.0052 - val_mae: 0.0461 - lr: 5.0000e-05\n",
            "Epoch 28/100\n",
            "219/219 [==============================] - 1s 5ms/step - loss: 0.0045 - mae: 0.0369 - val_loss: 0.0052 - val_mae: 0.0459 - lr: 5.0000e-05\n",
            "Epoch 29/100\n",
            "219/219 [==============================] - 1s 5ms/step - loss: 0.0045 - mae: 0.0372 - val_loss: 0.0052 - val_mae: 0.0459 - lr: 5.0000e-05\n",
            "Epoch 30/100\n",
            "219/219 [==============================] - 1s 5ms/step - loss: 0.0045 - mae: 0.0371 - val_loss: 0.0051 - val_mae: 0.0457 - lr: 5.0000e-05\n",
            "Epoch 31/100\n",
            "219/219 [==============================] - 1s 5ms/step - loss: 0.0045 - mae: 0.0368 - val_loss: 0.0051 - val_mae: 0.0460 - lr: 5.0000e-05\n",
            "Epoch 32/100\n",
            "219/219 [==============================] - 1s 5ms/step - loss: 0.0045 - mae: 0.0365 - val_loss: 0.0051 - val_mae: 0.0460 - lr: 5.0000e-05\n",
            "Epoch 33/100\n",
            "219/219 [==============================] - 1s 5ms/step - loss: 0.0045 - mae: 0.0366 - val_loss: 0.0051 - val_mae: 0.0452 - lr: 5.0000e-05\n",
            "Epoch 34/100\n",
            "219/219 [==============================] - 1s 5ms/step - loss: 0.0044 - mae: 0.0363 - val_loss: 0.0051 - val_mae: 0.0456 - lr: 5.0000e-05\n",
            "Epoch 35/100\n",
            "219/219 [==============================] - 1s 5ms/step - loss: 0.0044 - mae: 0.0363 - val_loss: 0.0051 - val_mae: 0.0458 - lr: 5.0000e-05\n",
            "Epoch 36/100\n",
            "219/219 [==============================] - 1s 5ms/step - loss: 0.0044 - mae: 0.0361 - val_loss: 0.0051 - val_mae: 0.0452 - lr: 5.0000e-05\n",
            "Epoch 37/100\n",
            "219/219 [==============================] - 1s 5ms/step - loss: 0.0044 - mae: 0.0360 - val_loss: 0.0051 - val_mae: 0.0450 - lr: 5.0000e-05\n",
            "Epoch 38/100\n",
            "219/219 [==============================] - 1s 5ms/step - loss: 0.0044 - mae: 0.0360 - val_loss: 0.0051 - val_mae: 0.0458 - lr: 5.0000e-05\n",
            "Epoch 39/100\n",
            "219/219 [==============================] - 1s 5ms/step - loss: 0.0044 - mae: 0.0360 - val_loss: 0.0051 - val_mae: 0.0451 - lr: 5.0000e-05\n",
            "Epoch 40/100\n",
            "219/219 [==============================] - 1s 5ms/step - loss: 0.0044 - mae: 0.0359 - val_loss: 0.0050 - val_mae: 0.0449 - lr: 5.0000e-05\n",
            "Epoch 41/100\n",
            "219/219 [==============================] - 1s 5ms/step - loss: 0.0043 - mae: 0.0359 - val_loss: 0.0050 - val_mae: 0.0451 - lr: 5.0000e-05\n",
            "Epoch 42/100\n",
            "219/219 [==============================] - 1s 5ms/step - loss: 0.0043 - mae: 0.0356 - val_loss: 0.0051 - val_mae: 0.0458 - lr: 5.0000e-05\n",
            "Epoch 43/100\n",
            "219/219 [==============================] - 1s 5ms/step - loss: 0.0043 - mae: 0.0358 - val_loss: 0.0051 - val_mae: 0.0453 - lr: 5.0000e-05\n",
            "Epoch 44/100\n",
            "219/219 [==============================] - 1s 5ms/step - loss: 0.0043 - mae: 0.0356 - val_loss: 0.0050 - val_mae: 0.0451 - lr: 5.0000e-05\n",
            "Epoch 45/100\n",
            "219/219 [==============================] - 1s 5ms/step - loss: 0.0043 - mae: 0.0357 - val_loss: 0.0051 - val_mae: 0.0458 - lr: 5.0000e-05\n"
          ]
        }
      ],
      "source": [
        "import tensorflow as tf\n",
        "from tensorflow.keras.models import Model\n",
        "from tensorflow.keras.layers import LSTM, Dense, Input\n",
        "from tensorflow.keras.optimizers import Adam\n",
        "from tensorflow.keras.callbacks import EarlyStopping, ReduceLROnPlateau\n",
        "from sklearn.model_selection import train_test_split\n",
        "\n",
        "\n",
        "\n",
        "# Define the input shape\n",
        "input_shape = X_all[0].shape\n",
        "output_shape = y_all.shape[1]\n",
        "print('Input shape:', input_shape)\n",
        "\n",
        "# Define the LSTM-based neural network\n",
        "inputs = Input(shape=input_shape)\n",
        "lstm_layer = LSTM(256)(inputs)\n",
        "dense = Dense(128, activation='relu')(lstm_layer)\n",
        "dense = Dense(64, activation='relu')(dense)\n",
        "output = Dense(output_shape, 'linear')(dense)\n",
        "\n",
        "# Create the model\n",
        "model = Model(inputs=inputs, outputs=output)\n",
        "\n",
        "# Compile the model\n",
        "model.compile(optimizer=Adam(learning_rate=0.00005), loss='mse', metrics=['mae'])\n",
        "\n",
        "# Train the model\n",
        "X_train, X_test, y_train, y_test = train_test_split(X_all, y_all, test_size=0.2, shuffle=False)\n",
        "\n",
        "# Callbacks\n",
        "early_stopping=EarlyStopping(patience=5)\n",
        "reduce_lr = ReduceLROnPlateau(monitor='val_loss', factor=0.2, patience=2, min_lr=0.0001)\n",
        "\n",
        "\n",
        "history = model.fit(X_train, y_train, epochs=100, batch_size=128, validation_split=0.1, callbacks=[early_stopping, reduce_lr])"
      ]
    },
    {
      "cell_type": "code",
      "execution_count": 40,
      "metadata": {
        "colab": {
          "base_uri": "https://localhost:8080/",
          "height": 472
        },
        "executionInfo": {
          "elapsed": 3360,
          "status": "ok",
          "timestamp": 1711951637455,
          "user": {
            "displayName": "",
            "userId": ""
          },
          "user_tz": -120
        },
        "id": "PywNwAfOQHi6",
        "outputId": "dd1aa78c-0e53-4482-f845-bd22045ea984"
      },
      "outputs": [
        {
          "data": {
            "image/png": "[encoded data removed]",
            "text/plain": [
              "<Figure size 640x480 with 1 Axes>"
            ]
          },
          "metadata": {},
          "output_type": "display_data"
        }
      ],
      "source": [
        "# summarize history of absolute error\n",
        "plt.plot(history.history['mae'])\n",
        "plt.plot(history.history['val_mae'])\n",
        "plt.title('Model mean absolute error')\n",
        "plt.ylabel('mean absolute error')\n",
        "plt.xlabel('epoch')\n",
        "plt.legend(['train', 'validate'], loc='upper left')\n",
        "plt.show()"
      ]
    },
    {
      "cell_type": "code",
      "execution_count": 41,
      "metadata": {
        "colab": {
          "base_uri": "https://localhost:8080/",
          "height": 472
        },
        "executionInfo": {
          "elapsed": 266,
          "status": "ok",
          "timestamp": 1711951639273,
          "user": {
            "displayName": "",
            "userId": ""
          },
          "user_tz": -120
        },
        "id": "tZS6N-U3QMiJ",
        "outputId": "f1dbb33a-f374-4f66-9b93-91a13f40347c"
      },
      "outputs": [
        {
          "data": {
            "image/png": "[encoded data removed]",
            "text/plain": [
              "<Figure size 640x480 with 1 Axes>"
            ]
          },
          "metadata": {},
          "output_type": "display_data"
        }
      ],
      "source": [
        "# summarize history for loss\n",
        "plt.plot(history.history['loss'])\n",
        "plt.plot(history.history['val_loss'])\n",
        "plt.title('model loss')\n",
        "plt.ylabel('loss')\n",
        "plt.xlabel('epoch')\n",
        "plt.legend(['train', 'validate'], loc='upper left')\n",
        "plt.show()"
      ]
    },
    {
      "cell_type": "code",
      "execution_count": 30,
      "metadata": {
        "colab": {
          "base_uri": "https://localhost:8080/"
        },
        "executionInfo": {
          "elapsed": 1465,
          "status": "ok",
          "timestamp": 1711951249335,
          "user": {
            "displayName": "",
            "userId": ""
          },
          "user_tz": -120
        },
        "id": "kmEZspXOmsXB",
        "outputId": "c9fc9900-4f46-477b-d6cc-57fa91a41750"
      },
      "outputs": [
        {
          "name": "stdout",
          "output_type": "stream",
          "text": [
            "244/244 [==============================] - 1s 3ms/step\n"
          ]
        },
        {
          "data": {
            "text/plain": [
              "(7783, 8)"
            ]
          },
          "execution_count": 30,
          "metadata": {},
          "output_type": "execute_result"
        }
      ],
      "source": [
        "y_pred = model.predict(X_test)\n",
        "y_pred.shape"
      ]
    },
    {
      "cell_type": "code",
      "execution_count": 31,
      "metadata": {
        "colab": {
          "base_uri": "https://localhost:8080/"
        },
        "executionInfo": {
          "elapsed": 55,
          "status": "ok",
          "timestamp": 1711951249335,
          "user": {
            "displayName": "",
            "userId": ""
          },
          "user_tz": -120
        },
        "id": "zBT8eiXdvi4t",
        "outputId": "6e51839d-f691-4c25-f7fd-04a4e3bf5430"
      },
      "outputs": [
        {
          "name": "stderr",
          "output_type": "stream",
          "text": [
            "/usr/local/lib/python3.10/dist-packages/sklearn/base.py:439: UserWarning: X does not have valid feature names, but QuantileTransformer was fitted with feature names\n",
            "  warnings.warn(\n"
          ]
        }
      ],
      "source": [
        "def inverse_scale(col_trans, data):\n",
        "  data=data.copy()\n",
        "  for transformer in col_trans.transformers_:\n",
        "    if transformer[0] == 'rb_scaler':\n",
        "      columns_rb = col_trans.output_indices_['rb_scaler']\n",
        "      data[:, columns_rb] = transformer[1].inverse_transform(data[:, columns_rb])\n",
        "\n",
        "    elif transformer[0] == 'mm_scaler':\n",
        "        columns_mm = col_trans.output_indices_['mm_scaler']\n",
        "        data[:, columns_mm] = transformer[1].inverse_transform(data[:, columns_mm])\n",
        "\n",
        "    elif transformer[0] == 'qt_scaler':\n",
        "        columns = col_trans.output_indices_['qt_scaler']\n",
        "        data[:, columns] = transformer[1].inverse_transform(data[:, columns])\n",
        "\n",
        "    elif transformer[0] == 'time':\n",
        "        pass\n",
        "  return data\n",
        "\n",
        "i_scaled = inverse_scale(col_trans, y_pred)"
      ]
    },
    {
      "cell_type": "code",
      "execution_count": 32,
      "metadata": {
        "colab": {
          "base_uri": "https://localhost:8080/"
        },
        "executionInfo": {
          "elapsed": 44,
          "status": "ok",
          "timestamp": 1711951249336,
          "user": {
            "displayName": "",
            "userId": ""
          },
          "user_tz": -120
        },
        "id": "LpRkk5OT2PvQ",
        "outputId": "3da5577d-7c96-4a61-bdb6-9521b9713404"
      },
      "outputs": [
        {
          "name": "stdout",
          "output_type": "stream",
          "text": [
            "[[ 14.457574    16.249966    16.058212    15.52568    100.08977\n",
            "  100.282906     8.813182     1.7078595 ]\n",
            " [  8.215238     8.642453     8.950291     8.8         47.75905\n",
            "   84.174       12.882218     2.894974  ]\n",
            " [ 13.414101    14.540324    14.078204    14.103587   128.37793\n",
            "   63.664932    14.399463     0.9587573 ]\n",
            " [  8.597056     8.913413     9.302604     8.93943     86.30782\n",
            "   74.165825    12.995658     1.7640088 ]\n",
            " [  3.75         6.552568     8.75         9.810975   107.095245\n",
            "   86.19945      6.5142913    1.2672461 ]\n",
            " [ 11.857847    12.323437    12.5589485   12.388949   181.98561\n",
            "   60.07269     17.312769     0.91798925]\n",
            " [  5.75        10.997956    14.271499    15.947816    54.409218\n",
            "   83.68478     10.622139     1.11573   ]\n",
            " [ 12.807464    13.89099     13.961791    13.757063   211.36375\n",
            "   91.831635    10.721003     0.9888563 ]\n",
            " [  5.81059      6.4496737    6.65135      6.5487204   88.60811\n",
            "   58.638557     7.7802925    1.9344269 ]\n",
            " [  5.1          6.1          6.845736     6.9810433   86.47067\n",
            "   91.68015     10.602178     0.8811691 ]]\n"
          ]
        }
      ],
      "source": [
        "print(i_scaled[:10])"
      ]
    },
    {
      "cell_type": "code",
      "execution_count": 33,
      "metadata": {
        "colab": {
          "base_uri": "https://localhost:8080/"
        },
        "executionInfo": {
          "elapsed": 37,
          "status": "ok",
          "timestamp": 1711951249336,
          "user": {
            "displayName": "",
            "userId": ""
          },
          "user_tz": -120
        },
        "id": "5luRJvhV7n_t",
        "outputId": "d8e55512-9c75-47c8-e043-6645efcea337"
      },
      "outputs": [
        {
          "name": "stderr",
          "output_type": "stream",
          "text": [
            "/usr/local/lib/python3.10/dist-packages/sklearn/base.py:439: UserWarning: X does not have valid feature names, but QuantileTransformer was fitted with feature names\n",
            "  warnings.warn(\n"
          ]
        }
      ],
      "source": [
        "y_is = inverse_scale(col_trans, y_test)"
      ]
    },
    {
      "cell_type": "code",
      "execution_count": 34,
      "metadata": {
        "colab": {
          "base_uri": "https://localhost:8080/"
        },
        "executionInfo": {
          "elapsed": 29,
          "status": "ok",
          "timestamp": 1711951249336,
          "user": {
            "displayName": "",
            "userId": ""
          },
          "user_tz": -120
        },
        "id": "I50ts7STgjwo",
        "outputId": "a90ddc4b-a3e9-4211-bc3c-ec1a27122f07"
      },
      "outputs": [
        {
          "name": "stdout",
          "output_type": "stream",
          "text": [
            "(7783, 39)\n"
          ]
        }
      ],
      "source": [
        "x_last = [x[-1] for x in X_test]\n",
        "x_last = np.array(x_last)\n",
        "print(x_last.shape)"
      ]
    },
    {
      "cell_type": "code",
      "execution_count": 35,
      "metadata": {
        "executionInfo": {
          "elapsed": 23,
          "status": "ok",
          "timestamp": 1711951249336,
          "user": {
            "displayName": "",
            "userId": ""
          },
          "user_tz": -120
        },
        "id": "OZ1diafVhVAO"
      },
      "outputs": [],
      "source": [
        "x_last = x_last[:, :8]"
      ]
    },
    {
      "cell_type": "code",
      "execution_count": 36,
      "metadata": {
        "colab": {
          "base_uri": "https://localhost:8080/"
        },
        "executionInfo": {
          "elapsed": 21,
          "status": "ok",
          "timestamp": 1711951249337,
          "user": {
            "displayName": "",
            "userId": ""
          },
          "user_tz": -120
        },
        "id": "eG9aCf1ZhysH",
        "outputId": "4feabb24-43ef-44c2-adbf-279e991478e6"
      },
      "outputs": [
        {
          "name": "stderr",
          "output_type": "stream",
          "text": [
            "/usr/local/lib/python3.10/dist-packages/sklearn/base.py:439: UserWarning: X does not have valid feature names, but QuantileTransformer was fitted with feature names\n",
            "  warnings.warn(\n"
          ]
        }
      ],
      "source": [
        "x_last = inverse_scale(col_trans, x_last)"
      ]
    },
    {
      "cell_type": "code",
      "execution_count": 37,
      "metadata": {
        "colab": {
          "base_uri": "https://localhost:8080/"
        },
        "executionInfo": {
          "elapsed": 17,
          "status": "ok",
          "timestamp": 1711951249338,
          "user": {
            "displayName": "",
            "userId": ""
          },
          "user_tz": -120
        },
        "id": "vaZPSyYrNM1n",
        "outputId": "769a2323-64f6-4765-efeb-71cd29bd0748"
      },
      "outputs": [
        {
          "name": "stdout",
          "output_type": "stream",
          "text": [
            "Prediction error:  2.6906716969735567\n",
            "Baseline error:  1.995467255033216 \n",
            "\n",
            "Prediction error:  3.110607351161557\n",
            "Baseline error:  2.1930814793215223 \n",
            "\n",
            "Prediction error:  3.2142617426917126\n",
            "Baseline error:  2.349750957643961 \n",
            "\n",
            "Prediction error:  2.8619999162531524\n",
            "Baseline error:  2.436548709765496 \n",
            "\n",
            "Prediction error:  19.680200123682575\n",
            "Baseline error:  19.737364487245635 \n",
            "\n",
            "Prediction error:  0.9740989109846311\n",
            "Baseline error:  0.5404261473836026 \n",
            "\n",
            "Prediction error:  0.32956230867915465\n",
            "Baseline error:  0.11076225747808043 \n",
            "\n",
            "Prediction error:  0.15862823348399005\n",
            "Baseline error:  0.06532836880951362 \n",
            "\n"
          ]
        }
      ],
      "source": [
        "abs_errors = abs(i_scaled - y_is)\n",
        "abs_errors_base = abs(x_last - y_is)\n",
        "for i in range(8):\n",
        "  print('Prediction error: ', abs_errors[:, i].mean())\n",
        "  print('Baseline error: ', abs_errors_base[:, i].mean(), '\\n')"
      ]
    }
  ],
  "metadata": {
    "colab": {
      "name": "train_model_5min_all_qt.ipynb",
      "provenance": []
    },
    "kernelspec": {
      "display_name": ".venv",
      "language": "python",
      "name": "python3"
    },
    "language_info": {
      "codemirror_mode": {
        "name": "ipython",
        "version": 3
      },
      "file_extension": ".py",
      "mimetype": "text/x-python",
      "name": "python",
      "nbconvert_exporter": "python",
      "pygments_lexer": "ipython3",
      "version": "3.11.3"
    }
  },
  "nbformat": 4,
  "nbformat_minor": 0
}
